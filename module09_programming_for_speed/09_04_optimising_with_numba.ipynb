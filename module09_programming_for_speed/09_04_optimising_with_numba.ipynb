{
 "cells": [
  {
   "cell_type": "markdown",
   "id": "89416ea9",
   "metadata": {},
   "source": [
    "# 9.5 Optimising with Numba"
   ]
  },
  {
   "cell_type": "markdown",
   "id": "e550c95f",
   "metadata": {},
   "source": [
    "*Estimated time for this notebook: 15 minutes*"
   ]
  },
  {
   "cell_type": "markdown",
   "id": "bab73204",
   "metadata": {},
   "source": [
    "We saw that we can use Cython to get an approximate 40x speed up when compared to pure Python.\n",
    "However, this comes with the cost of having to substantially rewrite the Python code to use C syntax.\n",
    "An alternative is to use [numba](https://numba.pydata.org/), an open source just-in-time compiler that translates a subset of Python and NumPy code into fast machine code."
   ]
  },
  {
   "cell_type": "markdown",
   "id": "8384e1a7",
   "metadata": {},
   "source": [
    "Let's start by reproducing the pure-Python implementation from earlier."
   ]
  },
  {
   "cell_type": "code",
   "execution_count": 4,
   "id": "87bc710e",
   "metadata": {},
   "outputs": [],
   "source": [
    "xmin = -1.5\n",
    "ymin = -1.0\n",
    "xmax = 0.5\n",
    "ymax = 1.0\n",
    "resolution = 300\n",
    "xstep = (xmax - xmin) / resolution\n",
    "ystep = (ymax - ymin) / resolution\n",
    "xs = [(xmin + xstep * i) for i in range(resolution)]\n",
    "ys = [(ymin + ystep * i) for i in range(resolution)]"
   ]
  },
  {
   "cell_type": "code",
   "execution_count": 5,
   "id": "74d4db87",
   "metadata": {},
   "outputs": [],
   "source": [
    "def mandel(constant, max_iterations=50):\n",
    "    \"\"\"Computes the values of the series for up to a maximum number of iterations. \n",
    "    \n",
    "    The function stops when the absolute value of the series surpasses 2 or when it reaches the maximum \n",
    "    number of iterations.\n",
    "    \n",
    "    Returns the number of iterations.\n",
    "    \"\"\"\n",
    "    \n",
    "    value = 0\n",
    "\n",
    "    counter = 0\n",
    "    while counter < max_iterations:\n",
    "        if abs(value) > 2:\n",
    "            break\n",
    "\n",
    "        value = (value * value) + constant\n",
    "\n",
    "        counter = counter + 1\n",
    "\n",
    "    return counter\n",
    "\n",
    "\n",
    "assert mandel(0) == 50\n",
    "assert mandel(3) == 1\n",
    "assert mandel(0.5) == 5"
   ]
  },
  {
   "cell_type": "code",
   "execution_count": 6,
   "id": "19dd5ca0",
   "metadata": {
    "scrolled": true
   },
   "outputs": [
    {
     "name": "stdout",
     "output_type": "stream",
     "text": [
      "466 ms ± 16.5 ms per loop (mean ± std. dev. of 7 runs, 1 loop each)\n"
     ]
    }
   ],
   "source": [
    "%%timeit\n",
    "# pure python\n",
    "[[mandel(x + 1j* y) for x in xs] for y in ys]"
   ]
  },
  {
   "cell_type": "markdown",
   "id": "e12d0f24",
   "metadata": {},
   "source": [
    "## Single value numba implementation\n",
    "\n",
    "Now let's look at a numba implementation for a single value.\n",
    "We add a Numba decorator to the pure-Python implementation.\n",
    "Note that ```@njit``` is equivalent to ```@jit(nopython=True)```."
   ]
  },
  {
   "cell_type": "code",
   "execution_count": 111,
   "id": "eebc1d34",
   "metadata": {},
   "outputs": [],
   "source": [
    "import numpy as np\n",
    "from matplotlib import pyplot as plt\n",
    "from numba import njit\n",
    "\n",
    "# plt.set_cmap(\"cividis\")  # use a CVD-friendly palette"
   ]
  },
  {
   "cell_type": "code",
   "execution_count": 12,
   "id": "b2f16187",
   "metadata": {},
   "outputs": [],
   "source": [
    "@njit\n",
    "def mandel_numba(constant, max_iterations=50):\n",
    "    \"\"\"Computes the values of the series for up to a maximum number of iterations. \n",
    "    \n",
    "    The function stops when the absolute value of the series surpasses 2 or when it reaches the maximum \n",
    "    number of iterations.\n",
    "    \n",
    "    Returns the number of iterations.\n",
    "    \"\"\"\n",
    "    \n",
    "    value = 0\n",
    "\n",
    "    counter = 0\n",
    "    while counter < max_iterations:\n",
    "        if abs(value) > 2:\n",
    "            break\n",
    "\n",
    "        value = (value * value) + constant\n",
    "\n",
    "        counter = counter + 1\n",
    "\n",
    "    return counter"
   ]
  },
  {
   "cell_type": "markdown",
   "id": "28039711",
   "metadata": {},
   "source": [
    "Note that `numba` will compile the function the first time we invoke it, so the first call will be notably slower than the rest."
   ]
  },
  {
   "cell_type": "code",
   "execution_count": 13,
   "id": "52500ee8",
   "metadata": {},
   "outputs": [
    {
     "name": "stdout",
     "output_type": "stream",
     "text": [
      "Time taken for first call 0.5669119358062744s\n"
     ]
    }
   ],
   "source": [
    "import time\n",
    "\n",
    "start = time.time()\n",
    "mandel_numba(complex(0, 0))\n",
    "print(f\"Time taken for first call {time.time() - start}s\")"
   ]
  },
  {
   "cell_type": "code",
   "execution_count": 14,
   "id": "08331a66-3f57-4b10-a649-8d8a9bd59770",
   "metadata": {},
   "outputs": [],
   "source": [
    "assert mandel_numba(0) == 50\n",
    "assert mandel_numba(3) == 1\n",
    "assert mandel_numba(0.5) == 5"
   ]
  },
  {
   "cell_type": "code",
   "execution_count": 16,
   "id": "d108772f",
   "metadata": {},
   "outputs": [
    {
     "name": "stdout",
     "output_type": "stream",
     "text": [
      "50.8 ms ± 3.01 ms per loop (mean ± std. dev. of 7 runs, 10 loops each)\n"
     ]
    }
   ],
   "source": [
    "%%timeit\n",
    "# Simple numba\n",
    "[[mandel_numba(x + 1j* y) for x in xs] for y in ys]"
   ]
  },
  {
   "cell_type": "markdown",
   "id": "c8ab454b",
   "metadata": {},
   "source": [
    "This provides an approximately 10x increase in performance compared to the pure-Python implementation."
   ]
  },
  {
   "cell_type": "code",
   "execution_count": 8,
   "id": "82a2f9e1",
   "metadata": {},
   "outputs": [
    {
     "data": {
      "text/plain": [
       "<matplotlib.image.AxesImage at 0x119897fd0>"
      ]
     },
     "execution_count": 8,
     "metadata": {},
     "output_type": "execute_result"
    },
    {
     "data": {
      "image/png": "[encoded data removed]",
      "text/plain": [
       "<Figure size 432x288 with 1 Axes>"
      ]
     },
     "metadata": {
      "needs_background": "light"
     },
     "output_type": "display_data"
    }
   ],
   "source": [
    "data_numba = [[mandel_numba(complex(x, y)) for x in xs] for y in ys]\n",
    "plt.imshow(data_numba, interpolation=\"none\")"
   ]
  },
  {
   "cell_type": "markdown",
   "id": "b1937aac-de9f-44dc-a545-851b72b4fbd6",
   "metadata": {},
   "source": [
    "## Parallelisation with Multiprocessing\n",
    "\n",
    "Modern CPUs have more than one core. You can find out how many there are on your machine with"
   ]
  },
  {
   "cell_type": "code",
   "execution_count": 19,
   "id": "eee65a6a-0718-4968-9e32-82869ad300fa",
   "metadata": {},
   "outputs": [
    {
     "data": {
      "text/plain": [
       "12"
      ]
     },
     "execution_count": 19,
     "metadata": {},
     "output_type": "execute_result"
    }
   ],
   "source": [
    "from os import cpu_count\n",
    "cpu_count()"
   ]
  },
  {
   "cell_type": "code",
   "execution_count": 150,
   "id": "56ac06ec-7b16-456e-8d02-d16138012bf6",
   "metadata": {},
   "outputs": [
    {
     "name": "stdout",
     "output_type": "stream",
     "text": [
      "Overwriting sleeping.py\n"
     ]
    }
   ],
   "source": [
    "%%writefile sleeping.py\n",
    "from time import sleep\n",
    "\n",
    "def square(argument):\n",
    "    sleep(0.5)\n",
    "    return argument * argument"
   ]
  },
  {
   "cell_type": "code",
   "execution_count": 151,
   "id": "4bdfa068-292f-406f-8b38-29a26a0431d1",
   "metadata": {},
   "outputs": [
    {
     "data": {
      "text/plain": [
       "<module 'sleeping' from '/Users/istenson/code/turing/rse-course/module09_programming_for_speed/sleeping.py'>"
      ]
     },
     "execution_count": 151,
     "metadata": {},
     "output_type": "execute_result"
    }
   ],
   "source": [
    "import sleeping\n",
    "\n",
    "import importlib\n",
    "importlib.reload(sleeping)"
   ]
  },
  {
   "cell_type": "code",
   "execution_count": 152,
   "id": "6948f5ea-3b45-413f-af9e-87d48f2836d6",
   "metadata": {},
   "outputs": [],
   "source": [
    "assert list(map(sleeping.square, [0, 1, 2, 3])) == [0, 1, 4, 9]"
   ]
  },
  {
   "cell_type": "code",
   "execution_count": 153,
   "id": "436055e9-e7d0-427d-99e7-6e93c9bae004",
   "metadata": {},
   "outputs": [
    {
     "name": "stdout",
     "output_type": "stream",
     "text": [
      "4.52 s ± 306 µs per loop (mean ± std. dev. of 2 runs, 2 loops each)\n"
     ]
    }
   ],
   "source": [
    "%%timeit -n 2 -r 2\n",
    "list(map(sleeping.square, [0, 1, 2, 3, 4, 5, 6, 7, 8]))"
   ]
  },
  {
   "cell_type": "code",
   "execution_count": 154,
   "id": "cafcd810-2afc-4c2c-b695-530424f0a90d",
   "metadata": {},
   "outputs": [
    {
     "data": {
      "text/plain": [
       "[1, 4, 9, 16, 25, 36, 49, 64]"
      ]
     },
     "execution_count": 154,
     "metadata": {},
     "output_type": "execute_result"
    }
   ],
   "source": [
    "from multiprocessing import Pool\n",
    "with Pool(cpu_count()) as pool:\n",
    "    results = pool.map(\n",
    "        sleeping.square,\n",
    "        [1, 2, 3, 4, 5, 6, 7, 8]\n",
    "    )\n",
    "results"
   ]
  },
  {
   "cell_type": "code",
   "execution_count": 155,
   "id": "3b02958b-41ee-4ecb-ad3c-1a66ae48abe8",
   "metadata": {},
   "outputs": [
    {
     "name": "stdout",
     "output_type": "stream",
     "text": [
      "557 ms ± 4.97 ms per loop (mean ± std. dev. of 7 runs, 1 loop each)\n"
     ]
    }
   ],
   "source": [
    "%%timeit pool = Pool(cpu_count())\n",
    "\n",
    "pool.map(sleeping.square, [1, 2, 3, 4, 5, 6, 7, 8])"
   ]
  },
  {
   "cell_type": "code",
   "execution_count": 96,
   "id": "3d227ab1-3df5-41d7-9cf4-3e3afcd67c76",
   "metadata": {},
   "outputs": [],
   "source": [
    "pool.close()"
   ]
  },
  {
   "cell_type": "markdown",
   "id": "3f9e4d15-43c1-4d3f-a9be-39ab12ebc98b",
   "metadata": {},
   "source": [
    "## Exercise\n",
    "\n",
    "- Remove the call to `sleep()`\n",
    "- Reload the `sleeping` module \n",
    "- Run the `list(map(...))` vs `pool.map(...)` comparison again\n",
    "\n",
    "Which is faster, and by how much? Why?"
   ]
  },
  {
   "cell_type": "markdown",
   "id": "87190981",
   "metadata": {},
   "source": [
    "## Parallelisation with numba\n",
    "\n",
    "Similarly to `numpy`, `numba` has optimisations related to parallelisation.\n",
    "Let's see whether we can improve on the performance of `numpy_cython_1`, the best Cython solution we found earlier.\n",
    "If we are certain that there are no dependencies between different elements in a range, we can parallelize iteration by using the `prange` function."
   ]
  },
  {
   "cell_type": "code",
   "execution_count": 114,
   "id": "aad5b499-82de-4e8b-9691-025fdaead5dd",
   "metadata": {},
   "outputs": [],
   "source": [
    "def mandel_numpy(constants, max_iterations=50):\n",
    "    \"\"\"Computes the values of the series for up to a maximum number of iterations. \n",
    "    \n",
    "    The function stops values from exploding once diverged.\n",
    "    \n",
    "    Returns the number of iterations.\n",
    "    \"\"\"\n",
    "    \n",
    "    value = np.zeros(constants.shape)\n",
    "    # An array which keeps track of the first step at which each position diverged\n",
    "    diverged_at_count = np.ones(constants.shape)*max_iterations\n",
    "    counter = 0\n",
    "    while counter < max_iterations:\n",
    "        value = value*value + constants\n",
    "        diverging = abs(value) > 2\n",
    "        \n",
    "        # Any positions which are:\n",
    "        # - diverging\n",
    "        # - haven't diverged before\n",
    "        # are diverging for the first time\n",
    "        first_diverged_this_time = np.logical_and(\n",
    "            diverging,\n",
    "            diverged_at_count == max_iterations\n",
    "        )\n",
    "        \n",
    "        # Update diverged_at_count for all positions which first diverged at this step\n",
    "        diverged_at_count[first_diverged_this_time] = counter\n",
    "        # Reset any divergent values to exactly 2\n",
    "        value[diverging] = 2\n",
    "        counter = counter + 1\n",
    "\n",
    "    return diverged_at_count\n",
    "\n",
    "assert mandel_numpy(np.asarray([0])) == np.asarray([50])\n",
    "assert mandel_numpy(np.asarray([4])) == np.asarray([0])"
   ]
  },
  {
   "cell_type": "code",
   "execution_count": 125,
   "id": "3cf1f7c0-34a3-4857-9ed9-565ced672fe0",
   "metadata": {},
   "outputs": [
    {
     "data": {
      "text/plain": [
       "(-1.4866666666666666-0.9933333333333333j)"
      ]
     },
     "execution_count": 125,
     "metadata": {},
     "output_type": "execute_result"
    }
   ],
   "source": [
    "cs_listcomp = [[(x + y*1j) for x in xs] for y in ys]\n",
    "cs = np.asarray(cs_listcomp)"
   ]
  },
  {
   "cell_type": "code",
   "execution_count": 120,
   "id": "0c0f5474-854f-47d8-a186-351fc41c34e1",
   "metadata": {},
   "outputs": [
    {
     "name": "stdout",
     "output_type": "stream",
     "text": [
      "37.5 ms ± 3.29 ms per loop (mean ± std. dev. of 7 runs, 10 loops each)\n"
     ]
    }
   ],
   "source": [
    "%%timeit\n",
    "mandel_numpy(cs)"
   ]
  },
  {
   "cell_type": "code",
   "execution_count": 156,
   "id": "09012d39-c67a-4a68-8bd8-77d45d5c8202",
   "metadata": {},
   "outputs": [
    {
     "name": "stdout",
     "output_type": "stream",
     "text": [
      "Help on class prange in module numba.misc.special:\n",
      "\n",
      "class prange(builtins.object)\n",
      " |  prange(*args)\n",
      " |  \n",
      " |  Provides a 1D parallel iterator that generates a sequence of integers.\n",
      " |  In non-parallel contexts, prange is identical to range.\n",
      " |  \n",
      " |  Static methods defined here:\n",
      " |  \n",
      " |  __new__(cls, *args)\n",
      " |      Create and return a new object.  See help(type) for accurate signature.\n",
      " |  \n",
      " |  ----------------------------------------------------------------------\n",
      " |  Data descriptors defined here:\n",
      " |  \n",
      " |  __dict__\n",
      " |      dictionary for instance variables (if defined)\n",
      " |  \n",
      " |  __weakref__\n",
      " |      list of weak references to the object (if defined)\n",
      "\n"
     ]
    }
   ],
   "source": [
    "from numba import prange\n",
    "help(prange)"
   ]
  },
  {
   "cell_type": "code",
   "execution_count": 160,
   "id": "445ad681-342e-4141-908b-3216f3893973",
   "metadata": {},
   "outputs": [],
   "source": [
    "@njit(parallel=True)\n",
    "def mandel_numba_parallel(constants, max_iterations=50):\n",
    "    \"\"\"Computes the values of the series for up to a maximum number of iterations.\n",
    "    \n",
    "    Returns the number of iterations.\n",
    "    \"\"\"\n",
    "    xlim = constants.shape[1]\n",
    "    ylim = constants.shape[0]\n",
    "    \n",
    "    diverged_at_count = np.zeros((ylim, xlim))\n",
    "    \n",
    "    for y in prange(ylim):\n",
    "        for x in prange(xlim):\n",
    "            \n",
    "            value = 0\n",
    "            counter = 0\n",
    "            \n",
    "            while counter < max_iterations:\n",
    "                if abs(value) > 2:\n",
    "                    break\n",
    "\n",
    "                value = (value * value) + constants[y, x]\n",
    "\n",
    "                counter = counter + 1\n",
    "            \n",
    "            diverged_at_count[y, x] = counter\n",
    "\n",
    "    return diverged_at_count\n"
   ]
  },
  {
   "cell_type": "code",
   "execution_count": 161,
   "id": "7efece51-3c08-4c50-86f2-8e2defe11f77",
   "metadata": {},
   "outputs": [],
   "source": [
    "assert mandel_numba_parallel(np.asarray([[0]])) == np.asarray([[50]])\n",
    "assert mandel_numba_parallel(np.asarray([[4]])) == np.asarray([[1]])"
   ]
  },
  {
   "cell_type": "code",
   "execution_count": 162,
   "id": "541f0991-7c81-4d27-9cb1-91fcc19f6dea",
   "metadata": {},
   "outputs": [
    {
     "name": "stdout",
     "output_type": "stream",
     "text": [
      "2.15 ms ± 120 µs per loop (mean ± std. dev. of 7 runs, 1 loop each)\n"
     ]
    }
   ],
   "source": [
    "%%timeit\n",
    "mandel_numba_parallel(cs)"
   ]
  },
  {
   "cell_type": "code",
   "execution_count": 164,
   "id": "86e898c9-40b3-436e-a275-08e7c43c250e",
   "metadata": {},
   "outputs": [],
   "source": [
    "zs = mandel_numba_parallel(cs)"
   ]
  },
  {
   "cell_type": "code",
   "execution_count": 165,
   "id": "6cd10fc9-0264-43b0-a445-424dd5ed28f9",
   "metadata": {},
   "outputs": [
    {
     "data": {
      "text/plain": [
       "<matplotlib.colorbar.Colorbar at 0x12c7b65b0>"
      ]
     },
     "execution_count": 165,
     "metadata": {},
     "output_type": "execute_result"
    },
    {
     "data": {
      "image/png": "[encoded data removed]",
      "text/plain": [
       "<Figure size 432x288 with 2 Axes>"
      ]
     },
     "metadata": {
      "needs_background": "light"
     },
     "output_type": "display_data"
    }
   ],
   "source": [
    "plt.xlabel(\"Real\")\n",
    "plt.ylabel(\"Imaginary\")\n",
    "plt.imshow(\n",
    "    zs,\n",
    "    interpolation=\"none\",\n",
    "    extent=[xmin, xmax, ymin, ymax],\n",
    "    origin=\"lower\"\n",
    ")\n",
    "plt.colorbar()"
   ]
  },
  {
   "cell_type": "code",
   "execution_count": null,
   "id": "3d8a20a4-b326-4a04-a328-9cec975b91e8",
   "metadata": {},
   "outputs": [],
   "source": []
  },
  {
   "cell_type": "code",
   "execution_count": null,
   "id": "8d53af47-1b16-4118-b3e6-3a0167adb289",
   "metadata": {},
   "outputs": [],
   "source": []
  },
  {
   "cell_type": "code",
   "execution_count": null,
   "id": "e6393800-0543-45b3-8955-cac5a4d9c13b",
   "metadata": {},
   "outputs": [],
   "source": []
  },
  {
   "cell_type": "code",
   "execution_count": null,
   "id": "b96dcd2f-c06a-460d-8ede-5df769723125",
   "metadata": {},
   "outputs": [],
   "source": []
  },
  {
   "cell_type": "code",
   "execution_count": null,
   "id": "1d7414cc-0917-4fb9-9cce-d2e3e10be02a",
   "metadata": {},
   "outputs": [],
   "source": []
  },
  {
   "cell_type": "code",
   "execution_count": null,
   "id": "7a02c085-4cdb-409d-b4f8-c20ee41185cf",
   "metadata": {},
   "outputs": [],
   "source": []
  },
  {
   "cell_type": "code",
   "execution_count": null,
   "id": "1ec01b36-c466-4eac-8f16-a4c983e3cb7a",
   "metadata": {},
   "outputs": [],
   "source": [
    "## Self study (parallelising mandel)"
   ]
  },
  {
   "cell_type": "code",
   "execution_count": 16,
   "id": "db0b1ee9-664d-40b4-a33b-3421d579c102",
   "metadata": {},
   "outputs": [
    {
     "name": "stdout",
     "output_type": "stream",
     "text": [
      "300\n",
      "<class 'list'>\n"
     ]
    }
   ],
   "source": [
    "cs = [[(x + y*1j) for x in xs] for y in ys]\n",
    "print(len(cs))\n",
    "print(type(cs[0]))"
   ]
  },
  {
   "cell_type": "code",
   "execution_count": 18,
   "id": "03835503-5057-4d92-aabb-42e8f2e0abfa",
   "metadata": {},
   "outputs": [
    {
     "data": {
      "text/plain": [
       "<map at 0x11a2fc670>"
      ]
     },
     "execution_count": 18,
     "metadata": {},
     "output_type": "execute_result"
    }
   ],
   "source": [
    "map(len, cs[0:10])"
   ]
  },
  {
   "cell_type": "code",
   "execution_count": 20,
   "id": "d0ead4fd-8e92-421d-b464-49bd94eec5e7",
   "metadata": {},
   "outputs": [
    {
     "data": {
      "text/plain": [
       "[300, 300, 300, 300, 300, 300, 300, 300, 300, 300]"
      ]
     },
     "execution_count": 20,
     "metadata": {},
     "output_type": "execute_result"
    }
   ],
   "source": [
    "list(map(len, cs[0:10]))"
   ]
  },
  {
   "cell_type": "code",
   "execution_count": 42,
   "id": "659ffc01-2c06-43da-b87d-a8d9d1bb3fde",
   "metadata": {},
   "outputs": [
    {
     "name": "stdout",
     "output_type": "stream",
     "text": [
      "Overwriting mandelrow.py\n"
     ]
    }
   ],
   "source": [
    "%%writefile mandelrow.py\n",
    "def mandel(position, limit=50):\n",
    "    value = position\n",
    "    while abs(value) < 2:\n",
    "        limit -= 1\n",
    "        value = value**2 + position\n",
    "        if limit < 0:\n",
    "            return 0\n",
    "    return limit\n",
    "\n",
    "def mandel_row(row):\n",
    "    \"\"\"Apply mandel to a row.\"\"\"\n",
    "    return [mandel(cell) for cell in row]\n",
    "\n",
    "assert mandel_row([1, 2, 3]) == [49, 50, 50]"
   ]
  },
  {
   "cell_type": "code",
   "execution_count": 43,
   "id": "6b299c1b-ea16-4f60-bfff-d5198fd7e438",
   "metadata": {},
   "outputs": [],
   "source": [
    "from mandelrow import mandel_row"
   ]
  },
  {
   "cell_type": "code",
   "execution_count": 44,
   "id": "47b3dcc2-5761-4b8d-b690-62de203b4d62",
   "metadata": {},
   "outputs": [
    {
     "name": "stdout",
     "output_type": "stream",
     "text": [
      "644 ms ± 9.71 ms per loop (mean ± std. dev. of 7 runs, 1 loop each)\n"
     ]
    }
   ],
   "source": [
    "%%timeit\n",
    "zs = list(map(mandel_row, cs))"
   ]
  },
  {
   "cell_type": "code",
   "execution_count": 45,
   "id": "7e8fa13d-8151-45b0-a3a5-5f0aa2848462",
   "metadata": {},
   "outputs": [
    {
     "data": {
      "text/plain": [
       "<matplotlib.colorbar.Colorbar at 0x119cd3070>"
      ]
     },
     "execution_count": 45,
     "metadata": {},
     "output_type": "execute_result"
    },
    {
     "data": {
      "image/png": "[encoded data removed]",
      "text/plain": [
       "<Figure size 432x288 with 2 Axes>"
      ]
     },
     "metadata": {
      "needs_background": "light"
     },
     "output_type": "display_data"
    }
   ],
   "source": [
    "plt.set_cmap(\"cividis\")  # use a color vision deficiency-friendly palette\n",
    "plt.xlabel(\"Real\")\n",
    "plt.ylabel(\"Imaginary\")\n",
    "plt.imshow(\n",
    "    zs,\n",
    "    interpolation=\"none\",\n",
    "    extent=[xmin, xmax, ymin, ymax],\n",
    "    origin=\"lower\"\n",
    ")\n",
    "plt.colorbar()"
   ]
  },
  {
   "cell_type": "code",
   "execution_count": null,
   "id": "54dbf2e5-428f-4730-b5a5-b4d9b4b26f7c",
   "metadata": {},
   "outputs": [],
   "source": []
  },
  {
   "cell_type": "code",
   "execution_count": null,
   "id": "1f64f633-2b8c-4e8e-9ba6-bd34a56cc545",
   "metadata": {},
   "outputs": [],
   "source": []
  },
  {
   "cell_type": "code",
   "execution_count": null,
   "id": "638b9b5d-3357-448c-9180-c9b7ced15b89",
   "metadata": {},
   "outputs": [],
   "source": []
  },
  {
   "cell_type": "code",
   "execution_count": null,
   "id": "9cc4bb9d-94a2-45a6-a16b-786931f95c01",
   "metadata": {},
   "outputs": [],
   "source": []
  },
  {
   "cell_type": "code",
   "execution_count": null,
   "id": "904dcf93-07ec-4ba8-aca8-b391885210cc",
   "metadata": {},
   "outputs": [],
   "source": []
  },
  {
   "cell_type": "code",
   "execution_count": null,
   "id": "7ed43f3a-571b-4516-9a3a-8d029d6e48b7",
   "metadata": {},
   "outputs": [],
   "source": []
  },
  {
   "cell_type": "code",
   "execution_count": 52,
   "id": "a8ca5024-bd8b-4fb2-a07b-a0751657e6c6",
   "metadata": {},
   "outputs": [],
   "source": [
    "with Pool(cpu_count()) as pool:\n",
    "    p_zs = pool.map(mandel_row, cs)"
   ]
  },
  {
   "cell_type": "code",
   "execution_count": 53,
   "id": "720d87b6-59b7-45d3-999c-92253b0a0d90",
   "metadata": {},
   "outputs": [
    {
     "name": "stdout",
     "output_type": "stream",
     "text": [
      "156 ms ± 5.94 ms per loop (mean ± std. dev. of 7 runs, 10 loops each)\n"
     ]
    }
   ],
   "source": [
    "%%timeit pool = Pool(cpu_count())\n",
    "\n",
    "p_zs = pool.map(mandel_row, cs)"
   ]
  },
  {
   "cell_type": "code",
   "execution_count": 56,
   "id": "50473091-2182-4522-a1be-4a5e1e321ad5",
   "metadata": {},
   "outputs": [],
   "source": [
    "pool.close()"
   ]
  },
  {
   "cell_type": "code",
   "execution_count": 55,
   "id": "c99504c4-7ffd-483e-9122-c336eb0471cf",
   "metadata": {},
   "outputs": [
    {
     "data": {
      "text/plain": [
       "<matplotlib.colorbar.Colorbar at 0x12c4421c0>"
      ]
     },
     "execution_count": 55,
     "metadata": {},
     "output_type": "execute_result"
    },
    {
     "data": {
      "image/png": "[encoded data removed]",
      "text/plain": [
       "<Figure size 432x288 with 2 Axes>"
      ]
     },
     "metadata": {
      "needs_background": "light"
     },
     "output_type": "display_data"
    }
   ],
   "source": [
    "plt.set_cmap(\"cividis\")  # use a color vision deficiency-friendly palette\n",
    "plt.xlabel(\"Real\")\n",
    "plt.ylabel(\"Imaginary\")\n",
    "plt.imshow(\n",
    "    p_zs,\n",
    "    interpolation=\"none\",\n",
    "    extent=[xmin, xmax, ymin, ymax],\n",
    "    origin=\"lower\"\n",
    ")\n",
    "plt.colorbar()"
   ]
  }
 ],
 "metadata": {
  "kernelspec": {
   "display_name": "Python 3 (ipykernel)",
   "language": "python",
   "name": "python3"
  },
  "language_info": {
   "codemirror_mode": {
    "name": "ipython",
    "version": 3
   },
   "file_extension": ".py",
   "mimetype": "text/x-python",
   "name": "python",
   "nbconvert_exporter": "python",
   "pygments_lexer": "ipython3",
   "version": "3.9.7"
  }
 },
 "nbformat": 4,
 "nbformat_minor": 5
}
