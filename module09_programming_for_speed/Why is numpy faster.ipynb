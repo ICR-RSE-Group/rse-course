{
 "cells": [
  {
   "cell_type": "markdown",
   "id": "ed273cb8",
   "metadata": {},
   "source": [
    "# Why numpy arrays can be faster"
   ]
  },
  {
   "cell_type": "markdown",
   "id": "bd9ed47c",
   "metadata": {},
   "source": [
    "### Data structure\n",
    "\n",
    "- An **array** is a collection of homogeneous data-types that are stored in contiguous memory locations. \n",
    "- On the other hand, a **list** in Python is a collection of heterogeneous data types stored in non-contiguous memory locations.\n",
    "- The flexibility of lists comes at a cost: to allow these flexible (dynamic) types, each item is a complete Python object and contains its own type info, reference count, and other information. \n",
    "- In numpy arrays, the variables are of the same (fixed) type, so a lot of this information is redundant.\n",
    "\n",
    "\n",
    "![memory](https://jakevdp.github.io/PythonDataScienceHandbook/figures/array_vs_list.png)\n",
    "\n",
    "- For the the array, we have a single pointer to one contiguous block of data. \n",
    "- The Python list is a pointer to a block of pointers. Each of these pointers points to a Python object. All the extra information needs to be stored.\n",
    "- Fixed-type NumPy-style arrays lack this flexibility, but are much more efficient for storing and manipulating data."
   ]
  },
  {
   "cell_type": "markdown",
   "id": "e8ef709a",
   "metadata": {},
   "source": [
    "### Operations in C\n",
    "\n",
    "- Numpy data structure is \"C-compatible\"\n",
    "- Many `numpy` operations are directly implemented in C.\n",
    "- Have less execution time, e.g. no dynamic type checks required. \n"
   ]
  },
  {
   "cell_type": "markdown",
   "id": "cdd9a184",
   "metadata": {},
   "source": [
    "### Vectorisation\n",
    "- Operations can be _vectorised_ and performed in parallel. If we want to multiply an array `[2, 4, 6, 8]` by 2, Python typically have to perform 4 computations, one after another.\n",
    "- Numpy can vectorise this by multiplying `[2, 4, 6, 8]` with `[2, 2, 2, 2]` and all 4 computations are performed at the same time."
   ]
  }
 ],
 "metadata": {
  "kernelspec": {
   "display_name": "Python 3 (ipykernel)",
   "language": "python",
   "name": "python3"
  },
  "language_info": {
   "codemirror_mode": {
    "name": "ipython",
    "version": 3
   },
   "file_extension": ".py",
   "mimetype": "text/x-python",
   "name": "python",
   "nbconvert_exporter": "python",
   "pygments_lexer": "ipython3",
   "version": "3.7.13"
  }
 },
 "nbformat": 4,
 "nbformat_minor": 5
}
