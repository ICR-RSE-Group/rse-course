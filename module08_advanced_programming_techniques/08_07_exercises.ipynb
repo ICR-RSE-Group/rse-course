{
 "cells": [
  {
   "cell_type": "markdown",
   "metadata": {},
   "source": [
    "# 8.7 Exercises"
   ]
  },
  {
   "cell_type": "markdown",
   "metadata": {},
   "source": [
    "## 1) Iterators and generators"
   ]
  },
  {
   "cell_type": "markdown",
   "metadata": {},
   "source": [
    "Write your own version of the `range` iterator. If we call it `range2`, then `range2(10)` should return an iterator such that repeatedly calling `next` on it yields the numbers from 0 to 9, and then terminates. Do this both\n",
    "1. as a class with `__iter__` and `__next__` methods.\n",
    "2. as a generator, using the `yield` statement."
   ]
  }
 ],
 "metadata": {
  "jekyll": {
   "display_name": "Operator Overloading (example)"
  },
  "kernelspec": {
   "display_name": "Python 3 (ipykernel)",
   "language": "python",
   "name": "python3"
  },
  "language_info": {
   "codemirror_mode": {
    "name": "ipython",
    "version": 3
   },
   "file_extension": ".py",
   "mimetype": "text/x-python",
   "name": "python",
   "nbconvert_exporter": "python",
   "pygments_lexer": "ipython3",
   "version": "3.10.8"
  }
 },
 "nbformat": 4,
 "nbformat_minor": 1
}
