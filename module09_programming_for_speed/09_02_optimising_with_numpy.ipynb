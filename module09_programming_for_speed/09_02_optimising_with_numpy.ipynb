{
 "cells": [
  {
   "cell_type": "markdown",
   "metadata": {},
   "source": [
    "# 9.2 Optimising with NumPy"
   ]
  },
  {
   "cell_type": "markdown",
   "metadata": {},
   "source": [
    "*Estimated time for this notebook: 30 minutes*"
   ]
  },
  {
   "cell_type": "markdown",
   "metadata": {},
   "source": [
    "If we have our values in a numpy `ndarray`, we apply operations to each element in the array in one go, without having to loop over it. "
   ]
  },
  {
   "cell_type": "markdown",
   "metadata": {},
   "source": [
    "## 9.2.1 Operations on arrays\n",
    "\n",
    "First, we want a `ndarray` containing the complex values that we previously used as input to our function."
   ]
  },
  {
   "cell_type": "code",
   "execution_count": 1,
   "metadata": {},
   "outputs": [],
   "source": [
    "xmin = -1.5\n",
    "ymin = -1.0\n",
    "xmax = 0.5\n",
    "ymax = 1.0\n",
    "resolution = 300\n",
    "xstep = (xmax - xmin) / resolution\n",
    "ystep = (ymax - ymin) / resolution\n",
    "xs = [(xmin + xstep * i) for i in range(resolution)]\n",
    "ys = [(ymin + ystep * i) for i in range(resolution)]\n",
    "# list with complex values\n",
    "cs_listcomp = [[(x + y*1j) for x in xs] for y in ys]"
   ]
  },
  {
   "cell_type": "code",
   "execution_count": 2,
   "metadata": {},
   "outputs": [],
   "source": [
    "import numpy as np"
   ]
  },
  {
   "cell_type": "code",
   "execution_count": 3,
   "metadata": {},
   "outputs": [],
   "source": [
    "cs = np.asarray(cs_listcomp)"
   ]
  },
  {
   "cell_type": "code",
   "execution_count": 4,
   "metadata": {},
   "outputs": [
    {
     "data": {
      "text/plain": [
       "(300, 300)"
      ]
     },
     "execution_count": 4,
     "metadata": {},
     "output_type": "execute_result"
    }
   ],
   "source": [
    "cs.shape"
   ]
  },
  {
   "cell_type": "markdown",
   "metadata": {},
   "source": [
    "We now want to compare adding a constant to every element of the array by \n",
    "1) using a for loop\n",
    "2) using numpy operators."
   ]
  },
  {
   "cell_type": "code",
   "execution_count": 5,
   "metadata": {},
   "outputs": [],
   "source": [
    "# we need to make copies of array to avoid overwriting it\n",
    "cs_loop = cs.copy()\n",
    "cs_numpy = cs.copy()"
   ]
  },
  {
   "cell_type": "code",
   "execution_count": 6,
   "metadata": {},
   "outputs": [
    {
     "name": "stdout",
     "output_type": "stream",
     "text": [
      "52.9 ms ± 958 µs per loop (mean ± std. dev. of 7 runs, 10 loops each)\n"
     ]
    }
   ],
   "source": [
    "%%timeit \n",
    "for i in range(cs_loop.shape[0]):\n",
    "    for j in range(cs_loop.shape[1]):\n",
    "        cs_loop[i][j] = cs_loop[i][j] + 10"
   ]
  },
  {
   "cell_type": "markdown",
   "metadata": {},
   "source": [
    "Sometimes, you can use operators such as `+` as if we were dealing with single values. This is because the Numpy ndarrays have overridden the `__add__` operation."
   ]
  },
  {
   "cell_type": "code",
   "execution_count": 7,
   "metadata": {},
   "outputs": [
    {
     "name": "stdout",
     "output_type": "stream",
     "text": [
      "67 µs ± 1.64 µs per loop (mean ± std. dev. of 7 runs, 10000 loops each)\n"
     ]
    }
   ],
   "source": [
    "%%timeit\n",
    "cs_numpy + 10"
   ]
  },
  {
   "cell_type": "markdown",
   "metadata": {},
   "source": [
    "But most Python functions do not know how to handle multi-dimensional arrays so we'll use Numpy implementations where they exist."
   ]
  },
  {
   "cell_type": "code",
   "execution_count": 8,
   "metadata": {},
   "outputs": [
    {
     "ename": "TypeError",
     "evalue": "only size-1 arrays can be converted to Python scalars",
     "output_type": "error",
     "traceback": [
      "\u001b[0;31m---------------------------------------------------------------------------\u001b[0m",
      "\u001b[0;31mTypeError\u001b[0m                                 Traceback (most recent call last)",
      "\u001b[0;32m/var/folders/0k/_wrbgjwj005c_8z1vghhd7x40000gr/T/ipykernel_59829/1315727468.py\u001b[0m in \u001b[0;36m<module>\u001b[0;34m\u001b[0m\n\u001b[1;32m      1\u001b[0m \u001b[0;32mimport\u001b[0m \u001b[0mmath\u001b[0m\u001b[0;34m\u001b[0m\u001b[0;34m\u001b[0m\u001b[0m\n\u001b[1;32m      2\u001b[0m \u001b[0;34m\u001b[0m\u001b[0m\n\u001b[0;32m----> 3\u001b[0;31m \u001b[0mmath\u001b[0m\u001b[0;34m.\u001b[0m\u001b[0msqrt\u001b[0m\u001b[0;34m(\u001b[0m\u001b[0mcs\u001b[0m\u001b[0;34m)\u001b[0m\u001b[0;34m\u001b[0m\u001b[0;34m\u001b[0m\u001b[0m\n\u001b[0m",
      "\u001b[0;31mTypeError\u001b[0m: only size-1 arrays can be converted to Python scalars"
     ]
    }
   ],
   "source": [
    "import math\n",
    "\n",
    "math.sqrt(cs)"
   ]
  },
  {
   "cell_type": "code",
   "execution_count": 9,
   "metadata": {},
   "outputs": [
    {
     "data": {
      "text/plain": [
       "array([[0.38908588-1.28506335j, 0.38980707-1.28268581j,\n",
       "        0.39053184-1.28030535j, ..., 0.89141291-0.56090729j,\n",
       "        0.89409221-0.55922644j, 0.8967725 -0.55755501j],\n",
       "       [0.38670802-1.2843454j , 0.38742629-1.2819643j ,\n",
       "        0.38814812-1.27958025j, ..., 0.88972681-0.55822378j,\n",
       "        0.89241558-0.55654191j, 0.89510532-0.55486953j],\n",
       "       [0.38432663-1.28363038j, 0.38504193-1.28124573j,\n",
       "        0.3857608 -1.27885811j, ..., 0.88803965-0.55553075j,\n",
       "        0.89073797-0.55384788j, 0.89343724-0.55217458j],\n",
       "       ...,\n",
       "       [0.38194169+1.28291834j, 0.38265402+1.28053014j,\n",
       "        0.3833699 +1.27813894j, ..., 0.88635146+0.55282811j,\n",
       "        0.88905943+0.55114426j, 0.8917683 +0.54947008j],\n",
       "       [0.38432663+1.28363038j, 0.38504193+1.28124573j,\n",
       "        0.3857608 +1.27885811j, ..., 0.88803965+0.55553075j,\n",
       "        0.89073797+0.55384788j, 0.89343724+0.55217458j],\n",
       "       [0.38670802+1.2843454j , 0.38742629+1.2819643j ,\n",
       "        0.38814812+1.27958025j, ..., 0.88972681+0.55822378j,\n",
       "        0.89241558+0.55654191j, 0.89510532+0.55486953j]])"
      ]
     },
     "execution_count": 9,
     "metadata": {},
     "output_type": "execute_result"
    }
   ],
   "source": [
    "np.sqrt(cs)"
   ]
  },
  {
   "cell_type": "markdown",
   "metadata": {},
   "source": [
    "## 9.2.2 Attempt 1: Binary Mandelbrot"
   ]
  },
  {
   "cell_type": "markdown",
   "metadata": {},
   "source": [
    "Numpy allows us to perform an iteration for our series on all complex values we're interested in in a single line."
   ]
  },
  {
   "cell_type": "code",
   "execution_count": 10,
   "metadata": {},
   "outputs": [],
   "source": [
    "z0 = cs\n",
    "z1 = z0 * z0 + cs\n",
    "z2 = z1 * z1 + cs\n",
    "z3 = z2 * z2 + cs"
   ]
  },
  {
   "cell_type": "markdown",
   "metadata": {},
   "source": [
    "So can we just apply our `mandel` function to the whole matrix?"
   ]
  },
  {
   "cell_type": "code",
   "execution_count": 11,
   "metadata": {},
   "outputs": [],
   "source": [
    "def mandel(constant, max_iterations=50):\n",
    "    \"\"\"Computes the values of the series for up to a maximum number of iterations. \n",
    "    \n",
    "    The function stops when the absolute value of the series surpasses 2 or when it reaches the maximum \n",
    "    number of iterations.\n",
    "    \n",
    "    Returns the number of iterations.\n",
    "    \"\"\"\n",
    "    \n",
    "    value = 0\n",
    "\n",
    "    counter = 0\n",
    "    while counter < max_iterations:\n",
    "        if abs(value) > 2:\n",
    "            break\n",
    "\n",
    "        value = (value * value) + constant\n",
    "\n",
    "        counter = counter + 1\n",
    "\n",
    "    return counter\n",
    "\n",
    "\n",
    "assert mandel(0) == 50\n",
    "assert mandel(3) == 1\n",
    "assert mandel(0.5) == 5"
   ]
  },
  {
   "cell_type": "code",
   "execution_count": 12,
   "metadata": {
    "tags": [
     "raises-exception"
    ]
   },
   "outputs": [
    {
     "ename": "ValueError",
     "evalue": "The truth value of an array with more than one element is ambiguous. Use a.any() or a.all()",
     "output_type": "error",
     "traceback": [
      "\u001b[0;31m---------------------------------------------------------------------------\u001b[0m",
      "\u001b[0;31mValueError\u001b[0m                                Traceback (most recent call last)",
      "\u001b[0;32m/var/folders/0k/_wrbgjwj005c_8z1vghhd7x40000gr/T/ipykernel_59829/380109421.py\u001b[0m in \u001b[0;36m<module>\u001b[0;34m\u001b[0m\n\u001b[0;32m----> 1\u001b[0;31m \u001b[0mmandel\u001b[0m\u001b[0;34m(\u001b[0m\u001b[0mcs\u001b[0m\u001b[0;34m)\u001b[0m\u001b[0;34m\u001b[0m\u001b[0;34m\u001b[0m\u001b[0m\n\u001b[0m",
      "\u001b[0;32m/var/folders/0k/_wrbgjwj005c_8z1vghhd7x40000gr/T/ipykernel_59829/2364160311.py\u001b[0m in \u001b[0;36mmandel\u001b[0;34m(constant, max_iterations)\u001b[0m\n\u001b[1;32m     12\u001b[0m     \u001b[0mcounter\u001b[0m \u001b[0;34m=\u001b[0m \u001b[0;36m0\u001b[0m\u001b[0;34m\u001b[0m\u001b[0;34m\u001b[0m\u001b[0m\n\u001b[1;32m     13\u001b[0m     \u001b[0;32mwhile\u001b[0m \u001b[0mcounter\u001b[0m \u001b[0;34m<\u001b[0m \u001b[0mmax_iterations\u001b[0m\u001b[0;34m:\u001b[0m\u001b[0;34m\u001b[0m\u001b[0;34m\u001b[0m\u001b[0m\n\u001b[0;32m---> 14\u001b[0;31m         \u001b[0;32mif\u001b[0m \u001b[0mabs\u001b[0m\u001b[0;34m(\u001b[0m\u001b[0mvalue\u001b[0m\u001b[0;34m)\u001b[0m \u001b[0;34m>\u001b[0m \u001b[0;36m2\u001b[0m\u001b[0;34m:\u001b[0m\u001b[0;34m\u001b[0m\u001b[0;34m\u001b[0m\u001b[0m\n\u001b[0m\u001b[1;32m     15\u001b[0m             \u001b[0;32mbreak\u001b[0m\u001b[0;34m\u001b[0m\u001b[0;34m\u001b[0m\u001b[0m\n\u001b[1;32m     16\u001b[0m \u001b[0;34m\u001b[0m\u001b[0m\n",
      "\u001b[0;31mValueError\u001b[0m: The truth value of an array with more than one element is ambiguous. Use a.any() or a.all()"
     ]
    }
   ],
   "source": [
    "mandel(cs)"
   ]
  },
  {
   "cell_type": "markdown",
   "metadata": {},
   "source": [
    "Looking at the error message, we learn a few things:\n",
    "- There's a problem with line 14, where we check if the value of the series has divereged.\n",
    "- There's some confusion about the _truth_ value of our array. \n",
    "Our array has more than one element (300 x 300 elements to be precise), and the `if` condition on line 14 returns `True` for some elements and `False` for others. But what does `True` mean for the entire array: Does every element have to be `True` or is it enough if any element is `True`? Since there's no good answer to this, an error is raised."
   ]
  },
  {
   "cell_type": "markdown",
   "metadata": {},
   "source": [
    "What if we just apply the Mandelbrot algorithm without checking for divergence until the end:"
   ]
  },
  {
   "cell_type": "code",
   "execution_count": 13,
   "metadata": {},
   "outputs": [],
   "source": [
    "def mandel_numpy_explode(constants, max_iterations=50):\n",
    "    \"\"\"Has the series diverged after all iterations?\n",
    "    \n",
    "    Returns an array with True if the series doesn't explode and False otherwise.\n",
    "    \"\"\"\n",
    "    value = np.zeros(constants.shape)\n",
    "\n",
    "    counter = 0\n",
    "    while counter < max_iterations:\n",
    "\n",
    "        value = (value * value) + constants\n",
    "\n",
    "        counter = counter + 1\n",
    "\n",
    "    return abs(value) < 2\n"
   ]
  },
  {
   "cell_type": "code",
   "execution_count": 14,
   "metadata": {},
   "outputs": [
    {
     "name": "stderr",
     "output_type": "stream",
     "text": [
      "/Users/pwochner/Projects/rse-course-2022/rse-course/.venv/lib/python3.7/site-packages/ipykernel_launcher.py:11: RuntimeWarning: overflow encountered in multiply\n",
      "  # This is added back by InteractiveShellApp.init_path()\n",
      "/Users/pwochner/Projects/rse-course-2022/rse-course/.venv/lib/python3.7/site-packages/ipykernel_launcher.py:11: RuntimeWarning: invalid value encountered in multiply\n",
      "  # This is added back by InteractiveShellApp.init_path()\n"
     ]
    }
   ],
   "source": [
    "result_numpy_explode = mandel_numpy_explode(cs)"
   ]
  },
  {
   "cell_type": "markdown",
   "metadata": {},
   "source": [
    "We get an `Overflow` warning that we shouldn't ignore. The overflow is caused by some values in the series exploding and running off to $\\infty$."
   ]
  },
  {
   "cell_type": "markdown",
   "metadata": {},
   "source": [
    "Go to notebook **9.6 Classroom Exercises** and do *Exercise 9c* to fix the overflow issue. "
   ]
  },
  {
   "cell_type": "markdown",
   "metadata": {},
   "source": [
    "## 9.2.3 Attempt 2: Return iterations"
   ]
  },
  {
   "cell_type": "markdown",
   "metadata": {},
   "source": [
    "The function `mandel_binary` (see *Exercise 9c*) runs on an array and is faster than our previous implementations. At the moment, it returns a boolean value for each element of the input: `True` if the element is in the Mandelbrot set, `False` otherwise. \n",
    "\n",
    "It would be nice if the function returned, as before, the number of iterations that were performed. Let's modify the function to do exactly that:"
   ]
  },
  {
   "cell_type": "code",
   "execution_count": 15,
   "metadata": {},
   "outputs": [],
   "source": [
    "def mandel_numpy(constants, max_iterations=50):\n",
    "    \"\"\"Computes the values of the series for up to a maximum number of iterations. \n",
    "    \n",
    "    The function stops values from exploding once diverged.\n",
    "    \n",
    "    Returns the number of iterations.\n",
    "    \"\"\"\n",
    "    \n",
    "    value = np.zeros(constants.shape)\n",
    "    # An array which keeps track of the first step at which each position diverged\n",
    "    diverged_at_count = np.ones(constants.shape)*max_iterations\n",
    "    counter = 0\n",
    "    while counter < max_iterations:\n",
    "        value = value*value + constants\n",
    "        diverging = abs(value) > 2\n",
    "        \n",
    "        # Any positions which are:\n",
    "        # - diverging\n",
    "        # - haven't diverged before\n",
    "        # are diverging for the first time\n",
    "        first_diverged_this_time = np.logical_and(\n",
    "            diverging,\n",
    "            diverged_at_count == max_iterations\n",
    "        )\n",
    "        \n",
    "        # Update diverged_at_count for all positions which first diverged at this step\n",
    "        diverged_at_count[first_diverged_this_time] = counter\n",
    "        # Reset any divergent values to exactly 2\n",
    "        value[diverging] = 2\n",
    "        counter = counter + 1\n",
    "\n",
    "    return diverged_at_count\n",
    "\n",
    "assert mandel_numpy(np.asarray([0])) == np.asarray([50])\n",
    "assert mandel_numpy(np.asarray([4])) == np.asarray([0])"
   ]
  },
  {
   "cell_type": "code",
   "execution_count": 16,
   "metadata": {},
   "outputs": [
    {
     "name": "stdout",
     "output_type": "stream",
     "text": [
      "35.8 ms ± 2.33 ms per loop (mean ± std. dev. of 7 runs, 10 loops each)\n"
     ]
    }
   ],
   "source": [
    "%%timeit\n",
    "mandel_numpy(cs)"
   ]
  },
  {
   "cell_type": "code",
   "execution_count": 17,
   "metadata": {},
   "outputs": [],
   "source": [
    "result_numpy = mandel_numpy(cs)"
   ]
  },
  {
   "cell_type": "code",
   "execution_count": 18,
   "metadata": {
    "scrolled": true
   },
   "outputs": [
    {
     "data": {
      "text/plain": [
       "<matplotlib.colorbar.Colorbar at 0x1137aae10>"
      ]
     },
     "execution_count": 18,
     "metadata": {},
     "output_type": "execute_result"
    },
    {
     "data": {
      "image/png": "[encoded data removed]",
      "text/plain": [
       "<Figure size 640x480 with 2 Axes>"
      ]
     },
     "metadata": {},
     "output_type": "display_data"
    }
   ],
   "source": [
    "import matplotlib.pyplot as plt\n",
    "\n",
    "plt.xlabel(\"Real\")\n",
    "plt.ylabel(\"Imaginary\")\n",
    "plt.imshow(\n",
    "    result_numpy,\n",
    "    interpolation=\"none\",\n",
    "    extent=[xmin, xmax, ymin, ymax],\n",
    "    origin=\"lower\"\n",
    ")\n",
    "plt.colorbar()"
   ]
  },
  {
   "cell_type": "markdown",
   "metadata": {},
   "source": [
    "Even though we're doing unnecessary calculations (compared to our pure Python implementation), we are much faster."
   ]
  }
 ],
 "metadata": {
  "hide_input": false,
  "jekyll": {
   "display_name": "NumPy"
  },
  "kernelspec": {
   "display_name": "Python 3 (ipykernel)",
   "language": "python",
   "name": "python3"
  },
  "language_info": {
   "codemirror_mode": {
    "name": "ipython",
    "version": 3
   },
   "file_extension": ".py",
   "mimetype": "text/x-python",
   "name": "python",
   "nbconvert_exporter": "python",
   "pygments_lexer": "ipython3",
   "version": "3.7.13"
  }
 },
 "nbformat": 4,
 "nbformat_minor": 4
}
