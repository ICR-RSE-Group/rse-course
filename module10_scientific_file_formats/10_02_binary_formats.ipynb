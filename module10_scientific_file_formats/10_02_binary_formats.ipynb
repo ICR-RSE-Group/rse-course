{
 "cells": [
  {
   "cell_type": "markdown",
   "metadata": {},
   "source": [
    "# 10.2 Binary formats"
   ]
  },
  {
   "cell_type": "markdown",
   "metadata": {},
   "source": [
    "*Estimated time for this notebook: 15 minutes*"
   ]
  },
  {
   "cell_type": "markdown",
   "metadata": {},
   "source": [
    "## Binary file formats"
   ]
  },
  {
   "cell_type": "markdown",
   "metadata": {},
   "source": [
    "Now we're getting toward a numerically-based data structure, using integers for object keys, we should think about binary serialisation.\n",
    "\n",
    "Binary file formats are much smaller than human-readable text based formats, so important when handling really big datasets.\n",
    "\n",
    "One can compress a textual file format, of course, and with good compression algorithms this will be similar in size to the binary file. (C.f. discussions of Shannon information density!) However, this has performance implications.\n",
    "\n",
    "A hand-designed binary format is fast and small, at the loss of human readability."
   ]
  },
  {
   "cell_type": "markdown",
   "metadata": {},
   "source": [
    "The problem with binary file formats, is that, lacking complex data structures, one needs to supply the *length* of an item before that item:"
   ]
  },
  {
   "cell_type": "code",
   "execution_count": 9,
   "metadata": {},
   "outputs": [],
   "source": [
    "class FakeBinarySavingSystem:\n",
    "    # Pretend binary-style writing to a list to make it easier to read at first.\n",
    "    def save(self, system, buffer):\n",
    "        buffer.append(len(system.elements))\n",
    "        for element in system.elements:\n",
    "            buffer.append(element.symbol)\n",
    "\n",
    "        buffer.append(len(system.molecules))\n",
    "        for molecule in system.molecules:\n",
    "            buffer.append(len(molecule.elements))\n",
    "            for element, number in molecule.elements.items():\n",
    "                buffer.append(element.id)\n",
    "                buffer.append(number)\n",
    "\n",
    "        buffer.append(len(system.reactions))\n",
    "        for reaction in system.reactions:\n",
    "            buffer.append(len(reaction.reactants))\n",
    "            for reactant, stoich in reaction.reactants.items():\n",
    "                buffer.append(reactant.id)\n",
    "                buffer.append(stoich)\n",
    "            buffer.append(len(reaction.products))\n",
    "            for product, stoich in reaction.products.items():\n",
    "                buffer.append(product.id)\n",
    "                buffer.append(stoich)"
   ]
  },
  {
   "cell_type": "code",
   "execution_count": 10,
   "metadata": {},
   "outputs": [],
   "source": [
    "characterarray = []\n",
    "FakeBinarySavingSystem().save(s, characterarray)"
   ]
  },
  {
   "cell_type": "code",
   "execution_count": 11,
   "metadata": {},
   "outputs": [
    {
     "data": {
      "text/plain": [
       "[3,\n",
       " 'C',\n",
       " 'O',\n",
       " 'H',\n",
       " 5,\n",
       " 2,\n",
       " 0,\n",
       " 1,\n",
       " 1,\n",
       " 2,\n",
       " 2,\n",
       " 2,\n",
       " 2,\n",
       " 1,\n",
       " 1,\n",
       " 1,\n",
       " 1,\n",
       " 2,\n",
       " 1,\n",
       " 2,\n",
       " 2,\n",
       " 3,\n",
       " 0,\n",
       " 6,\n",
       " 2,\n",
       " 12,\n",
       " 1,\n",
       " 6,\n",
       " 2,\n",
       " 2,\n",
       " 4,\n",
       " 1,\n",
       " 2,\n",
       " 6,\n",
       " 2,\n",
       " 0,\n",
       " 6,\n",
       " 1,\n",
       " 6,\n",
       " 2,\n",
       " 3,\n",
       " 2,\n",
       " 2,\n",
       " 1,\n",
       " 1,\n",
       " 1,\n",
       " 2]"
      ]
     },
     "execution_count": 11,
     "metadata": {},
     "output_type": "execute_result"
    }
   ],
   "source": [
    "characterarray"
   ]
  },
  {
   "cell_type": "markdown",
   "metadata": {},
   "source": [
    "Deserialisation is left **as an exercise for the reader** :)."
   ]
  },
  {
   "cell_type": "markdown",
   "metadata": {},
   "source": [
    "## Endian-robust binary file formats"
   ]
  },
  {
   "cell_type": "markdown",
   "metadata": {},
   "source": [
    "Having prepared our data as a sequence of data which can be recorded in a single byte,\n",
    "we might think a binary file format on disk is as simple as saving\n",
    "each number in one byte:"
   ]
  },
  {
   "cell_type": "code",
   "execution_count": 12,
   "metadata": {},
   "outputs": [
    {
     "data": {
      "text/plain": [
       "[3,\n",
       " 67,\n",
       " 79,\n",
       " 72,\n",
       " 5,\n",
       " 2,\n",
       " 0,\n",
       " 1,\n",
       " 1,\n",
       " 2,\n",
       " 2,\n",
       " 2,\n",
       " 2,\n",
       " 1,\n",
       " 1,\n",
       " 1,\n",
       " 1,\n",
       " 2,\n",
       " 1,\n",
       " 2,\n",
       " 2,\n",
       " 3,\n",
       " 0,\n",
       " 6,\n",
       " 2,\n",
       " 12,\n",
       " 1,\n",
       " 6,\n",
       " 2,\n",
       " 2,\n",
       " 4,\n",
       " 1,\n",
       " 2,\n",
       " 6,\n",
       " 2,\n",
       " 0,\n",
       " 6,\n",
       " 1,\n",
       " 6,\n",
       " 2,\n",
       " 3,\n",
       " 2,\n",
       " 2,\n",
       " 1,\n",
       " 1,\n",
       " 1,\n",
       " 2]"
      ]
     },
     "execution_count": 12,
     "metadata": {},
     "output_type": "execute_result"
    }
   ],
   "source": [
    "# First, turn symbol characters to equivalent integers (ascii)\n",
    "intarray = [x.encode(\"ascii\")[0] if isinstance(x, str) else x for x in characterarray]\n",
    "intarray"
   ]
  },
  {
   "cell_type": "code",
   "execution_count": 13,
   "metadata": {},
   "outputs": [
    {
     "data": {
      "text/plain": [
       "bytearray(b'\\x03COH\\x05\\x02\\x00\\x01\\x01\\x02\\x02\\x02\\x02\\x01\\x01\\x01\\x01\\x02\\x01\\x02\\x02\\x03\\x00\\x06\\x02\\x0c\\x01\\x06\\x02\\x02\\x04\\x01\\x02\\x06\\x02\\x00\\x06\\x01\\x06\\x02\\x03\\x02\\x02\\x01\\x01\\x01\\x02')"
      ]
     },
     "execution_count": 13,
     "metadata": {},
     "output_type": "execute_result"
    }
   ],
   "source": [
    "bytearray(intarray)"
   ]
  },
  {
   "cell_type": "code",
   "execution_count": 14,
   "metadata": {},
   "outputs": [],
   "source": [
    "with open(\"system.mol\", \"wb\") as binfile:\n",
    "    binfile.write(bytearray(intarray))"
   ]
  },
  {
   "cell_type": "markdown",
   "metadata": {},
   "source": [
    "However, this misses out on an unfortunate problem if we end up with large enough numbers to need more than one byte per integer, or we want to represent floats: different computer designs will put the most-significant bytes of a multi-byte integer or float either at the beginning ('big endian' systems) or at the end ('little endian' systems)."
   ]
  },
  {
   "cell_type": "markdown",
   "metadata": {},
   "source": [
    "To get around this, we need to use a portable standard for making binary files.\n",
    "\n",
    "One possible choice is **XDR** (standing for eXternal Data Representation). XDR is a standard data serialization format that accounts for endian differences between systems."
   ]
  },
  {
   "cell_type": "code",
   "execution_count": 19,
   "metadata": {},
   "outputs": [],
   "source": [
    "import xdrlib\n",
    "\n",
    "\n",
    "class XDRSavingSystem(System):\n",
    "    def __init__(self, system):\n",
    "        super().__init__()\n",
    "        # Shallow Copy constructor\n",
    "        self.elements = system.elements\n",
    "        self.reactions = system.reactions\n",
    "        self.molecules = system.molecules\n",
    "        self.buffer = xdrlib.Packer()\n",
    "\n",
    "    def _pack_pair(self, item):\n",
    "        self.buffer.pack_int(item[0].id)\n",
    "        self.buffer.pack_int(item[1])\n",
    "\n",
    "    def _pack_molecule(self, mol):\n",
    "        self.buffer.pack_array(mol.elements.items(), self._pack_pair)\n",
    "\n",
    "    def _pack_reaction(self, reaction):\n",
    "        self.buffer.pack_array(reaction.reactants.items(), self._pack_pair)\n",
    "        self.buffer.pack_array(reaction.products.items(), self._pack_pair)\n",
    "\n",
    "    def save(self):\n",
    "        el_symbols = list(map(lambda x: x.symbol.encode(\"utf-8\"), self.elements))\n",
    "        # Note that pack_array AUTOMATICALLY packs the length of the array first!\n",
    "        self.buffer.pack_array(el_symbols, self.buffer.pack_string)\n",
    "        self.buffer.pack_array(self.molecules, self._pack_molecule)\n",
    "        self.buffer.pack_array(self.reactions, self._pack_reaction)\n",
    "        return self.buffer"
   ]
  },
  {
   "cell_type": "code",
   "execution_count": 20,
   "metadata": {},
   "outputs": [],
   "source": [
    "xdrsys = XDRSavingSystem(s2)"
   ]
  },
  {
   "cell_type": "code",
   "execution_count": 21,
   "metadata": {},
   "outputs": [
    {
     "data": {
      "text/plain": [
       "b'\\x00\\x00\\x00\\x03\\x00\\x00\\x00\\x01C\\x00\\x00\\x00\\x00\\x00\\x00\\x01O\\x00\\x00\\x00\\x00\\x00\\x00\\x01H\\x00\\x00\\x00\\x00\\x00\\x00\\x05\\x00\\x00\\x00\\x02\\x00\\x00\\x00\\x00\\x00\\x00\\x00\\x01\\x00\\x00\\x00\\x01\\x00\\x00\\x00\\x02\\x00\\x00\\x00\\x02\\x00\\x00\\x00\\x02\\x00\\x00\\x00\\x02\\x00\\x00\\x00\\x01\\x00\\x00\\x00\\x01\\x00\\x00\\x00\\x01\\x00\\x00\\x00\\x01\\x00\\x00\\x00\\x02\\x00\\x00\\x00\\x01\\x00\\x00\\x00\\x02\\x00\\x00\\x00\\x02\\x00\\x00\\x00\\x03\\x00\\x00\\x00\\x00\\x00\\x00\\x00\\x06\\x00\\x00\\x00\\x02\\x00\\x00\\x00\\x0c\\x00\\x00\\x00\\x01\\x00\\x00\\x00\\x06\\x00\\x00\\x00\\x02\\x00\\x00\\x00\\x02\\x00\\x00\\x00\\x04\\x00\\x00\\x00\\x01\\x00\\x00\\x00\\x02\\x00\\x00\\x00\\x06\\x00\\x00\\x00\\x02\\x00\\x00\\x00\\x00\\x00\\x00\\x00\\x06\\x00\\x00\\x00\\x01\\x00\\x00\\x00\\x06\\x00\\x00\\x00\\x02\\x00\\x00\\x00\\x03\\x00\\x00\\x00\\x02\\x00\\x00\\x00\\x02\\x00\\x00\\x00\\x01\\x00\\x00\\x00\\x01\\x00\\x00\\x00\\x01\\x00\\x00\\x00\\x02'"
      ]
     },
     "execution_count": 21,
     "metadata": {},
     "output_type": "execute_result"
    }
   ],
   "source": [
    "xdrbuffer = xdrsys.save()\n",
    "xdrbuffer.get_buffer()"
   ]
  },
  {
   "cell_type": "markdown",
   "metadata": {},
   "source": [
    "## A higher level approach to binary file formats: HDF5"
   ]
  },
  {
   "cell_type": "markdown",
   "metadata": {},
   "source": [
    "This was quite painful. We've shown you it because it is very likely\n",
    "you will encounter this kind of unpleasant binary file format in your work."
   ]
  },
  {
   "cell_type": "markdown",
   "metadata": {},
   "source": [
    "However, one recommended approach to building binary file formats is to use HDF5 (Hierarchical Data Format), a much higher level binary file format."
   ]
  },
  {
   "cell_type": "markdown",
   "metadata": {},
   "source": [
    "HDF5's approach requires you to represent your system in terms of high-dimensional matrices, like NumPy arrays.\n",
    "It then saves these, and handles all the tedious number-of-field management for you."
   ]
  },
  {
   "cell_type": "code",
   "execution_count": 22,
   "metadata": {},
   "outputs": [],
   "source": [
    "import h5py\n",
    "import numpy as np\n",
    "\n",
    "\n",
    "class HDF5SavingSystem(System):\n",
    "    def __init__(self, system):\n",
    "        super().__init__()\n",
    "        # Shallow Copy constructor\n",
    "        self.elements = system.elements\n",
    "        self.reactions = system.reactions\n",
    "        self.molecules = system.molecules\n",
    "\n",
    "    def element_symbols(self):\n",
    "        return list(map(lambda x: x.symbol.encode(\"ascii\"), self.elements))\n",
    "\n",
    "    def molecule_matrix(self):\n",
    "        molecule_matrix = np.zeros((len(self.elements), len(self.molecules)), dtype=int)\n",
    "\n",
    "        for molecule in self.molecules:\n",
    "            for element, n in molecule.elements.items():\n",
    "                molecule_matrix[element.id, molecule.id] = n\n",
    "\n",
    "        return molecule_matrix\n",
    "\n",
    "    def reaction_matrix(self):\n",
    "        reaction_matrix = np.zeros(\n",
    "            (len(self.molecules), len(self.reactions)), dtype=int\n",
    "        )\n",
    "\n",
    "        for i, reaction in enumerate(self.reactions):\n",
    "            for reactant, n in reaction.reactants.items():\n",
    "                reaction_matrix[reactant.id, i] = -1 * n\n",
    "\n",
    "            for product, n in reaction.products.items():\n",
    "                reaction_matrix[product.id, i] = n\n",
    "\n",
    "        return reaction_matrix\n",
    "\n",
    "    def write(self, filename):\n",
    "        hdf = h5py.File(filename, \"w\")\n",
    "        string_type = h5py.special_dtype(vlen=bytes)\n",
    "        hdf.create_dataset(\n",
    "            \"symbols\", (len(self.elements), 1), string_type, self.element_symbols()\n",
    "        )\n",
    "        hdf.create_dataset(\"molecules\", data=self.molecule_matrix())\n",
    "        hdf.create_dataset(\"reactions\", data=self.reaction_matrix())\n",
    "        hdf.close()"
   ]
  },
  {
   "cell_type": "code",
   "execution_count": 23,
   "metadata": {},
   "outputs": [],
   "source": [
    "saver = HDF5SavingSystem(s2)"
   ]
  },
  {
   "cell_type": "code",
   "execution_count": 24,
   "metadata": {},
   "outputs": [
    {
     "data": {
      "text/plain": [
       "[b'C', b'O', b'H']"
      ]
     },
     "execution_count": 24,
     "metadata": {},
     "output_type": "execute_result"
    }
   ],
   "source": [
    "saver.element_symbols()"
   ]
  },
  {
   "cell_type": "code",
   "execution_count": 25,
   "metadata": {},
   "outputs": [
    {
     "data": {
      "text/plain": [
       "array([[ 1,  0,  0,  0,  6],\n",
       "       [ 2,  1,  2,  0,  6],\n",
       "       [ 0,  2,  0,  2, 12]])"
      ]
     },
     "execution_count": 25,
     "metadata": {},
     "output_type": "execute_result"
    }
   ],
   "source": [
    "saver.molecule_matrix()"
   ]
  },
  {
   "cell_type": "code",
   "execution_count": 26,
   "metadata": {},
   "outputs": [
    {
     "data": {
      "text/plain": [
       "array([[ 6,  0],\n",
       "       [ 6,  2],\n",
       "       [-6, -1],\n",
       "       [ 0, -2],\n",
       "       [-1,  0]])"
      ]
     },
     "execution_count": 26,
     "metadata": {},
     "output_type": "execute_result"
    }
   ],
   "source": [
    "saver.reaction_matrix()"
   ]
  },
  {
   "cell_type": "code",
   "execution_count": 27,
   "metadata": {},
   "outputs": [],
   "source": [
    "saver.write(\"foo.hdf5\")"
   ]
  },
  {
   "cell_type": "markdown",
   "metadata": {},
   "source": [
    "Note that this binary representation is *not* human readable at all."
   ]
  },
  {
   "cell_type": "code",
   "execution_count": 28,
   "metadata": {},
   "outputs": [
    {
     "data": {
      "text/plain": [
       "b'\\x89HDF\\r\\n\\x1a\\n\\x00\\x00\\x00\\x00\\x00\\x08\\x08\\x00\\x04\\x00\\x10\\x00\\x00\\x00\\x00\\x00\\x00\\x00\\x00\\x00\\x00\\x00\\x00\\x00\\xff\\xff\\xff\\xff\\xff\\xff\\xff\\xff\\xf8\\x18\\x00\\x00\\x00\\x00\\x00\\x00\\xff\\xff\\xff\\xff\\xff\\xff\\xff\\xff\\x00\\x00\\x00\\x00\\x00\\x00\\x00\\x00`\\x00\\x00\\x00\\x00\\x00\\x00\\x00\\x01\\x00\\x00\\x00\\x00\\x00\\x00\\x00\\x88\\x00\\x00\\x00\\x00\\x00\\x00\\x00\\xa8\\x02\\x00\\x00\\x00\\x00\\x00\\x00\\x01\\x00\\x01\\x00'"
      ]
     },
     "execution_count": 28,
     "metadata": {},
     "output_type": "execute_result"
    }
   ],
   "source": [
    "with open(\"foo.hdf5\", \"rb\") as f_in:\n",
    "    bytes = f_in.read()\n",
    "bytes[0:100]"
   ]
  },
  {
   "cell_type": "code",
   "execution_count": 29,
   "metadata": {},
   "outputs": [],
   "source": [
    "hdf_load = h5py.File(\"foo.hdf5\")"
   ]
  },
  {
   "cell_type": "code",
   "execution_count": 30,
   "metadata": {},
   "outputs": [
    {
     "data": {
      "text/plain": [
       "array([[ 6,  0],\n",
       "       [ 6,  2],\n",
       "       [-6, -1],\n",
       "       [ 0, -2],\n",
       "       [-1,  0]])"
      ]
     },
     "execution_count": 30,
     "metadata": {},
     "output_type": "execute_result"
    }
   ],
   "source": [
    "np.array(hdf_load[\"reactions\"])"
   ]
  },
  {
   "cell_type": "markdown",
   "metadata": {},
   "source": [
    "Using a `sparse matrix` storage would be even better here, but we don't have time for that!"
   ]
  }
 ],
 "metadata": {
  "jekyll": {
   "display_name": "Deserialisation"
  },
  "kernelspec": {
   "display_name": "Python 3 (ipykernel)",
   "language": "python",
   "name": "python3"
  },
  "language_info": {
   "codemirror_mode": {
    "name": "ipython",
    "version": 3
   },
   "file_extension": ".py",
   "mimetype": "text/x-python",
   "name": "python",
   "nbconvert_exporter": "python",
   "pygments_lexer": "ipython3",
   "version": "3.8.12"
  }
 },
 "nbformat": 4,
 "nbformat_minor": 1
}
