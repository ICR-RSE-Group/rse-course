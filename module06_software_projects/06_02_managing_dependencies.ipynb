{
 "cells": [
  {
   "cell_type": "markdown",
   "id": "00f02f92",
   "metadata": {},
   "source": [
    "# Managing Dependencies\n"
   ]
  },
  {
   "cell_type": "markdown",
   "id": "442d76ad",
   "metadata": {},
   "source": [
    "## Specifying Dependencies\n",
    "\n",
    "### requirements.txt\n",
    "\n",
    "```\n",
    "geopy\n",
    "imageio\n",
    "matplotlib\n",
    "numpy\n",
    "requests\n",
    "```\n",
    "\n",
    "```bash\n",
    "pip install -r requirements.txt\n",
    "```\n",
    "\n",
    "### Others\n",
    "\n",
    "\n",
    "### Pinning versions\n",
    "\n",
    "```\n",
    "geopy==2.2.0\n",
    "imageio==2.19.3\n",
    "matplotlib==3.5.2\n",
    "numpy==1.23.0\n",
    "requests==2.28.1\n",
    "```\n",
    "\n",
    "```bash\n",
    "pip freeze\n",
    "```\n",
    "\n"
   ]
  },
  {
   "cell_type": "markdown",
   "id": "9f612ce1",
   "metadata": {},
   "source": [
    "## Virtual Environments\n",
    "\n",
    "### venv \n",
    "\n",
    "https://packaging.python.org/en/latest/guides/installing-using-pip-and-virtual-environments\n"
   ]
  },
  {
   "cell_type": "code",
   "execution_count": 11,
   "id": "145b4ea4",
   "metadata": {},
   "outputs": [
    {
     "name": "stdout",
     "output_type": "stream",
     "text": [
      "bin\n",
      "include\n",
      "lib\n",
      "pyvenv.cfg\n"
     ]
    }
   ],
   "source": [
    "%%bash\n",
    "\n",
    "python -m venv myenv"
   ]
  },
  {
   "cell_type": "code",
   "execution_count": null,
   "id": "3c42f853",
   "metadata": {},
   "outputs": [],
   "source": [
    "%%bash\n",
    "\n",
    "ls myenv/"
   ]
  },
  {
   "cell_type": "code",
   "execution_count": 16,
   "id": "bba1c3b0",
   "metadata": {},
   "outputs": [
    {
     "name": "stdout",
     "output_type": "stream",
     "text": [
      "/Users/jroberts/opt/anaconda3/envs/rse-course/bin/python\n"
     ]
    }
   ],
   "source": [
    "%%bash\n",
    "\n",
    "which python"
   ]
  },
  {
   "cell_type": "code",
   "execution_count": 17,
   "id": "c7da12b7",
   "metadata": {},
   "outputs": [
    {
     "name": "stdout",
     "output_type": "stream",
     "text": [
      "/Users/jroberts/GitHub/rse-course/module06_software_projects/myenv/bin/python\n"
     ]
    }
   ],
   "source": [
    "%%bash\n",
    "\n",
    "source myenv/bin/activate\n",
    "which python"
   ]
  },
  {
   "cell_type": "code",
   "execution_count": null,
   "id": "bef92ece",
   "metadata": {},
   "outputs": [],
   "source": [
    "%%bash\n",
    "\n",
    "source myenv/bin/activate\n",
    "pip install -r requirements.txt"
   ]
  },
  {
   "cell_type": "code",
   "execution_count": 20,
   "id": "1e8c57b2",
   "metadata": {},
   "outputs": [
    {
     "name": "stdout",
     "output_type": "stream",
     "text": [
      "/Users/jroberts/opt/anaconda3/envs/rse-course/bin/python\n"
     ]
    }
   ],
   "source": [
    "%%bash\n",
    "source myenv/bin/activate\n",
    "\n",
    "# work in the environment\n",
    "\n",
    "deactivate\n",
    "\n",
    "which python"
   ]
  },
  {
   "cell_type": "markdown",
   "id": "4b5a1224",
   "metadata": {},
   "source": [
    "### conda\n",
    "\n",
    "and environment.yml\n",
    "\n",
    "```yaml\n",
    "name: myenv\n",
    "\n",
    "dependencies:\n",
    "  - python=3.9\n",
    "  - geopy=2.2.0\n",
    "  - imageio=2.19.3\n",
    "  - matplotlib=3.5.2\n",
    "  - numpy=1.23.0\n",
    "  - requests=2.28.1\n",
    "```\n",
    "\n",
    "```bash\n",
    "conda env create -f environment.yml\n",
    "```\n",
    "\n",
    "```bash\n",
    "conda activate myenv\n",
    "\n",
    "# work in the environment\n",
    "\n",
    "conda deactivate\n",
    "```\n",
    "\n",
    "\n",
    "### Docker\n",
    "\n",
    "\n",
    "### Which to choose?\n",
    "\n",
    "others pyenv?, ?poetry?)\n",
    "\n",
    "- requirements.txt, environment.yml, ?pyproject.toml/poetry.lock?\n"
   ]
  },
  {
   "cell_type": "markdown",
   "id": "915c1882",
   "metadata": {},
   "source": [
    "## Reproducibility"
   ]
  }
 ],
 "metadata": {
  "kernelspec": {
   "display_name": "Python 3 (ipykernel)",
   "language": "python",
   "name": "python3"
  },
  "language_info": {
   "codemirror_mode": {
    "name": "ipython",
    "version": 3
   },
   "file_extension": ".py",
   "mimetype": "text/x-python",
   "name": "python",
   "nbconvert_exporter": "python",
   "pygments_lexer": "ipython3",
   "version": "3.9.9"
  }
 },
 "nbformat": 4,
 "nbformat_minor": 5
}
