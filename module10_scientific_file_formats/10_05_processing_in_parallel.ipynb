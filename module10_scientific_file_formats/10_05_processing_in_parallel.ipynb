{
 "cells": [
  {
   "cell_type": "markdown",
   "id": "5b3ccef5",
   "metadata": {},
   "source": [
    "# 10.5 Processing in parallel"
   ]
  },
  {
   "cell_type": "markdown",
   "id": "2e9efab5",
   "metadata": {},
   "source": [
    "*Estimated time for this notebook: 15 minutes.*"
   ]
  },
  {
   "cell_type": "markdown",
   "id": "17faf316",
   "metadata": {},
   "source": [
    "For large datasets, processing in-memory on a single thread might be too slow.\n",
    "There are a few potential options for processing this data in parallel, some of which we'll look at very briefly here (we won't go into any details - for more information you are recommended to look at the linked documentation)."
   ]
  },
  {
   "cell_type": "markdown",
   "id": "4173dd97",
   "metadata": {},
   "source": [
    "## Batch processing \n",
    "\n",
    "One option could be to split your dataset into smaller subsets, and use a batch system to run many jobs in parallel on a cluster or farm of computers.\n",
    "A popular batch job scheduler is _Slurm_ (https://slurm.schedmd.com/documentation.html) which offers tools for submitting jobs to batch queues, monitoring their progress, and keeping track of failures.\n",
    "Cloud providers such as Microsoft Azure have their own batch offerings (e.g. _Azure Batch_) with similar features.\n",
    "\n",
    "However, even with tools such as these, there is usually quite a bit of overhead involved in figuring out how to split up the data, write submission scripts, and keeping track of completed or failed jobs."
   ]
  },
  {
   "cell_type": "markdown",
   "id": "e4c8977e",
   "metadata": {},
   "source": [
    "## MapReduce \n",
    "\n",
    "MapReduce is a programming model for processing data using a cluster of worker nodes, often on a distributed filesystem.\n",
    "One such implementation is _Apache Hadoop_ https://hadoop.apache.org/. \n",
    "\n",
    "MapReduce consists of three main steps: **Map**, **Shuffle**, **Reduce**, which all operate on _key, value_ pairs.\n",
    "\n",
    "The canonical example is a word-count problem - suppose we have a set of text files and we want to count the frequency of occurence of each word.\n",
    "We want to be able to parallelize, so that each input could processed by one node, and the results are brought together at the end in an efficient manner."
   ]
  },
  {
   "cell_type": "markdown",
   "id": "1b1fed30",
   "metadata": {},
   "source": [
    "First we write a mapper function that takes a single filename as input, and outputs a sorted list of `{word:[1]}` dicts:"
   ]
  },
  {
   "cell_type": "code",
   "execution_count": 1,
   "id": "02b9cd15",
   "metadata": {},
   "outputs": [],
   "source": [
    "def mapper(input_filename):\n",
    "    with open(input_filename) as inputfile:\n",
    "        # split the text on spaces\n",
    "        words = inputfile.read().split(\" \")\n",
    "        # use list comprehension to output a list of {word,1} dicts\n",
    "        output = [{word.strip(): [1]} for word in sorted(words)]\n",
    "        return output"
   ]
  },
  {
   "cell_type": "code",
   "execution_count": 2,
   "id": "af73bdb7",
   "metadata": {},
   "outputs": [
    {
     "data": {
      "text/plain": [
       "[{'best': [1]},\n",
       " {'it': [1]},\n",
       " {'it': [1]},\n",
       " {'of': [1]},\n",
       " {'of': [1]},\n",
       " {'the': [1]},\n",
       " {'the': [1]},\n",
       " {'times': [1]},\n",
       " {'times': [1]},\n",
       " {'was': [1]},\n",
       " {'was': [1]},\n",
       " {'worst': [1]}]"
      ]
     },
     "execution_count": 2,
     "metadata": {},
     "output_type": "execute_result"
    }
   ],
   "source": [
    "mapper(\"text_sample_0.txt\")"
   ]
  },
  {
   "cell_type": "markdown",
   "id": "b6a0908f",
   "metadata": {},
   "source": [
    "The next step is to _shuffle_, bringing together all the items in the mapper output with the same key, so that each key's data can be sent to a different _reducer_."
   ]
  },
  {
   "cell_type": "code",
   "execution_count": 3,
   "id": "69486aa2",
   "metadata": {},
   "outputs": [],
   "source": [
    "def shuffler(word_dicts):\n",
    "    output_dict = {}\n",
    "    for word_dict in word_dicts:\n",
    "        for k, v in word_dict.items():\n",
    "            if not k in output_dict.keys():\n",
    "                output_dict[k] = []\n",
    "            output_dict[k] += v\n",
    "    return [{k: v} for k, v in output_dict.items()]"
   ]
  },
  {
   "cell_type": "code",
   "execution_count": 5,
   "id": "b17df017",
   "metadata": {},
   "outputs": [
    {
     "data": {
      "text/plain": [
       "[{'best': [1]},\n",
       " {'it': [1, 1]},\n",
       " {'of': [1, 1]},\n",
       " {'the': [1, 1]},\n",
       " {'times': [1, 1]},\n",
       " {'was': [1, 1]},\n",
       " {'worst': [1]}]"
      ]
     },
     "execution_count": 5,
     "metadata": {},
     "output_type": "execute_result"
    }
   ],
   "source": [
    "shuffler(mapper(\"text_sample_0.txt\"))"
   ]
  },
  {
   "cell_type": "markdown",
   "id": "8c8f88a4",
   "metadata": {},
   "source": [
    "The _reducer_ in this case is very simple - given a key (which is a word), and a value (which is a list `[1,1,1,...]`) sum up the values of the list to return a single value."
   ]
  },
  {
   "cell_type": "code",
   "execution_count": 6,
   "id": "4983a39c",
   "metadata": {},
   "outputs": [],
   "source": [
    "def reducer(word_dict):\n",
    "    for k, v in word_dict.items():\n",
    "        return {k: sum(v)}"
   ]
  },
  {
   "cell_type": "code",
   "execution_count": 7,
   "id": "aa29ca93",
   "metadata": {},
   "outputs": [
    {
     "data": {
      "text/plain": [
       "{'best': 2}"
      ]
     },
     "execution_count": 7,
     "metadata": {},
     "output_type": "execute_result"
    }
   ],
   "source": [
    "reducer({\"best\": [1, 1]})"
   ]
  },
  {
   "cell_type": "code",
   "execution_count": 9,
   "id": "d37ce1fd",
   "metadata": {},
   "outputs": [
    {
     "name": "stdout",
     "output_type": "stream",
     "text": [
      "[{'best': 1}, {'it': 10}, {'of': 10}, {'the': 11}, {'times': 2}, {'was': 10}, {'worst': 1}, {'age': 2}, {'foolishness': 1}, {'wisdom': 1}, {'belief': 1}, {'epoch': 2}, {'incredulity': 1}, {'darkness': 1}, {'light': 1}, {'season': 2}, {'despair': 1}, {'hope': 1}, {'spring': 1}, {'winter': 1}, {'before': 2}, {'everything': 1}, {'had': 2}, {'nothing': 1}, {'us': 2}, {'we': 4}, {'all': 2}, {'direct': 2}, {'going': 2}, {'heaven': 1}, {'other': 1}, {'to': 1}, {'way': 1}, {'were': 2}]\n"
     ]
    }
   ],
   "source": [
    "# loop over 7 input files\n",
    "shuffle_outputs = []\n",
    "for i in range(7):\n",
    "    shuffle_outputs += shuffler(mapper(f\"text_sample_{i}.txt\"))\n",
    "# another shuffle step to bring the outputs from the different mapper processes together\n",
    "shuffle_outputs = shuffler(shuffle_outputs)\n",
    "# now we can farm each k,v pair from the shuffle_outputs to different reducers\n",
    "counts = []\n",
    "for word_dict in shuffle_outputs:\n",
    "    counts.append(reducer(word_dict))\n",
    "\n",
    "print(counts)"
   ]
  },
  {
   "cell_type": "markdown",
   "id": "612fc926",
   "metadata": {},
   "source": [
    "Of course, this is a simple example, running entirely on our local machine, using a `for` loop.\n",
    "But it illustrates that for more complex cases, where there is data distributed over different locations, it is possible to have the \"map\" stage run in parallel on different machines, and similarly, once the \"shuffle\" stage has organized the data by key, it can send the \"reduce\" stage to be run on different machines in parallel."
   ]
  },
  {
   "cell_type": "markdown",
   "id": "821077ec",
   "metadata": {},
   "source": [
    "## Spark\n",
    "\n",
    "One drawback of MapReduce is that is inefficient if the processing dataflow requires multiple passes (e.g. training a Machine Learning model).\n",
    "This was one of the motivations for the development of _Spark_ https://spark.apache.org/\n",
    "\n",
    "Spark is based on the concept of a resilient distributed dataset (RDD), a set of read-only data objects distributed over a cluster.\n",
    "The workflow can be represented as a directed acyclic graph (DAG) with the nodes as the RDDs and the edges as the operations to be performed on the RDDs.\n",
    "For some types of workflow, Spark is considerably (x100) quicker than Hadoop/MapReduce, and it can also handle streaming data by making micro-batches and processing them.\n",
    "\n",
    "The package _pyspark_ https://spark.apache.org/docs/latest/api/python/ provides a Python interface to the Spark API.\n",
    "However, it does still need a Java runtime environment to work. "
   ]
  },
  {
   "attachments": {
    "dask_diagram.png": {
     "image/png": "[encoded data removed]"
    }
   },
   "cell_type": "markdown",
   "id": "4f6ced15",
   "metadata": {},
   "source": [
    "## Dask   \n",
    "\n",
    "Another option, which is growing in popularity in the academic and scientific communities, is _Dask_.\n",
    "The idea behind _Dask_ is to provide a familiar interface to _pandas_ and _numpy_ but to allow the same code to be run either locally or on a cluster.\n",
    "One of the tricks to facilitate this is \"lazy evaluation\" - when the code is run, the computation is not actually performed, but instead a \"task graph\" is built, where each node represents a Python function that performs a unit of computation, and the edges represent data dependencies between the upstream and downstream tasks.\n",
    "\n",
    "Once the task graph is generated, a \"scheduler\" (which can be either \"single-machine\" or \"distributed\" manages the workflow by using the task graph to assign tasks to workers in a way that optimizes parallelism while respecting the data dependencies. \n",
    "\n",
    "\n",
    "![dask_diagram.png](attachment:dask_diagram.png) (image from Dask documentation https://docs.dask.org/en/stable/ )"
   ]
  },
  {
   "cell_type": "markdown",
   "id": "e1d3440b",
   "metadata": {},
   "source": [
    "We can install Dask via pip:"
   ]
  },
  {
   "cell_type": "code",
   "execution_count": 10,
   "id": "49f3f9a4",
   "metadata": {},
   "outputs": [
    {
     "name": "stdout",
     "output_type": "stream",
     "text": [
      "Collecting dask\n",
      "  Using cached dask-2022.10.0-py3-none-any.whl (1.1 MB)\n",
      "Collecting cloudpickle>=1.1.1\n",
      "  Using cached cloudpickle-2.2.0-py3-none-any.whl (25 kB)\n",
      "Collecting fsspec>=0.6.0\n",
      "  Using cached fsspec-2022.10.0-py3-none-any.whl (138 kB)\n",
      "Requirement already satisfied: packaging>=20.0 in /Users/nbarlow/miniforge3/lib/python3.9/site-packages (from dask) (21.3)\n",
      "Collecting toolz>=0.8.2\n",
      "  Using cached toolz-0.12.0-py3-none-any.whl (55 kB)\n",
      "Collecting pyyaml>=5.3.1\n",
      "  Using cached PyYAML-6.0-cp39-cp39-macosx_11_0_arm64.whl (173 kB)\n",
      "Collecting partd>=0.3.10\n",
      "  Using cached partd-1.3.0-py3-none-any.whl (18 kB)\n",
      "Requirement already satisfied: pyparsing!=3.0.5,>=2.0.2 in /Users/nbarlow/miniforge3/lib/python3.9/site-packages (from packaging>=20.0->dask) (3.0.9)\n",
      "Collecting locket\n",
      "  Using cached locket-1.0.0-py2.py3-none-any.whl (4.4 kB)\n",
      "Installing collected packages: toolz, pyyaml, locket, fsspec, cloudpickle, partd, dask\n",
      "Successfully installed cloudpickle-2.2.0 dask-2022.10.0 fsspec-2022.10.0 locket-1.0.0 partd-1.3.0 pyyaml-6.0 toolz-0.12.0\n"
     ]
    }
   ],
   "source": [
    "!pip install dask"
   ]
  },
  {
   "cell_type": "markdown",
   "id": "cf80b755",
   "metadata": {},
   "source": [
    "Dask has a \"dataframe\", which can easily be constructed from its _pandas_ equivalent.\n",
    "Let's use our \"match_results.csv\" for input again:"
   ]
  },
  {
   "cell_type": "code",
   "execution_count": 11,
   "id": "a04cf60e",
   "metadata": {},
   "outputs": [],
   "source": [
    "import dask.dataframe as dd\n",
    "import numpy as np\n",
    "import pandas as pd"
   ]
  },
  {
   "cell_type": "code",
   "execution_count": 12,
   "id": "a227ec98",
   "metadata": {},
   "outputs": [
    {
     "data": {
      "text/html": [
       "<div><strong>Dask DataFrame Structure:</strong></div>\n",
       "<div>\n",
       "<style scoped>\n",
       "    .dataframe tbody tr th:only-of-type {\n",
       "        vertical-align: middle;\n",
       "    }\n",
       "\n",
       "    .dataframe tbody tr th {\n",
       "        vertical-align: top;\n",
       "    }\n",
       "\n",
       "    .dataframe thead th {\n",
       "        text-align: right;\n",
       "    }\n",
       "</style>\n",
       "<table border=\"1\" class=\"dataframe\">\n",
       "  <thead>\n",
       "    <tr style=\"text-align: right;\">\n",
       "      <th></th>\n",
       "      <th>Unnamed: 0</th>\n",
       "      <th>date</th>\n",
       "      <th>home_team</th>\n",
       "      <th>away_team</th>\n",
       "      <th>home_score</th>\n",
       "      <th>away_score</th>\n",
       "      <th>tournament</th>\n",
       "      <th>city</th>\n",
       "      <th>country</th>\n",
       "      <th>neutral</th>\n",
       "    </tr>\n",
       "    <tr>\n",
       "      <th>npartitions=10</th>\n",
       "      <th></th>\n",
       "      <th></th>\n",
       "      <th></th>\n",
       "      <th></th>\n",
       "      <th></th>\n",
       "      <th></th>\n",
       "      <th></th>\n",
       "      <th></th>\n",
       "      <th></th>\n",
       "      <th></th>\n",
       "    </tr>\n",
       "  </thead>\n",
       "  <tbody>\n",
       "    <tr>\n",
       "      <th>0</th>\n",
       "      <td>int64</td>\n",
       "      <td>object</td>\n",
       "      <td>object</td>\n",
       "      <td>object</td>\n",
       "      <td>int64</td>\n",
       "      <td>int64</td>\n",
       "      <td>object</td>\n",
       "      <td>object</td>\n",
       "      <td>object</td>\n",
       "      <td>bool</td>\n",
       "    </tr>\n",
       "    <tr>\n",
       "      <th>4406</th>\n",
       "      <td>...</td>\n",
       "      <td>...</td>\n",
       "      <td>...</td>\n",
       "      <td>...</td>\n",
       "      <td>...</td>\n",
       "      <td>...</td>\n",
       "      <td>...</td>\n",
       "      <td>...</td>\n",
       "      <td>...</td>\n",
       "      <td>...</td>\n",
       "    </tr>\n",
       "    <tr>\n",
       "      <th>...</th>\n",
       "      <td>...</td>\n",
       "      <td>...</td>\n",
       "      <td>...</td>\n",
       "      <td>...</td>\n",
       "      <td>...</td>\n",
       "      <td>...</td>\n",
       "      <td>...</td>\n",
       "      <td>...</td>\n",
       "      <td>...</td>\n",
       "      <td>...</td>\n",
       "    </tr>\n",
       "    <tr>\n",
       "      <th>39654</th>\n",
       "      <td>...</td>\n",
       "      <td>...</td>\n",
       "      <td>...</td>\n",
       "      <td>...</td>\n",
       "      <td>...</td>\n",
       "      <td>...</td>\n",
       "      <td>...</td>\n",
       "      <td>...</td>\n",
       "      <td>...</td>\n",
       "      <td>...</td>\n",
       "    </tr>\n",
       "    <tr>\n",
       "      <th>44059</th>\n",
       "      <td>...</td>\n",
       "      <td>...</td>\n",
       "      <td>...</td>\n",
       "      <td>...</td>\n",
       "      <td>...</td>\n",
       "      <td>...</td>\n",
       "      <td>...</td>\n",
       "      <td>...</td>\n",
       "      <td>...</td>\n",
       "      <td>...</td>\n",
       "    </tr>\n",
       "  </tbody>\n",
       "</table>\n",
       "</div>\n",
       "<div>Dask Name: from_pandas, 1 graph layer</div>"
      ],
      "text/plain": [
       "Dask DataFrame Structure:\n",
       "               Unnamed: 0    date home_team away_team home_score away_score tournament    city country neutral\n",
       "npartitions=10                                                                                                \n",
       "0                   int64  object    object    object      int64      int64     object  object  object    bool\n",
       "4406                  ...     ...       ...       ...        ...        ...        ...     ...     ...     ...\n",
       "...                   ...     ...       ...       ...        ...        ...        ...     ...     ...     ...\n",
       "39654                 ...     ...       ...       ...        ...        ...        ...     ...     ...     ...\n",
       "44059                 ...     ...       ...       ...        ...        ...        ...     ...     ...     ...\n",
       "Dask Name: from_pandas, 1 graph layer"
      ]
     },
     "execution_count": 12,
     "metadata": {},
     "output_type": "execute_result"
    }
   ],
   "source": [
    "df = pd.read_csv(\"match_results.csv\")\n",
    "ddf = dd.from_pandas(df, npartitions=10)\n",
    "ddf"
   ]
  },
  {
   "cell_type": "markdown",
   "id": "78e0b23c",
   "metadata": {},
   "source": [
    "The _Dask_ dataframe has 10 partitions, meaning that the 44k rows in the original csv are now divided into 10 batches of about 4.4k rows each."
   ]
  },
  {
   "cell_type": "code",
   "execution_count": 13,
   "id": "ea93b18b",
   "metadata": {},
   "outputs": [
    {
     "data": {
      "text/plain": [
       "(0, 4406, 8812, 13218, 17624, 22030, 26436, 30842, 35248, 39654, 44059)"
      ]
     },
     "execution_count": 13,
     "metadata": {},
     "output_type": "execute_result"
    }
   ],
   "source": [
    "ddf.divisions"
   ]
  },
  {
   "cell_type": "markdown",
   "id": "bc64d69a",
   "metadata": {},
   "source": [
    "The interface is very similar to _pandas_, with one important difference.\n",
    "For example, if we want to calculate the average of the \"home_score\" column, in _pandas_ we can do: "
   ]
  },
  {
   "cell_type": "code",
   "execution_count": 14,
   "id": "144bded7",
   "metadata": {},
   "outputs": [
    {
     "data": {
      "text/plain": [
       "1.7404675442578301"
      ]
     },
     "execution_count": 14,
     "metadata": {},
     "output_type": "execute_result"
    }
   ],
   "source": [
    "df.home_score.values.mean()"
   ]
  },
  {
   "cell_type": "markdown",
   "id": "e08bc55d",
   "metadata": {},
   "source": [
    "If we do the same in our _Dask_ dataframe:"
   ]
  },
  {
   "cell_type": "code",
   "execution_count": 15,
   "id": "e2924f2a",
   "metadata": {},
   "outputs": [
    {
     "data": {
      "text/html": [
       "<table>\n",
       "    <tr>\n",
       "        <td>\n",
       "            <table>\n",
       "                <thead>\n",
       "                    <tr>\n",
       "                        <td> </td>\n",
       "                        <th> Array </th>\n",
       "                        <th> Chunk </th>\n",
       "                    </tr>\n",
       "                </thead>\n",
       "                <tbody>\n",
       "                    \n",
       "                    <tr>\n",
       "                        <th> Bytes </th>\n",
       "                        <td> 8 B </td>\n",
       "                        <td> 8 B </td>\n",
       "                    </tr>\n",
       "                    \n",
       "                    <tr>\n",
       "                        <th> Shape </th>\n",
       "                        <td> () </td>\n",
       "                        <td> () </td>\n",
       "                    </tr>\n",
       "                    <tr>\n",
       "                        <th> Count </th>\n",
       "                        <td> 6 Graph Layers </td>\n",
       "                        <td> 1 Chunks </td>\n",
       "                    </tr>\n",
       "                    <tr>\n",
       "                    <th> Type </th>\n",
       "                    <td> float64 </td>\n",
       "                    <td> numpy.ndarray </td>\n",
       "                    </tr>\n",
       "                </tbody>\n",
       "            </table>\n",
       "        </td>\n",
       "        <td>\n",
       "        \n",
       "        </td>\n",
       "    </tr>\n",
       "</table>"
      ],
      "text/plain": [
       "dask.array<mean_agg-aggregate, shape=(), dtype=float64, chunksize=(), chunktype=numpy.ndarray>"
      ]
     },
     "execution_count": 15,
     "metadata": {},
     "output_type": "execute_result"
    }
   ],
   "source": [
    "ddf.home_score.values.mean()"
   ]
  },
  {
   "cell_type": "markdown",
   "id": "ce4aa845",
   "metadata": {},
   "source": [
    "what we get back is the **Task Graph**.\n",
    "In order to actually run the calculation, we need to add `compute()`:"
   ]
  },
  {
   "cell_type": "code",
   "execution_count": 16,
   "id": "5bbe774e",
   "metadata": {},
   "outputs": [
    {
     "data": {
      "text/plain": [
       "1.7404675442578301"
      ]
     },
     "execution_count": 16,
     "metadata": {},
     "output_type": "execute_result"
    }
   ],
   "source": [
    "ddf.home_score.values.mean().compute()"
   ]
  },
  {
   "cell_type": "markdown",
   "id": "9088d6ad",
   "metadata": {},
   "source": [
    "Let's try and do something more complicated.\n",
    "We can use the dataset to investigate whether \"home advantage\" is real, in international men's football matches.\n",
    "We have columns in the dataset for \"home_team\", \"away_team\" etc., but some of the matches were at tournaments in neutral territory, so we want to use the \"neutral\" column to exclude these.\n",
    "Having done that, we can just calculate the number of matches that the home team won, minus the number that the home team lost."
   ]
  },
  {
   "cell_type": "code",
   "execution_count": 17,
   "id": "acaf5aae",
   "metadata": {},
   "outputs": [],
   "source": [
    "def home_team_wins(home_score, away_score, neutral):\n",
    "    if neutral:\n",
    "        return 0\n",
    "    if home_score > away_score:  # home win\n",
    "        return 1\n",
    "    elif home_score < away_score:  # away win\n",
    "        return -1\n",
    "    else:  # draw\n",
    "        return 0"
   ]
  },
  {
   "cell_type": "code",
   "execution_count": 18,
   "id": "8a24c357",
   "metadata": {},
   "outputs": [],
   "source": [
    "ddf[\"home_win\"] = df.apply(\n",
    "    lambda row: home_team_wins(row[\"home_score\"], row[\"away_score\"], row[\"neutral\"]),\n",
    "    axis=1,\n",
    ")\n",
    "result = ddf[\"home_win\"].values.sum()"
   ]
  },
  {
   "attachments": {
    "dask_task_graph.png": {
     "image/png": "[encoded data removed]"
    }
   },
   "cell_type": "markdown",
   "id": "da7743a4",
   "metadata": {},
   "source": [
    "The Task Graph for this computation, on our dataframe with 10 partitions, looks like this:\n",
    "![dask_task_graph.png](attachment:dask_task_graph.png)\n",
    "\n",
    "Note that you can create this visualization for yourself, if you install the _graphviz_ package (e.g. `brew install graphviz` on Mac) then install the Python graphviz package (`pip install graphviz`), then do `result.visualize()`.\n",
    "\n",
    "Don't worry about the details, but we can see the 10 data partitions at the bottom, and the single result at the top, and a bunch of clever intermediate steps that Dask is figuring out for us.\n",
    "\n"
   ]
  },
  {
   "cell_type": "markdown",
   "id": "277f8d10",
   "metadata": {},
   "source": [
    "At this point we can create either a local scheduler, or if we have a handy compute cluster, a distributed scheduler.\n",
    "Either way, we do this by creating an instance of the `dask.distributed.Client` class, with the URL of the scheduler.\n",
    "\n",
    "There are instructions on setting up a Dask cluster here: https://docs.dask.org/en/stable/deploying.html but for now, let's just run on our local machine, with a local scheduler."
   ]
  },
  {
   "cell_type": "code",
   "execution_count": 21,
   "id": "9d7c4f62",
   "metadata": {},
   "outputs": [
    {
     "name": "stdout",
     "output_type": "stream",
     "text": [
      "Requirement already satisfied: dask[distributed] in /Users/nbarlow/miniforge3/lib/python3.9/site-packages (2022.10.0)\n",
      "Requirement already satisfied: toolz>=0.8.2 in /Users/nbarlow/miniforge3/lib/python3.9/site-packages (from dask[distributed]) (0.12.0)\n",
      "Requirement already satisfied: partd>=0.3.10 in /Users/nbarlow/miniforge3/lib/python3.9/site-packages (from dask[distributed]) (1.3.0)\n",
      "Requirement already satisfied: cloudpickle>=1.1.1 in /Users/nbarlow/miniforge3/lib/python3.9/site-packages (from dask[distributed]) (2.2.0)\n",
      "Requirement already satisfied: fsspec>=0.6.0 in /Users/nbarlow/miniforge3/lib/python3.9/site-packages (from dask[distributed]) (2022.10.0)\n",
      "Requirement already satisfied: packaging>=20.0 in /Users/nbarlow/miniforge3/lib/python3.9/site-packages (from dask[distributed]) (21.3)\n",
      "Requirement already satisfied: pyyaml>=5.3.1 in /Users/nbarlow/miniforge3/lib/python3.9/site-packages (from dask[distributed]) (6.0)\n",
      "Collecting distributed==2022.10.0\n",
      "  Using cached distributed-2022.10.0-py3-none-any.whl (908 kB)\n",
      "Collecting tornado<6.2,>=6.0.3\n",
      "  Using cached tornado-6.1.tar.gz (497 kB)\n",
      "  Preparing metadata (setup.py) ... \u001b[?25ldone\n",
      "\u001b[?25hRequirement already satisfied: locket>=1.0.0 in /Users/nbarlow/miniforge3/lib/python3.9/site-packages (from distributed==2022.10.0->dask[distributed]) (1.0.0)\n",
      "Collecting tblib>=1.6.0\n",
      "  Using cached tblib-1.7.0-py2.py3-none-any.whl (12 kB)\n",
      "Requirement already satisfied: psutil>=5.0 in /Users/nbarlow/miniforge3/lib/python3.9/site-packages (from distributed==2022.10.0->dask[distributed]) (5.9.1)\n",
      "Requirement already satisfied: urllib3 in /Users/nbarlow/miniforge3/lib/python3.9/site-packages (from distributed==2022.10.0->dask[distributed]) (1.26.9)\n",
      "Collecting msgpack>=0.6.0\n",
      "  Using cached msgpack-1.0.4-cp39-cp39-macosx_11_0_arm64.whl (69 kB)\n",
      "Collecting click>=6.6\n",
      "  Using cached click-8.1.3-py3-none-any.whl (96 kB)\n",
      "Requirement already satisfied: jinja2 in /Users/nbarlow/miniforge3/lib/python3.9/site-packages (from distributed==2022.10.0->dask[distributed]) (3.1.2)\n",
      "Collecting sortedcontainers!=2.0.0,!=2.0.1\n",
      "  Using cached sortedcontainers-2.4.0-py2.py3-none-any.whl (29 kB)\n",
      "Collecting zict>=0.1.3\n",
      "  Using cached zict-2.2.0-py2.py3-none-any.whl (23 kB)\n",
      "Requirement already satisfied: pyparsing!=3.0.5,>=2.0.2 in /Users/nbarlow/miniforge3/lib/python3.9/site-packages (from packaging>=20.0->dask[distributed]) (3.0.9)\n",
      "Collecting heapdict\n",
      "  Using cached HeapDict-1.0.1-py3-none-any.whl (3.9 kB)\n",
      "Requirement already satisfied: MarkupSafe>=2.0 in /Users/nbarlow/miniforge3/lib/python3.9/site-packages (from jinja2->distributed==2022.10.0->dask[distributed]) (2.1.1)\n",
      "Building wheels for collected packages: tornado\n",
      "  Building wheel for tornado (setup.py) ... \u001b[?25ldone\n",
      "\u001b[?25h  Created wheel for tornado: filename=tornado-6.1-cp39-cp39-macosx_11_0_arm64.whl size=416628 sha256=a14da0a490129278f35820f3bf85a9690d0a6d019c6af25be6ffab592c78d765\n",
      "  Stored in directory: /Users/nbarlow/Library/Caches/pip/wheels/e6/6b/c3/dbb71bdabdc4681fb3cdf364f2c969f39ebc13c1a512cf6e43\n",
      "Successfully built tornado\n",
      "Installing collected packages: sortedcontainers, msgpack, heapdict, zict, tornado, tblib, click, distributed\n",
      "  Attempting uninstall: tornado\n",
      "    Found existing installation: tornado 6.2\n",
      "    Uninstalling tornado-6.2:\n",
      "      Successfully uninstalled tornado-6.2\n",
      "Successfully installed click-8.1.3 distributed-2022.10.0 heapdict-1.0.1 msgpack-1.0.4 sortedcontainers-2.4.0 tblib-1.7.0 tornado-6.1 zict-2.2.0\n"
     ]
    }
   ],
   "source": [
    "!pip install \"dask[distributed]\""
   ]
  },
  {
   "cell_type": "code",
   "execution_count": 22,
   "id": "08ac29f6",
   "metadata": {},
   "outputs": [
    {
     "name": "stderr",
     "output_type": "stream",
     "text": [
      "2022-10-28 11:12:51,915 - distributed.worker - WARNING - Mismatched versions found\n",
      "\n",
      "+---------+---------------------------------------------+-----------+---------+\n",
      "| Package | Worker-b4e96e83-33d2-49f6-8d0e-1ce05b211111 | Scheduler | Workers |\n",
      "+---------+---------------------------------------------+-----------+---------+\n",
      "| tornado | 6.1                                         | 6.2       | 6.1     |\n",
      "+---------+---------------------------------------------+-----------+---------+\n",
      "2022-10-28 11:12:51,916 - distributed.worker - WARNING - Mismatched versions found\n",
      "\n",
      "+---------+---------------------------------------------+-----------+---------+\n",
      "| Package | Worker-b0ef97ca-6dca-4181-a551-a1b445e970a9 | Scheduler | Workers |\n",
      "+---------+---------------------------------------------+-----------+---------+\n",
      "| tornado | 6.1                                         | 6.2       | 6.1     |\n",
      "+---------+---------------------------------------------+-----------+---------+\n",
      "2022-10-28 11:12:51,917 - distributed.worker - WARNING - Mismatched versions found\n",
      "\n",
      "+---------+---------------------------------------------+-----------+---------+\n",
      "| Package | Worker-000527b3-fe7c-495d-b682-265546c53382 | Scheduler | Workers |\n",
      "+---------+---------------------------------------------+-----------+---------+\n",
      "| tornado | 6.1                                         | 6.2       | 6.1     |\n",
      "+---------+---------------------------------------------+-----------+---------+\n",
      "2022-10-28 11:12:51,917 - distributed.worker - WARNING - Mismatched versions found\n",
      "\n",
      "+---------+---------------------------------------------+-----------+---------+\n",
      "| Package | Worker-1300b1d9-0353-47e3-b9e8-2eeceb065451 | Scheduler | Workers |\n",
      "+---------+---------------------------------------------+-----------+---------+\n",
      "| tornado | 6.1                                         | 6.2       | 6.1     |\n",
      "+---------+---------------------------------------------+-----------+---------+\n",
      "2022-10-28 11:12:51,918 - distributed.worker - WARNING - Mismatched versions found\n",
      "\n",
      "+---------+---------------------------------------------+-----------+---------+\n",
      "| Package | Worker-dc16984e-3c4e-4675-acd1-99b00092a3d5 | Scheduler | Workers |\n",
      "+---------+---------------------------------------------+-----------+---------+\n",
      "| tornado | 6.1                                         | 6.2       | 6.1     |\n",
      "+---------+---------------------------------------------+-----------+---------+\n",
      "/Users/nbarlow/miniforge3/lib/python3.9/site-packages/distributed/client.py:1309: VersionMismatchWarning: Mismatched versions found\n",
      "\n",
      "+---------+--------+-----------+---------+\n",
      "| Package | Client | Scheduler | Workers |\n",
      "+---------+--------+-----------+---------+\n",
      "| tornado | 6.2    | 6.2       | 6.1     |\n",
      "+---------+--------+-----------+---------+\n",
      "  warnings.warn(version_module.VersionMismatchWarning(msg[0][\"warning\"]))\n"
     ]
    },
    {
     "data": {
      "text/html": [
       "<div>\n",
       "    <div style=\"width: 24px; height: 24px; background-color: #e1e1e1; border: 3px solid #9D9D9D; border-radius: 5px; position: absolute;\"> </div>\n",
       "    <div style=\"margin-left: 48px;\">\n",
       "        <h3 style=\"margin-bottom: 0px;\">Client</h3>\n",
       "        <p style=\"color: #9D9D9D; margin-bottom: 0px;\">Client-1488f22c-56a9-11ed-9cc9-0ad795551d16</p>\n",
       "        <table style=\"width: 100%; text-align: left;\">\n",
       "\n",
       "        <tr>\n",
       "        \n",
       "            <td style=\"text-align: left;\"><strong>Connection method:</strong> Cluster object</td>\n",
       "            <td style=\"text-align: left;\"><strong>Cluster type:</strong> distributed.LocalCluster</td>\n",
       "        \n",
       "        </tr>\n",
       "\n",
       "        \n",
       "            <tr>\n",
       "                <td style=\"text-align: left;\">\n",
       "                    <strong>Dashboard: </strong> <a href=\"http://127.0.0.1:8787/status\" target=\"_blank\">http://127.0.0.1:8787/status</a>\n",
       "                </td>\n",
       "                <td style=\"text-align: left;\"></td>\n",
       "            </tr>\n",
       "        \n",
       "\n",
       "        </table>\n",
       "\n",
       "        \n",
       "            <details>\n",
       "            <summary style=\"margin-bottom: 20px;\"><h3 style=\"display: inline;\">Cluster Info</h3></summary>\n",
       "            <div class=\"jp-RenderedHTMLCommon jp-RenderedHTML jp-mod-trusted jp-OutputArea-output\">\n",
       "    <div style=\"width: 24px; height: 24px; background-color: #e1e1e1; border: 3px solid #9D9D9D; border-radius: 5px; position: absolute;\">\n",
       "    </div>\n",
       "    <div style=\"margin-left: 48px;\">\n",
       "        <h3 style=\"margin-bottom: 0px; margin-top: 0px;\">LocalCluster</h3>\n",
       "        <p style=\"color: #9D9D9D; margin-bottom: 0px;\">f96612a1</p>\n",
       "        <table style=\"width: 100%; text-align: left;\">\n",
       "            <tr>\n",
       "                <td style=\"text-align: left;\">\n",
       "                    <strong>Dashboard:</strong> <a href=\"http://127.0.0.1:8787/status\" target=\"_blank\">http://127.0.0.1:8787/status</a>\n",
       "                </td>\n",
       "                <td style=\"text-align: left;\">\n",
       "                    <strong>Workers:</strong> 5\n",
       "                </td>\n",
       "            </tr>\n",
       "            <tr>\n",
       "                <td style=\"text-align: left;\">\n",
       "                    <strong>Total threads:</strong> 10\n",
       "                </td>\n",
       "                <td style=\"text-align: left;\">\n",
       "                    <strong>Total memory:</strong> 32.00 GiB\n",
       "                </td>\n",
       "            </tr>\n",
       "            \n",
       "            <tr>\n",
       "    <td style=\"text-align: left;\"><strong>Status:</strong> running</td>\n",
       "    <td style=\"text-align: left;\"><strong>Using processes:</strong> True</td>\n",
       "</tr>\n",
       "\n",
       "            \n",
       "        </table>\n",
       "\n",
       "        <details>\n",
       "            <summary style=\"margin-bottom: 20px;\">\n",
       "                <h3 style=\"display: inline;\">Scheduler Info</h3>\n",
       "            </summary>\n",
       "\n",
       "            <div style=\"\">\n",
       "    <div>\n",
       "        <div style=\"width: 24px; height: 24px; background-color: #FFF7E5; border: 3px solid #FF6132; border-radius: 5px; position: absolute;\"> </div>\n",
       "        <div style=\"margin-left: 48px;\">\n",
       "            <h3 style=\"margin-bottom: 0px;\">Scheduler</h3>\n",
       "            <p style=\"color: #9D9D9D; margin-bottom: 0px;\">Scheduler-bb8a28f6-dcfa-453e-aab0-6230eb6ed3f8</p>\n",
       "            <table style=\"width: 100%; text-align: left;\">\n",
       "                <tr>\n",
       "                    <td style=\"text-align: left;\">\n",
       "                        <strong>Comm:</strong> tcp://127.0.0.1:61727\n",
       "                    </td>\n",
       "                    <td style=\"text-align: left;\">\n",
       "                        <strong>Workers:</strong> 5\n",
       "                    </td>\n",
       "                </tr>\n",
       "                <tr>\n",
       "                    <td style=\"text-align: left;\">\n",
       "                        <strong>Dashboard:</strong> <a href=\"http://127.0.0.1:8787/status\" target=\"_blank\">http://127.0.0.1:8787/status</a>\n",
       "                    </td>\n",
       "                    <td style=\"text-align: left;\">\n",
       "                        <strong>Total threads:</strong> 10\n",
       "                    </td>\n",
       "                </tr>\n",
       "                <tr>\n",
       "                    <td style=\"text-align: left;\">\n",
       "                        <strong>Started:</strong> Just now\n",
       "                    </td>\n",
       "                    <td style=\"text-align: left;\">\n",
       "                        <strong>Total memory:</strong> 32.00 GiB\n",
       "                    </td>\n",
       "                </tr>\n",
       "            </table>\n",
       "        </div>\n",
       "    </div>\n",
       "\n",
       "    <details style=\"margin-left: 48px;\">\n",
       "        <summary style=\"margin-bottom: 20px;\">\n",
       "            <h3 style=\"display: inline;\">Workers</h3>\n",
       "        </summary>\n",
       "\n",
       "        \n",
       "        <div style=\"margin-bottom: 20px;\">\n",
       "            <div style=\"width: 24px; height: 24px; background-color: #DBF5FF; border: 3px solid #4CC9FF; border-radius: 5px; position: absolute;\"> </div>\n",
       "            <div style=\"margin-left: 48px;\">\n",
       "            <details>\n",
       "                <summary>\n",
       "                    <h4 style=\"margin-bottom: 0px; display: inline;\">Worker: 0</h4>\n",
       "                </summary>\n",
       "                <table style=\"width: 100%; text-align: left;\">\n",
       "                    <tr>\n",
       "                        <td style=\"text-align: left;\">\n",
       "                            <strong>Comm: </strong> tcp://127.0.0.1:61748\n",
       "                        </td>\n",
       "                        <td style=\"text-align: left;\">\n",
       "                            <strong>Total threads: </strong> 2\n",
       "                        </td>\n",
       "                    </tr>\n",
       "                    <tr>\n",
       "                        <td style=\"text-align: left;\">\n",
       "                            <strong>Dashboard: </strong> <a href=\"http://127.0.0.1:61752/status\" target=\"_blank\">http://127.0.0.1:61752/status</a>\n",
       "                        </td>\n",
       "                        <td style=\"text-align: left;\">\n",
       "                            <strong>Memory: </strong> 6.40 GiB\n",
       "                        </td>\n",
       "                    </tr>\n",
       "                    <tr>\n",
       "                        <td style=\"text-align: left;\">\n",
       "                            <strong>Nanny: </strong> tcp://127.0.0.1:61731\n",
       "                        </td>\n",
       "                        <td style=\"text-align: left;\"></td>\n",
       "                    </tr>\n",
       "                    <tr>\n",
       "                        <td colspan=\"2\" style=\"text-align: left;\">\n",
       "                            <strong>Local directory: </strong> /var/folders/xs/3v3htz8s0f99__76nxm2c3cc0000gr/T/dask-worker-space/worker-9eiv50pe\n",
       "                        </td>\n",
       "                    </tr>\n",
       "\n",
       "                    \n",
       "\n",
       "                    \n",
       "\n",
       "                </table>\n",
       "            </details>\n",
       "            </div>\n",
       "        </div>\n",
       "        \n",
       "        <div style=\"margin-bottom: 20px;\">\n",
       "            <div style=\"width: 24px; height: 24px; background-color: #DBF5FF; border: 3px solid #4CC9FF; border-radius: 5px; position: absolute;\"> </div>\n",
       "            <div style=\"margin-left: 48px;\">\n",
       "            <details>\n",
       "                <summary>\n",
       "                    <h4 style=\"margin-bottom: 0px; display: inline;\">Worker: 1</h4>\n",
       "                </summary>\n",
       "                <table style=\"width: 100%; text-align: left;\">\n",
       "                    <tr>\n",
       "                        <td style=\"text-align: left;\">\n",
       "                            <strong>Comm: </strong> tcp://127.0.0.1:61747\n",
       "                        </td>\n",
       "                        <td style=\"text-align: left;\">\n",
       "                            <strong>Total threads: </strong> 2\n",
       "                        </td>\n",
       "                    </tr>\n",
       "                    <tr>\n",
       "                        <td style=\"text-align: left;\">\n",
       "                            <strong>Dashboard: </strong> <a href=\"http://127.0.0.1:61750/status\" target=\"_blank\">http://127.0.0.1:61750/status</a>\n",
       "                        </td>\n",
       "                        <td style=\"text-align: left;\">\n",
       "                            <strong>Memory: </strong> 6.40 GiB\n",
       "                        </td>\n",
       "                    </tr>\n",
       "                    <tr>\n",
       "                        <td style=\"text-align: left;\">\n",
       "                            <strong>Nanny: </strong> tcp://127.0.0.1:61734\n",
       "                        </td>\n",
       "                        <td style=\"text-align: left;\"></td>\n",
       "                    </tr>\n",
       "                    <tr>\n",
       "                        <td colspan=\"2\" style=\"text-align: left;\">\n",
       "                            <strong>Local directory: </strong> /var/folders/xs/3v3htz8s0f99__76nxm2c3cc0000gr/T/dask-worker-space/worker-3tl5xjfg\n",
       "                        </td>\n",
       "                    </tr>\n",
       "\n",
       "                    \n",
       "\n",
       "                    \n",
       "\n",
       "                </table>\n",
       "            </details>\n",
       "            </div>\n",
       "        </div>\n",
       "        \n",
       "        <div style=\"margin-bottom: 20px;\">\n",
       "            <div style=\"width: 24px; height: 24px; background-color: #DBF5FF; border: 3px solid #4CC9FF; border-radius: 5px; position: absolute;\"> </div>\n",
       "            <div style=\"margin-left: 48px;\">\n",
       "            <details>\n",
       "                <summary>\n",
       "                    <h4 style=\"margin-bottom: 0px; display: inline;\">Worker: 2</h4>\n",
       "                </summary>\n",
       "                <table style=\"width: 100%; text-align: left;\">\n",
       "                    <tr>\n",
       "                        <td style=\"text-align: left;\">\n",
       "                            <strong>Comm: </strong> tcp://127.0.0.1:61746\n",
       "                        </td>\n",
       "                        <td style=\"text-align: left;\">\n",
       "                            <strong>Total threads: </strong> 2\n",
       "                        </td>\n",
       "                    </tr>\n",
       "                    <tr>\n",
       "                        <td style=\"text-align: left;\">\n",
       "                            <strong>Dashboard: </strong> <a href=\"http://127.0.0.1:61751/status\" target=\"_blank\">http://127.0.0.1:61751/status</a>\n",
       "                        </td>\n",
       "                        <td style=\"text-align: left;\">\n",
       "                            <strong>Memory: </strong> 6.40 GiB\n",
       "                        </td>\n",
       "                    </tr>\n",
       "                    <tr>\n",
       "                        <td style=\"text-align: left;\">\n",
       "                            <strong>Nanny: </strong> tcp://127.0.0.1:61733\n",
       "                        </td>\n",
       "                        <td style=\"text-align: left;\"></td>\n",
       "                    </tr>\n",
       "                    <tr>\n",
       "                        <td colspan=\"2\" style=\"text-align: left;\">\n",
       "                            <strong>Local directory: </strong> /var/folders/xs/3v3htz8s0f99__76nxm2c3cc0000gr/T/dask-worker-space/worker-fda76isl\n",
       "                        </td>\n",
       "                    </tr>\n",
       "\n",
       "                    \n",
       "\n",
       "                    \n",
       "\n",
       "                </table>\n",
       "            </details>\n",
       "            </div>\n",
       "        </div>\n",
       "        \n",
       "        <div style=\"margin-bottom: 20px;\">\n",
       "            <div style=\"width: 24px; height: 24px; background-color: #DBF5FF; border: 3px solid #4CC9FF; border-radius: 5px; position: absolute;\"> </div>\n",
       "            <div style=\"margin-left: 48px;\">\n",
       "            <details>\n",
       "                <summary>\n",
       "                    <h4 style=\"margin-bottom: 0px; display: inline;\">Worker: 3</h4>\n",
       "                </summary>\n",
       "                <table style=\"width: 100%; text-align: left;\">\n",
       "                    <tr>\n",
       "                        <td style=\"text-align: left;\">\n",
       "                            <strong>Comm: </strong> tcp://127.0.0.1:61745\n",
       "                        </td>\n",
       "                        <td style=\"text-align: left;\">\n",
       "                            <strong>Total threads: </strong> 2\n",
       "                        </td>\n",
       "                    </tr>\n",
       "                    <tr>\n",
       "                        <td style=\"text-align: left;\">\n",
       "                            <strong>Dashboard: </strong> <a href=\"http://127.0.0.1:61753/status\" target=\"_blank\">http://127.0.0.1:61753/status</a>\n",
       "                        </td>\n",
       "                        <td style=\"text-align: left;\">\n",
       "                            <strong>Memory: </strong> 6.40 GiB\n",
       "                        </td>\n",
       "                    </tr>\n",
       "                    <tr>\n",
       "                        <td style=\"text-align: left;\">\n",
       "                            <strong>Nanny: </strong> tcp://127.0.0.1:61732\n",
       "                        </td>\n",
       "                        <td style=\"text-align: left;\"></td>\n",
       "                    </tr>\n",
       "                    <tr>\n",
       "                        <td colspan=\"2\" style=\"text-align: left;\">\n",
       "                            <strong>Local directory: </strong> /var/folders/xs/3v3htz8s0f99__76nxm2c3cc0000gr/T/dask-worker-space/worker-5_q85h2j\n",
       "                        </td>\n",
       "                    </tr>\n",
       "\n",
       "                    \n",
       "\n",
       "                    \n",
       "\n",
       "                </table>\n",
       "            </details>\n",
       "            </div>\n",
       "        </div>\n",
       "        \n",
       "        <div style=\"margin-bottom: 20px;\">\n",
       "            <div style=\"width: 24px; height: 24px; background-color: #DBF5FF; border: 3px solid #4CC9FF; border-radius: 5px; position: absolute;\"> </div>\n",
       "            <div style=\"margin-left: 48px;\">\n",
       "            <details>\n",
       "                <summary>\n",
       "                    <h4 style=\"margin-bottom: 0px; display: inline;\">Worker: 4</h4>\n",
       "                </summary>\n",
       "                <table style=\"width: 100%; text-align: left;\">\n",
       "                    <tr>\n",
       "                        <td style=\"text-align: left;\">\n",
       "                            <strong>Comm: </strong> tcp://127.0.0.1:61749\n",
       "                        </td>\n",
       "                        <td style=\"text-align: left;\">\n",
       "                            <strong>Total threads: </strong> 2\n",
       "                        </td>\n",
       "                    </tr>\n",
       "                    <tr>\n",
       "                        <td style=\"text-align: left;\">\n",
       "                            <strong>Dashboard: </strong> <a href=\"http://127.0.0.1:61754/status\" target=\"_blank\">http://127.0.0.1:61754/status</a>\n",
       "                        </td>\n",
       "                        <td style=\"text-align: left;\">\n",
       "                            <strong>Memory: </strong> 6.40 GiB\n",
       "                        </td>\n",
       "                    </tr>\n",
       "                    <tr>\n",
       "                        <td style=\"text-align: left;\">\n",
       "                            <strong>Nanny: </strong> tcp://127.0.0.1:61730\n",
       "                        </td>\n",
       "                        <td style=\"text-align: left;\"></td>\n",
       "                    </tr>\n",
       "                    <tr>\n",
       "                        <td colspan=\"2\" style=\"text-align: left;\">\n",
       "                            <strong>Local directory: </strong> /var/folders/xs/3v3htz8s0f99__76nxm2c3cc0000gr/T/dask-worker-space/worker-huv0o7_i\n",
       "                        </td>\n",
       "                    </tr>\n",
       "\n",
       "                    \n",
       "\n",
       "                    \n",
       "\n",
       "                </table>\n",
       "            </details>\n",
       "            </div>\n",
       "        </div>\n",
       "        \n",
       "\n",
       "    </details>\n",
       "</div>\n",
       "\n",
       "        </details>\n",
       "    </div>\n",
       "</div>\n",
       "            </details>\n",
       "        \n",
       "\n",
       "    </div>\n",
       "</div>"
      ],
      "text/plain": [
       "<Client: 'tcp://127.0.0.1:61727' processes=5 threads=10, memory=32.00 GiB>"
      ]
     },
     "execution_count": 22,
     "metadata": {},
     "output_type": "execute_result"
    }
   ],
   "source": [
    "from dask.distributed import Client\n",
    "\n",
    "client = Client()  # or Client(\"<scheduler URL>\") for remote cluster\n",
    "client"
   ]
  },
  {
   "cell_type": "markdown",
   "id": "9e29def8",
   "metadata": {},
   "source": [
    "Note the link to the dashboard - this will provide some diagnostics into what the scheduler is doing.\n",
    "\n",
    "Once we have created a client, whenever we call `compute()` it will run on the scheduler that the client points to (in this case a local scheduler"
   ]
  },
  {
   "cell_type": "code",
   "execution_count": 23,
   "id": "2a27ed86",
   "metadata": {},
   "outputs": [
    {
     "data": {
      "text/plain": [
       "8061"
      ]
     },
     "execution_count": 23,
     "metadata": {},
     "output_type": "execute_result"
    }
   ],
   "source": [
    "result.compute()"
   ]
  },
  {
   "cell_type": "markdown",
   "id": "b94cb202",
   "metadata": {},
   "source": [
    "So, in our dataset, home teams won 8k times more often than away teams, so it seems that home advantage is a real thing!"
   ]
  }
 ],
 "metadata": {
  "kernelspec": {
   "display_name": "Python 3 (ipykernel)",
   "language": "python",
   "name": "python3"
  },
  "language_info": {
   "codemirror_mode": {
    "name": "ipython",
    "version": 3
   },
   "file_extension": ".py",
   "mimetype": "text/x-python",
   "name": "python",
   "nbconvert_exporter": "python",
   "pygments_lexer": "ipython3",
   "version": "3.8.13"
  }
 },
 "nbformat": 4,
 "nbformat_minor": 5
}
