{
 "cells": [
  {
   "cell_type": "markdown",
   "id": "cea21032",
   "metadata": {},
   "source": [
    "## Exercise: Saving and loading data\n",
    "*from 3.1 - relevant sections = 3.1.2, 3.1.3*\n",
    "\n",
    "\n",
    "Use YAML or JSON to save your maze data structure to disk and load it again.\n",
    "\n",
    "The maze would have looked something like this:"
   ]
  },
  {
   "cell_type": "code",
   "execution_count": null,
   "id": "9f08efc2",
   "metadata": {},
   "outputs": [],
   "source": [
    "house = {\n",
    "    \"living\": {\n",
    "        \"exits\": {\"north\": \"kitchen\", \"outside\": \"garden\", \"upstairs\": \"bedroom\"},\n",
    "        \"people\": [\"James\"],\n",
    "        \"capacity\": 2,\n",
    "    },\n",
    "    \"kitchen\": {\"exits\": {\"south\": \"living\"}, \"people\": [], \"capacity\": 1},\n",
    "    \"garden\": {\"exits\": {\"inside\": \"living\"}, \"people\": [\"Sue\"], \"capacity\": 3},\n",
    "    \"bedroom\": {\n",
    "        \"exits\": {\"downstairs\": \"living\", \"jump\": \"garden\"},\n",
    "        \"people\": [],\n",
    "        \"capacity\": 1,\n",
    "    },\n",
    "}"
   ]
  },
  {
   "cell_type": "markdown",
   "id": "b64a7136",
   "metadata": {},
   "source": [
    "# Exercise/Example: the biggest Earthquake in the UK this Century"
   ]
  },
  {
   "cell_type": "markdown",
   "id": "b55fca44",
   "metadata": {},
   "source": [
    "## The Problem\n",
    "`GeoJSON` is a json-based file format for sharing geographic data. One example dataset is the USGS earthquake data:"
   ]
  },
  {
   "cell_type": "code",
   "execution_count": 1,
   "id": "78c51771",
   "metadata": {},
   "outputs": [],
   "source": [
    "import requests\n",
    "\n",
    "quakes = requests.get(\n",
    "    \"http://earthquake.usgs.gov/fdsnws/event/1/query.geojson\",\n",
    "    params={\n",
    "        \"starttime\": \"2000-01-01\",\n",
    "        \"maxlatitude\": \"58.723\",\n",
    "        \"minlatitude\": \"50.008\",\n",
    "        \"maxlongitude\": \"1.67\",\n",
    "        \"minlongitude\": \"-9.756\",\n",
    "        \"minmagnitude\": \"1\",\n",
    "        \"endtime\": \"2021-01-19\",\n",
    "        \"orderby\": \"time-asc\",\n",
    "    },\n",
    ")"
   ]
  },
  {
   "cell_type": "code",
   "execution_count": 2,
   "id": "597b47ab",
   "metadata": {},
   "outputs": [
    {
     "data": {
      "text/plain": [
       "'{\"type\":\"FeatureCollection\",\"metadata\":{\"generated\":1660565224000,\"url\":\"https://earthquake.usgs.gov'"
      ]
     },
     "execution_count": 2,
     "metadata": {},
     "output_type": "execute_result"
    }
   ],
   "source": [
    "quakes.text[0:100]"
   ]
  },
  {
   "cell_type": "markdown",
   "id": "a2d97ff5",
   "metadata": {},
   "source": [
    "## Your exercise\n",
    "\n",
    "Determine the **location** of the **largest magnitude** earthquake in the UK this century."
   ]
  },
  {
   "cell_type": "markdown",
   "id": "861512eb",
   "metadata": {},
   "source": [
    "You can break this exercise down into several subtasks. You'll need to:\n",
    "### Load the data\n",
    "* Get the text of the web result\n",
    "* Parse the data as JSON\n",
    "\n",
    "### Investigate the data\n",
    "* Understand how the data is structured into dictionaries and lists\n",
    "   * Where is the magnitude?\n",
    "   * Where is the place description or coordinates?\n",
    "   \n",
    "### Search through the data\n",
    "* Program a search through all the quakes to find the biggest quake\n",
    "* Find the place of the biggest quake\n",
    "\n",
    "### Visualise your answer\n",
    "* Form a URL for an online map service at that latitude and longitude: look back at the introductory example\n",
    "* Display that image"
   ]
  },
  {
   "cell_type": "code",
   "execution_count": 30,
   "id": "1e368a92",
   "metadata": {},
   "outputs": [],
   "source": [
    "# Answer: Load the data:\n",
    "import requests\n",
    "import json\n",
    "\n",
    "quakes = requests.get(\n",
    "    \"http://earthquake.usgs.gov/fdsnws/event/1/query.geojson\",\n",
    "    params={\n",
    "        \"starttime\": \"2000-01-01\",\n",
    "        \"maxlatitude\": \"58.723\",\n",
    "        \"minlatitude\": \"50.008\",\n",
    "        \"maxlongitude\": \"1.67\",\n",
    "        \"minlongitude\": \"-9.756\",\n",
    "        \"minmagnitude\": \"1\",\n",
    "        \"endtime\": \"2021-08-14\", # Change the date to yesterday\n",
    "        \"orderby\": \"time-asc\",\n",
    "    },\n",
    ")"
   ]
  },
  {
   "cell_type": "markdown",
   "id": "0517ef28",
   "metadata": {},
   "source": [
    "### ANS: Load the data"
   ]
  },
  {
   "cell_type": "code",
   "execution_count": 32,
   "id": "b7d1c8e5",
   "metadata": {},
   "outputs": [],
   "source": [
    "# Can get the data indirectly via the text and then load json text....\n",
    "my_json_data = json.loads(quakes.text) # Section 3.1 - structured data\n",
    "\n",
    "# Requests also has a built in json parser\n",
    "requests_json = quakes.json()"
   ]
  },
  {
   "cell_type": "markdown",
   "id": "05798376",
   "metadata": {},
   "source": [
    "### ANS: Investigate the data"
   ]
  },
  {
   "cell_type": "code",
   "execution_count": 33,
   "id": "37ef51e3",
   "metadata": {},
   "outputs": [
    {
     "name": "stdout",
     "output_type": "stream",
     "text": [
      "<class 'dict'> <class 'dict'>\n"
     ]
    }
   ],
   "source": [
    "# Look at the type of the data\n",
    "print(type(my_json_data), type(requests_json))"
   ]
  },
  {
   "cell_type": "code",
   "execution_count": 41,
   "id": "dae9228c",
   "metadata": {},
   "outputs": [
    {
     "name": "stdout",
     "output_type": "stream",
     "text": [
      "dict_keys(['type', 'metadata', 'features', 'bbox'])\n"
     ]
    }
   ],
   "source": [
    "# Look at the dictionary keys\n",
    "print(requests_json.keys())"
   ]
  },
  {
   "cell_type": "code",
   "execution_count": 49,
   "id": "48f9f74c",
   "metadata": {},
   "outputs": [
    {
     "name": "stdout",
     "output_type": "stream",
     "text": [
      "type = <class 'str'>\n",
      "metadata = <class 'dict'>\n",
      "features = <class 'list'>\n",
      "bbox = <class 'list'>\n",
      "The features list is 128 items long\n"
     ]
    }
   ],
   "source": [
    "# And look at the type of the each value associated with the key\n",
    "print(f\"type = {type(requests_json['type'])}\")\n",
    "print(f\"metadata = {type(requests_json['metadata'])}\")\n",
    "print(f\"features = {type(requests_json['features'])}\")\n",
    "print(f\"bbox = {type(requests_json['bbox'])}\")\n",
    "\n",
    "print(f\"The features list is {len(requests_json['features'])} items long\")"
   ]
  },
  {
   "cell_type": "markdown",
   "id": "999df55d",
   "metadata": {},
   "source": [
    "### ANS: Search through the data"
   ]
  },
  {
   "cell_type": "code",
   "execution_count": 47,
   "id": "c8d776d9",
   "metadata": {},
   "outputs": [
    {
     "name": "stdout",
     "output_type": "stream",
     "text": [
      "{'type': 'Feature', 'properties': {'mag': 2.6, 'place': '12 km NNW of Penrith, United Kingdom', 'time': 956553055700, 'updated': 1415322596133, 'tz': None, 'url': 'https://earthquake.usgs.gov/earthquakes/eventpage/usp0009rst', 'detail': 'https://earthquake.usgs.gov/fdsnws/event/1/query?eventid=usp0009rst&format=geojson', 'felt': None, 'cdi': None, 'mmi': None, 'alert': None, 'status': 'reviewed', 'tsunami': 0, 'sig': 104, 'net': 'us', 'code': 'p0009rst', 'ids': ',usp0009rst,', 'sources': ',us,', 'types': ',impact-text,origin,phase-data,', 'nst': None, 'dmin': None, 'rms': None, 'gap': None, 'magType': 'ml', 'type': 'earthquake', 'title': 'M 2.6 - 12 km NNW of Penrith, United Kingdom'}, 'geometry': {'type': 'Point', 'coordinates': [-2.81, 54.77, 14]}, 'id': 'usp0009rst'}\n"
     ]
    }
   ],
   "source": [
    "# Features and bbox look the most interesting as they are lists. Features is likely the one we want\n",
    "# which is a list of dictionaries...\n",
    "print(requests_json['features'][0])"
   ]
  },
  {
   "cell_type": "markdown",
   "id": "60aa6d20",
   "metadata": {},
   "source": [
    "It looks like the coordinates are in the `geometry` section and the magnitude is in the `properties` section."
   ]
  },
  {
   "cell_type": "code",
   "execution_count": 52,
   "id": "5fa8d28f",
   "metadata": {},
   "outputs": [
    {
     "name": "stdout",
     "output_type": "stream",
     "text": [
      "{'mag': 2.6, 'place': '12 km NNW of Penrith, United Kingdom', 'time': 956553055700, 'updated': 1415322596133, 'tz': None, 'url': 'https://earthquake.usgs.gov/earthquakes/eventpage/usp0009rst', 'detail': 'https://earthquake.usgs.gov/fdsnws/event/1/query?eventid=usp0009rst&format=geojson', 'felt': None, 'cdi': None, 'mmi': None, 'alert': None, 'status': 'reviewed', 'tsunami': 0, 'sig': 104, 'net': 'us', 'code': 'p0009rst', 'ids': ',usp0009rst,', 'sources': ',us,', 'types': ',impact-text,origin,phase-data,', 'nst': None, 'dmin': None, 'rms': None, 'gap': None, 'magType': 'ml', 'type': 'earthquake', 'title': 'M 2.6 - 12 km NNW of Penrith, United Kingdom'}\n"
     ]
    }
   ],
   "source": [
    "print(requests_json[\"features\"][0]['properties']) # Will give access to the magnitude"
   ]
  },
  {
   "cell_type": "code",
   "execution_count": 53,
   "id": "586ca363",
   "metadata": {},
   "outputs": [
    {
     "name": "stdout",
     "output_type": "stream",
     "text": [
      "{'type': 'Point', 'coordinates': [-2.81, 54.77, 14]}\n"
     ]
    }
   ],
   "source": [
    "print(requests_json[\"features\"][0]['geometry']) # This is the longitude, latitude, and depth of the earthquake"
   ]
  },
  {
   "cell_type": "code",
   "execution_count": 54,
   "id": "d1899ab5",
   "metadata": {},
   "outputs": [
    {
     "name": "stdout",
     "output_type": "stream",
     "text": [
      "Magnitude = 2.6, at coordinates -2.81, 54.77\n"
     ]
    }
   ],
   "source": [
    "# So for the first dictionary in the list of earthqake events, the magnitude is:\n",
    "mag = requests_json[\"features\"][0]['properties']['mag']\n",
    "# And the longitude and latitude are\n",
    "lon = requests_json[\"features\"][0]['geometry']['coordinates'][0]\n",
    "lat = requests_json[\"features\"][0]['geometry']['coordinates'][1]\n",
    "\n",
    "print(f\"Magnitude = {mag}, at coordinates {lon}, {lat}\")"
   ]
  },
  {
   "cell_type": "code",
   "execution_count": 55,
   "id": "838a992b",
   "metadata": {},
   "outputs": [],
   "source": [
    "quakes = requests_json[\"features\"]"
   ]
  },
  {
   "cell_type": "code",
   "execution_count": 56,
   "id": "88f21f1f",
   "metadata": {},
   "outputs": [
    {
     "data": {
      "text/plain": [
       "4.8"
      ]
     },
     "execution_count": 56,
     "metadata": {},
     "output_type": "execute_result"
    }
   ],
   "source": [
    "# We can identify the feature that has the largest quake\n",
    "largest_so_far = quakes[0]\n",
    "for quake in quakes:\n",
    "    if quake[\"properties\"][\"mag\"] > largest_so_far[\"properties\"][\"mag\"]:\n",
    "        largest_so_far = quake\n",
    "largest_so_far[\"properties\"][\"mag\"]"
   ]
  },
  {
   "cell_type": "code",
   "execution_count": 57,
   "id": "703d0184",
   "metadata": {},
   "outputs": [
    {
     "name": "stdout",
     "output_type": "stream",
     "text": [
      "Latitude: 52.52 Longitude: -2.15\n"
     ]
    }
   ],
   "source": [
    "long = largest_so_far[\"geometry\"][\"coordinates\"][0]\n",
    "lat = largest_so_far[\"geometry\"][\"coordinates\"][1]\n",
    "print(f\"Latitude: {lat} Longitude: {long}\")"
   ]
  },
  {
   "cell_type": "markdown",
   "id": "d97e2f78",
   "metadata": {},
   "source": [
    "### ANS: Visualise"
   ]
  },
  {
   "cell_type": "code",
   "execution_count": 58,
   "id": "ebff5deb",
   "metadata": {},
   "outputs": [],
   "source": [
    "import requests\n",
    "\n",
    "\n",
    "def request_map_at(lat, long, satellite=True, zoom=10, size=(400, 400)):\n",
    "    base = \"https://static-maps.yandex.ru/1.x/?\"\n",
    "\n",
    "    params = dict(\n",
    "        z=zoom,\n",
    "        size=\"{},{}\".format(size[0], size[1]),\n",
    "        ll=\"{},{}\".format(long, lat),\n",
    "        l=\"sat\" if satellite else \"map\",\n",
    "        lang=\"en_US\",\n",
    "    )\n",
    "\n",
    "    return requests.get(base, params=params)"
   ]
  },
  {
   "cell_type": "code",
   "execution_count": 67,
   "id": "a25c2c6c",
   "metadata": {},
   "outputs": [
    {
     "data": {
      "image/png": "[encoded data removed]",
      "text/plain": [
       "<IPython.core.display.Image object>"
      ]
     },
     "execution_count": 67,
     "metadata": {},
     "output_type": "execute_result"
    }
   ],
   "source": [
    "from IPython.display import Image\n",
    "\n",
    "map_png = request_map_at(lat, long, zoom=10, satellite=False)\n",
    "\n",
    "Image(map_png.content)"
   ]
  },
  {
   "cell_type": "code",
   "execution_count": null,
   "id": "683b58c2",
   "metadata": {},
   "outputs": [],
   "source": []
  },
  {
   "cell_type": "code",
   "execution_count": 76,
   "id": "dd5389f9",
   "metadata": {},
   "outputs": [
    {
     "data": {
      "text/html": [
       "<div>\n",
       "<style scoped>\n",
       "    .dataframe tbody tr th:only-of-type {\n",
       "        vertical-align: middle;\n",
       "    }\n",
       "\n",
       "    .dataframe tbody tr th {\n",
       "        vertical-align: top;\n",
       "    }\n",
       "\n",
       "    .dataframe thead th {\n",
       "        text-align: right;\n",
       "    }\n",
       "</style>\n",
       "<table border=\"1\" class=\"dataframe\">\n",
       "  <thead>\n",
       "    <tr style=\"text-align: right;\">\n",
       "      <th></th>\n",
       "      <th>mag</th>\n",
       "      <th>place</th>\n",
       "      <th>time</th>\n",
       "      <th>updated</th>\n",
       "      <th>tz</th>\n",
       "      <th>url</th>\n",
       "      <th>detail</th>\n",
       "      <th>felt</th>\n",
       "      <th>cdi</th>\n",
       "      <th>mmi</th>\n",
       "      <th>...</th>\n",
       "      <th>ids</th>\n",
       "      <th>sources</th>\n",
       "      <th>types</th>\n",
       "      <th>nst</th>\n",
       "      <th>dmin</th>\n",
       "      <th>rms</th>\n",
       "      <th>gap</th>\n",
       "      <th>magType</th>\n",
       "      <th>type</th>\n",
       "      <th>title</th>\n",
       "    </tr>\n",
       "  </thead>\n",
       "  <tbody>\n",
       "    <tr>\n",
       "      <th>0</th>\n",
       "      <td>2.6</td>\n",
       "      <td>12 km NNW of Penrith, United Kingdom</td>\n",
       "      <td>956553055700</td>\n",
       "      <td>1415322596133</td>\n",
       "      <td>None</td>\n",
       "      <td>https://earthquake.usgs.gov/earthquakes/eventp...</td>\n",
       "      <td>https://earthquake.usgs.gov/fdsnws/event/1/que...</td>\n",
       "      <td>NaN</td>\n",
       "      <td>NaN</td>\n",
       "      <td>NaN</td>\n",
       "      <td>...</td>\n",
       "      <td>,usp0009rst,</td>\n",
       "      <td>,us,</td>\n",
       "      <td>,impact-text,origin,phase-data,</td>\n",
       "      <td>NaN</td>\n",
       "      <td>NaN</td>\n",
       "      <td>NaN</td>\n",
       "      <td>NaN</td>\n",
       "      <td>ml</td>\n",
       "      <td>earthquake</td>\n",
       "      <td>M 2.6 - 12 km NNW of Penrith, United Kingdom</td>\n",
       "    </tr>\n",
       "    <tr>\n",
       "      <th>1</th>\n",
       "      <td>4.0</td>\n",
       "      <td>1 km WSW of Warwick, United Kingdom</td>\n",
       "      <td>969683025790</td>\n",
       "      <td>1415322666913</td>\n",
       "      <td>None</td>\n",
       "      <td>https://earthquake.usgs.gov/earthquakes/eventp...</td>\n",
       "      <td>https://earthquake.usgs.gov/fdsnws/event/1/que...</td>\n",
       "      <td>NaN</td>\n",
       "      <td>NaN</td>\n",
       "      <td>NaN</td>\n",
       "      <td>...</td>\n",
       "      <td>,usp000a0pm,</td>\n",
       "      <td>,us,</td>\n",
       "      <td>,impact-text,origin,phase-data,</td>\n",
       "      <td>55.0</td>\n",
       "      <td>NaN</td>\n",
       "      <td>NaN</td>\n",
       "      <td>NaN</td>\n",
       "      <td>ml</td>\n",
       "      <td>earthquake</td>\n",
       "      <td>M 4.0 - 1 km WSW of Warwick, United Kingdom</td>\n",
       "    </tr>\n",
       "    <tr>\n",
       "      <th>2</th>\n",
       "      <td>4.0</td>\n",
       "      <td>38 km NNE of Cromer, United Kingdom</td>\n",
       "      <td>977442788510</td>\n",
       "      <td>1415322705662</td>\n",
       "      <td>None</td>\n",
       "      <td>https://earthquake.usgs.gov/earthquakes/eventp...</td>\n",
       "      <td>https://earthquake.usgs.gov/fdsnws/event/1/que...</td>\n",
       "      <td>NaN</td>\n",
       "      <td>NaN</td>\n",
       "      <td>NaN</td>\n",
       "      <td>...</td>\n",
       "      <td>,usp000a6hd,</td>\n",
       "      <td>,us,</td>\n",
       "      <td>,origin,phase-data,</td>\n",
       "      <td>27.0</td>\n",
       "      <td>NaN</td>\n",
       "      <td>1.12</td>\n",
       "      <td>NaN</td>\n",
       "      <td>ml</td>\n",
       "      <td>earthquake</td>\n",
       "      <td>M 4.0 - 38 km NNE of Cromer, United Kingdom</td>\n",
       "    </tr>\n",
       "    <tr>\n",
       "      <th>3</th>\n",
       "      <td>3.3</td>\n",
       "      <td>171 km ENE of Peterhead, United Kingdom</td>\n",
       "      <td>984608438660</td>\n",
       "      <td>1415322741153</td>\n",
       "      <td>None</td>\n",
       "      <td>https://earthquake.usgs.gov/earthquakes/eventp...</td>\n",
       "      <td>https://earthquake.usgs.gov/fdsnws/event/1/que...</td>\n",
       "      <td>NaN</td>\n",
       "      <td>NaN</td>\n",
       "      <td>NaN</td>\n",
       "      <td>...</td>\n",
       "      <td>,usp000abdr,</td>\n",
       "      <td>,us,</td>\n",
       "      <td>,origin,phase-data,</td>\n",
       "      <td>36.0</td>\n",
       "      <td>NaN</td>\n",
       "      <td>1.44</td>\n",
       "      <td>NaN</td>\n",
       "      <td>mb</td>\n",
       "      <td>earthquake</td>\n",
       "      <td>M 3.3 - 171 km ENE of Peterhead, United Kingdom</td>\n",
       "    </tr>\n",
       "    <tr>\n",
       "      <th>4</th>\n",
       "      <td>2.9</td>\n",
       "      <td>8 km W of Marlborough, United Kingdom</td>\n",
       "      <td>984879824720</td>\n",
       "      <td>1415322742102</td>\n",
       "      <td>None</td>\n",
       "      <td>https://earthquake.usgs.gov/earthquakes/eventp...</td>\n",
       "      <td>https://earthquake.usgs.gov/fdsnws/event/1/que...</td>\n",
       "      <td>NaN</td>\n",
       "      <td>NaN</td>\n",
       "      <td>NaN</td>\n",
       "      <td>...</td>\n",
       "      <td>,usp000abnc,</td>\n",
       "      <td>,us,</td>\n",
       "      <td>,origin,phase-data,</td>\n",
       "      <td>19.0</td>\n",
       "      <td>NaN</td>\n",
       "      <td>0.57</td>\n",
       "      <td>NaN</td>\n",
       "      <td>ml</td>\n",
       "      <td>earthquake</td>\n",
       "      <td>M 2.9 - 8 km W of Marlborough, United Kingdom</td>\n",
       "    </tr>\n",
       "  </tbody>\n",
       "</table>\n",
       "<p>5 rows × 26 columns</p>\n",
       "</div>"
      ],
      "text/plain": [
       "   mag                                    place          time        updated  \\\n",
       "0  2.6     12 km NNW of Penrith, United Kingdom  956553055700  1415322596133   \n",
       "1  4.0      1 km WSW of Warwick, United Kingdom  969683025790  1415322666913   \n",
       "2  4.0      38 km NNE of Cromer, United Kingdom  977442788510  1415322705662   \n",
       "3  3.3  171 km ENE of Peterhead, United Kingdom  984608438660  1415322741153   \n",
       "4  2.9    8 km W of Marlborough, United Kingdom  984879824720  1415322742102   \n",
       "\n",
       "     tz                                                url  \\\n",
       "0  None  https://earthquake.usgs.gov/earthquakes/eventp...   \n",
       "1  None  https://earthquake.usgs.gov/earthquakes/eventp...   \n",
       "2  None  https://earthquake.usgs.gov/earthquakes/eventp...   \n",
       "3  None  https://earthquake.usgs.gov/earthquakes/eventp...   \n",
       "4  None  https://earthquake.usgs.gov/earthquakes/eventp...   \n",
       "\n",
       "                                              detail  felt  cdi  mmi  ...  \\\n",
       "0  https://earthquake.usgs.gov/fdsnws/event/1/que...   NaN  NaN  NaN  ...   \n",
       "1  https://earthquake.usgs.gov/fdsnws/event/1/que...   NaN  NaN  NaN  ...   \n",
       "2  https://earthquake.usgs.gov/fdsnws/event/1/que...   NaN  NaN  NaN  ...   \n",
       "3  https://earthquake.usgs.gov/fdsnws/event/1/que...   NaN  NaN  NaN  ...   \n",
       "4  https://earthquake.usgs.gov/fdsnws/event/1/que...   NaN  NaN  NaN  ...   \n",
       "\n",
       "            ids sources                            types   nst dmin   rms gap  \\\n",
       "0  ,usp0009rst,    ,us,  ,impact-text,origin,phase-data,   NaN  NaN   NaN NaN   \n",
       "1  ,usp000a0pm,    ,us,  ,impact-text,origin,phase-data,  55.0  NaN   NaN NaN   \n",
       "2  ,usp000a6hd,    ,us,              ,origin,phase-data,  27.0  NaN  1.12 NaN   \n",
       "3  ,usp000abdr,    ,us,              ,origin,phase-data,  36.0  NaN  1.44 NaN   \n",
       "4  ,usp000abnc,    ,us,              ,origin,phase-data,  19.0  NaN  0.57 NaN   \n",
       "\n",
       "  magType        type                                            title  \n",
       "0      ml  earthquake     M 2.6 - 12 km NNW of Penrith, United Kingdom  \n",
       "1      ml  earthquake      M 4.0 - 1 km WSW of Warwick, United Kingdom  \n",
       "2      ml  earthquake      M 4.0 - 38 km NNE of Cromer, United Kingdom  \n",
       "3      mb  earthquake  M 3.3 - 171 km ENE of Peterhead, United Kingdom  \n",
       "4      ml  earthquake    M 2.9 - 8 km W of Marlborough, United Kingdom  \n",
       "\n",
       "[5 rows x 26 columns]"
      ]
     },
     "execution_count": 76,
     "metadata": {},
     "output_type": "execute_result"
    }
   ],
   "source": [
    "import pandas as pd\n",
    "new_list = [entry['properties'] for entry in requests_json['features']]\n",
    "df = pd.DataFrame(new_list)\n",
    "df.head()"
   ]
  },
  {
   "cell_type": "code",
   "execution_count": 77,
   "id": "4d141d87",
   "metadata": {},
   "outputs": [
    {
     "data": {
      "text/plain": [
       "4.8"
      ]
     },
     "execution_count": 77,
     "metadata": {},
     "output_type": "execute_result"
    }
   ],
   "source": [
    "df['mag'].max()"
   ]
  }
 ],
 "metadata": {
  "kernelspec": {
   "display_name": "Python 3 (ipykernel)",
   "language": "python",
   "name": "python3"
  },
  "language_info": {
   "codemirror_mode": {
    "name": "ipython",
    "version": 3
   },
   "file_extension": ".py",
   "mimetype": "text/x-python",
   "name": "python",
   "nbconvert_exporter": "python",
   "pygments_lexer": "ipython3",
   "version": "3.8.8"
  }
 },
 "nbformat": 4,
 "nbformat_minor": 5
}
