{
 "cells": [
  {
   "cell_type": "markdown",
   "id": "766fd5bb",
   "metadata": {},
   "source": [
    "## Exercises\n",
    "\n",
    "Try to find the operator or function you need to calculate the following (the easiest way might be an internet search)."
   ]
  },
  {
   "cell_type": "markdown",
   "id": "3f9cf30b",
   "metadata": {},
   "source": [
    "What is 2 to the power 15?"
   ]
  },
  {
   "cell_type": "markdown",
   "id": "ab432fbb",
   "metadata": {},
   "source": [
    "Convert `\"It was the best of times\"` to uppercase. Hint: you will need a method which acts on strings."
   ]
  },
  {
   "cell_type": "markdown",
   "id": "248beea0",
   "metadata": {},
   "source": [
    "Sort the list `[10, 9, 0, 20, 8, 2, 30, 7, 3]`. Hint: you will need a built-in function."
   ]
  },
  {
   "cell_type": "markdown",
   "id": "ca5c56b0",
   "metadata": {},
   "source": [
    "What is 100! ? (That is, what is the factorial of 100?) Hint: the `factorial` function is in the `math` library m"
   ]
  },
  {
   "cell_type": "code",
   "execution_count": null,
   "id": "ad4b55fd",
   "metadata": {},
   "outputs": [],
   "source": []
  }
 ],
 "metadata": {
  "kernelspec": {
   "display_name": "Python 3",
   "language": "python",
   "name": "python3"
  },
  "language_info": {
   "codemirror_mode": {
    "name": "ipython",
    "version": 3
   },
   "file_extension": ".py",
   "mimetype": "text/x-python",
   "name": "python",
   "nbconvert_exporter": "python",
   "pygments_lexer": "ipython3",
   "version": "3.9.9"
  }
 },
 "nbformat": 4,
 "nbformat_minor": 5
}
