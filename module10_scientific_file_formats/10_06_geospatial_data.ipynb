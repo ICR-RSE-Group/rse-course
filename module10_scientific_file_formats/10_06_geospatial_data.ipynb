{
 "cells": [
  {
   "cell_type": "markdown",
   "id": "1b6dc2d1",
   "metadata": {},
   "source": [
    "# 10.6 Geospatial data"
   ]
  },
  {
   "cell_type": "markdown",
   "id": "172ab8c4",
   "metadata": {},
   "source": [
    "*Estimated time for this notebook: 10 minutes.*"
   ]
  },
  {
   "cell_type": "markdown",
   "id": "8f78a100",
   "metadata": {},
   "source": [
    "Many domains have their own widely-used data file formats, which are optimized for their own most common use-cases.   For example, geospatial datasets will often have some \"coordinates\" (e.g. Latitude and Longitude, and possibly Time), and a set of measurements at each point (e.g. Temperature, Humidity, Wind Speed).   Storing such data in a simple table, such as in a _parquet_ or _feather_ file, would be inefficient, as the coordinate variables would be repeated for each of the measurements.\n",
    "\n",
    "## NetCDF\n",
    "\n",
    "One binary file format that has been developed for use-cases such as this is _netCDF_ https://www.unidata.ucar.edu/software/netcdf/\n",
    "where every file contains metadata describing its contents.\n",
    "Libraries are available to read and write _netCDF_ files in many programming languages, including Python, R, MATLAB, C++, and others.\n",
    "\n",
    "Let's download an example _netCDF_ file - this one is from the European Centre for Medium-range Weather Forecasting (ECMWF).\n"
   ]
  },
  {
   "cell_type": "code",
   "execution_count": 2,
   "id": "d5c6544d",
   "metadata": {},
   "outputs": [],
   "source": [
    "import requests\n",
    "url = \"https://www.unidata.ucar.edu/software/netcdf/examples/ECMWF_ERA-40_subset.nc\"\n",
    "filename = url.split(\"/\")[-1]\n",
    "r=requests.get(url, allow_redirects=True)\n",
    "with open(filename,\"wb\") as saved_file:\n",
    "    saved_file.write(r.content)"
   ]
  },
  {
   "cell_type": "markdown",
   "id": "5a3ca6ca",
   "metadata": {},
   "source": [
    "To read this file in Python we can use the netCDF4 package:"
   ]
  },
  {
   "cell_type": "code",
   "execution_count": 3,
   "id": "99ce5ab1",
   "metadata": {},
   "outputs": [
    {
     "name": "stdout",
     "output_type": "stream",
     "text": [
      "Collecting netCDF4\n",
      "  Downloading netCDF4-1.6.1-cp39-cp39-macosx_11_0_arm64.whl (3.0 MB)\n",
      "\u001b[2K     \u001b[90m━━━━━━━━━━━━━━━━━━━━━━━━━━━━━━━━━━━━━━━━\u001b[0m \u001b[32m3.0/3.0 MB\u001b[0m \u001b[31m29.0 MB/s\u001b[0m eta \u001b[36m0:00:00\u001b[0ma \u001b[36m0:00:01\u001b[0m\n",
      "\u001b[?25hRequirement already satisfied: numpy>=1.9 in /Users/nbarlow/miniforge3/lib/python3.9/site-packages (from netCDF4) (1.23.1)\n",
      "Collecting cftime\n",
      "  Downloading cftime-1.6.2-cp39-cp39-macosx_11_0_arm64.whl (222 kB)\n",
      "\u001b[2K     \u001b[90m━━━━━━━━━━━━━━━━━━━━━━━━━━━━━━━━━━━━━━\u001b[0m \u001b[32m222.6/222.6 KB\u001b[0m \u001b[31m17.2 MB/s\u001b[0m eta \u001b[36m0:00:00\u001b[0m\n",
      "\u001b[?25hInstalling collected packages: cftime, netCDF4\n",
      "Successfully installed cftime-1.6.2 netCDF4-1.6.1\n"
     ]
    }
   ],
   "source": [
    "!pip install netCDF4"
   ]
  },
  {
   "cell_type": "code",
   "execution_count": 6,
   "id": "31fb66e8",
   "metadata": {},
   "outputs": [
    {
     "data": {
      "text/plain": [
       "<class 'netCDF4._netCDF4.Dataset'>\n",
       "root group (NETCDF3_CLASSIC data model, file format NETCDF3):\n",
       "    Conventions: CF-1.0\n",
       "    history: 2004-09-15 17:04:29 GMT by mars2netcdf-0.92\n",
       "    dimensions(sizes): longitude(144), latitude(73), time(62)\n",
       "    variables(dimensions): float32 longitude(longitude), float32 latitude(latitude), int32 time(time), int16 tcw(time, latitude, longitude), int16 tcwv(time, latitude, longitude), int16 lsp(time, latitude, longitude), int16 cp(time, latitude, longitude), int16 msl(time, latitude, longitude), int16 blh(time, latitude, longitude), int16 tcc(time, latitude, longitude), int16 p10u(time, latitude, longitude), int16 p10v(time, latitude, longitude), int16 p2t(time, latitude, longitude), int16 p2d(time, latitude, longitude), int16 e(time, latitude, longitude), int16 lcc(time, latitude, longitude), int16 mcc(time, latitude, longitude), int16 hcc(time, latitude, longitude), int16 tco3(time, latitude, longitude), int16 tp(time, latitude, longitude)\n",
       "    groups: "
      ]
     },
     "execution_count": 6,
     "metadata": {},
     "output_type": "execute_result"
    }
   ],
   "source": [
    "import netCDF4 as nc\n",
    "ds = nc.Dataset(filename)\n",
    "ds"
   ]
  },
  {
   "cell_type": "markdown",
   "id": "0414b6bd",
   "metadata": {},
   "source": [
    "We can see that the metadata tells us the \"dimensions\" (lat, long, time), and \"variables\" (those, plus lots of weather-related things that we could look up on https://apps.ecmwf.int/codes/grib/param-db/ )."
   ]
  },
  {
   "cell_type": "code",
   "execution_count": 89,
   "id": "9235b5f0",
   "metadata": {},
   "outputs": [
    {
     "name": "stdout",
     "output_type": "stream",
     "text": [
      "<class 'netCDF4._netCDF4.Dimension'>: name = 'longitude', size = 144\n",
      "<class 'netCDF4._netCDF4.Dimension'>: name = 'latitude', size = 73\n",
      "<class 'netCDF4._netCDF4.Dimension'> (unlimited): name = 'time', size = 62\n"
     ]
    }
   ],
   "source": [
    "for dim in ds.dimensions.values():\n",
    "    print(dim)"
   ]
  },
  {
   "cell_type": "markdown",
   "id": "921f15f8",
   "metadata": {},
   "source": [
    "Let's make a map of \"total column ozone\" (the amount of ozone from the surface of the Earth to the edge of the atmosphere)  for the first time point in this file (the times here are in \"hours since 1/1/1900\"). "
   ]
  },
  {
   "cell_type": "markdown",
   "id": "51465a94",
   "metadata": {},
   "source": [
    "From the ECMWF parameter database (linked above) we can see that the variable we want for the total column ozone is \"tco3\".\n",
    "We can put the longitude and latitude (which will be our _x_ and _y_ coordinates), and tco3 (which will be the _z_ coordinate)) into numpy data structures:"
   ]
  },
  {
   "cell_type": "code",
   "execution_count": 90,
   "id": "b4aefe95",
   "metadata": {},
   "outputs": [],
   "source": [
    "lats = ds.variables[\"latitude\"][:]\n",
    "lons = ds.variables['longitude'][:]\n",
    "tco3 = ds.variables['tco3'][0,:,:]"
   ]
  },
  {
   "cell_type": "markdown",
   "id": "ec4a851f",
   "metadata": {},
   "source": [
    "A matplotlib contour plot is a simple way of visualizing this."
   ]
  },
  {
   "cell_type": "code",
   "execution_count": 91,
   "id": "77f93d33",
   "metadata": {},
   "outputs": [
    {
     "data": {
      "text/plain": [
       "<matplotlib.contour.QuadContourSet at 0x12c9e8d30>"
      ]
     },
     "execution_count": 91,
     "metadata": {},
     "output_type": "execute_result"
    },
    {
     "data": {
      "image/png": "[encoded data removed]",
      "text/plain": [
       "<Figure size 640x480 with 1 Axes>"
      ]
     },
     "metadata": {},
     "output_type": "display_data"
    }
   ],
   "source": [
    "import numpy as np\n",
    "import matplotlib.pyplot as plt\n",
    "x,y = np.meshgrid(lons, lats)\n",
    "plt.contourf(x,y,tco3)"
   ]
  },
  {
   "cell_type": "markdown",
   "id": "2232b8e5",
   "metadata": {},
   "source": [
    "## Pangeo: big data geoscience\n",
    "\n",
    "NetCDF is a flexible and widely-used format.  However, as datasets grow larger, there is increasing demand for tools to process in parallel (as described in the previous notebook), and on the cloud.  _Pangeo_ (https://pangeo.io/index.html) is a community developing a suite of open source packages, all based on Python, that aim to provide interoperability between running on a quick study on a local machine, and running over a huge dataset in the cloud.   A major component of this is _Dask_, which we have already seen, and some others are:\n",
    "* _XArray_: an `xarray.Dataset` is an in-memory representation of a _netCDF_ file, while the underlying data structures can either by _numpy_ arrays, or _Dask_ arrays.\n",
    "* \"Cloud native\" file formats, such as _TileDB_ and _zarr_, which can both store N-dimensional arrays with intelligent chunking for either local or cloud-based access.\n",
    "* _Jupyter_: interactive notebooks such as Pangeo are a convenient way for users to interact with computing resources, whether running on their local machine, or on a \"hub\" hosted on the cloud or an HPC cluster, the user experience, and the code, can be almost exactly the same."
   ]
  }
 ],
 "metadata": {
  "kernelspec": {
   "display_name": "Python 3 (ipykernel)",
   "language": "python",
   "name": "python3"
  },
  "language_info": {
   "codemirror_mode": {
    "name": "ipython",
    "version": 3
   },
   "file_extension": ".py",
   "mimetype": "text/x-python",
   "name": "python",
   "nbconvert_exporter": "python",
   "pygments_lexer": "ipython3",
   "version": "3.9.10"
  }
 },
 "nbformat": 4,
 "nbformat_minor": 5
}
