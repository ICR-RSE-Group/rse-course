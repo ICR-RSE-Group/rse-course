{
 "cells": [
  {
   "cell_type": "markdown",
   "metadata": {},
   "source": [
    "# 9.0 Performance programming"
   ]
  },
  {
   "cell_type": "markdown",
   "metadata": {},
   "source": [
    "*Estimated time for this notebook: 10 minutes*"
   ]
  },
  {
   "cell_type": "markdown",
   "metadata": {},
   "source": [
    "We've spent most of this course looking at how to make code readable and reliable. For research work, it is often also important that code is efficient: that it does what it needs to do *quickly*."
   ]
  },
  {
   "cell_type": "markdown",
   "metadata": {},
   "source": [
    "It is very hard to work out beforehand whether code will be efficient or not: it is essential to *profile* code, to measure its performance, to determine what aspects of it are slow."
   ]
  },
  {
   "cell_type": "markdown",
   "metadata": {},
   "source": [
    "First, we'll need some code to profile. Let's consider the series\n",
    "\n",
    "$z_{i+1}=z_{i}^2$ (with $z_0=c$)"
   ]
  },
  {
   "cell_type": "code",
   "execution_count": 211,
   "metadata": {},
   "outputs": [],
   "source": [
    "def series1(start, iterations=4):\n",
    "    value = start\n",
    "    for _ in range(iterations):\n",
    "        value = value ** 2\n",
    "\n",
    "    return value\n",
    "\n",
    "\n",
    "assert series1(0) == 0\n",
    "assert series1(1) == 1\n",
    "assert series1(-2) == 65536"
   ]
  },
  {
   "cell_type": "code",
   "execution_count": 292,
   "metadata": {},
   "outputs": [],
   "source": [
    "# -2 to +2 in steps of 0.1\n",
    "xmin = -2\n",
    "xmax = 2\n",
    "resolution = 300\n",
    "xstep = (xmax - xmin) / resolution\n",
    "xs = [(xmin + (xstep * i)) for i in range(resolution)]"
   ]
  },
  {
   "cell_type": "code",
   "execution_count": 293,
   "metadata": {},
   "outputs": [],
   "source": [
    "zs = [series1(x) for x in xs]"
   ]
  },
  {
   "cell_type": "code",
   "execution_count": 294,
   "metadata": {},
   "outputs": [
    {
     "data": {
      "text/plain": [
       "[<matplotlib.lines.Line2D at 0x11c629c70>]"
      ]
     },
     "execution_count": 294,
     "metadata": {},
     "output_type": "execute_result"
    },
    {
     "data": {
      "image/png": "[encoded data removed]",
      "text/plain": [
       "<Figure size 432x288 with 1 Axes>"
      ]
     },
     "metadata": {
      "needs_background": "light"
     },
     "output_type": "display_data"
    }
   ],
   "source": [
    "import matplotlib.pyplot as plt\n",
    "\n",
    "plt.plot(xs, zs)"
   ]
  },
  {
   "cell_type": "markdown",
   "metadata": {},
   "source": [
    "Note how quickly the series grows outside of +/- 1.\n",
    "\n",
    "In practice, it is more convenient to calculate the number of iterations before the series surpasses some threshold."
   ]
  },
  {
   "cell_type": "code",
   "execution_count": 295,
   "metadata": {},
   "outputs": [],
   "source": [
    "def series2(start, iterations=50):\n",
    "    value = start\n",
    "\n",
    "    # Arbitrary threshold, for now\n",
    "    while abs(value) < 2:\n",
    "\n",
    "        value = value ** 2\n",
    "\n",
    "        iterations -= 1\n",
    "        if iterations < 1:\n",
    "            break\n",
    "\n",
    "    return iterations\n",
    "\n",
    "\n",
    "assert series2(0) == 0\n",
    "assert series2(1) == 0\n",
    "assert series2(2) == 50\n",
    "assert series2(1.5) == 49"
   ]
  },
  {
   "cell_type": "code",
   "execution_count": 296,
   "metadata": {},
   "outputs": [
    {
     "data": {
      "text/plain": [
       "[<matplotlib.lines.Line2D at 0x11c68c580>]"
      ]
     },
     "execution_count": 296,
     "metadata": {},
     "output_type": "execute_result"
    },
    {
     "data": {
      "image/png": "[encoded data removed]",
      "text/plain": [
       "<Figure size 432x288 with 1 Axes>"
      ]
     },
     "metadata": {
      "needs_background": "light"
     },
     "output_type": "display_data"
    }
   ],
   "source": [
    "zs = [series2(x) for x in xs]\n",
    "plt.plot(xs, zs)"
   ]
  },
  {
   "cell_type": "markdown",
   "metadata": {},
   "source": [
    "We can generalise this to complex numbers (numbers of the form a + ib, where i is the square root of -1). We shall visualise the complex plane by using the x axis for the real components, the y axis for the imaginary component and changing our plot to a heatmap.\n",
    "\n",
    "To make a complex number in Python, you can use the `complex(real_part, imaginary_part)` function."
   ]
  },
  {
   "cell_type": "code",
   "execution_count": 297,
   "metadata": {},
   "outputs": [
    {
     "data": {
      "text/plain": [
       "(5+6j)"
      ]
     },
     "execution_count": 297,
     "metadata": {},
     "output_type": "execute_result"
    }
   ],
   "source": [
    "complex(5, 6)"
   ]
  },
  {
   "cell_type": "code",
   "execution_count": 298,
   "metadata": {},
   "outputs": [
    {
     "data": {
      "text/plain": [
       "complex"
      ]
     },
     "execution_count": 298,
     "metadata": {},
     "output_type": "execute_result"
    }
   ],
   "source": [
    "type(complex(5, 6))"
   ]
  },
  {
   "cell_type": "code",
   "execution_count": 299,
   "metadata": {},
   "outputs": [
    {
     "data": {
      "text/plain": [
       "1.4142135623730951"
      ]
     },
     "execution_count": 299,
     "metadata": {},
     "output_type": "execute_result"
    }
   ],
   "source": [
    "# ToDo Explain this\n",
    "abs(complex(1, 1))"
   ]
  },
  {
   "cell_type": "code",
   "execution_count": 370,
   "metadata": {},
   "outputs": [],
   "source": [
    "xmin = -3\n",
    "ymin = -3\n",
    "xmax = 3\n",
    "ymax = 3\n",
    "resolution = 300\n",
    "xstep = (xmax - xmin) / resolution\n",
    "ystep = (ymax - ymin) / resolution\n",
    "xs = [(xmin + xstep * i) for i in range(resolution)]\n",
    "ys = [(ymin + ystep * i) for i in range(resolution)]\n",
    "zs = [[series2(complex(x, y)) for x in xs] for y in ys]"
   ]
  },
  {
   "cell_type": "code",
   "execution_count": 371,
   "metadata": {},
   "outputs": [
    {
     "data": {
      "text/plain": [
       "<matplotlib.image.AxesImage at 0x11d43d760>"
      ]
     },
     "execution_count": 371,
     "metadata": {},
     "output_type": "execute_result"
    },
    {
     "data": {
      "image/png": "[encoded data removed]",
      "text/plain": [
       "<Figure size 432x288 with 1 Axes>"
      ]
     },
     "metadata": {
      "needs_background": "light"
     },
     "output_type": "display_data"
    }
   ],
   "source": [
    "plt.set_cmap(\"cividis\")  # use a color vision deficiency-friendly palette\n",
    "plt.xlabel(\"Real\")\n",
    "plt.ylabel(\"Imaginary\")\n",
    "plt.imshow(zs, interpolation=\"none\", extent=[xmin, xmax, ymin, ymax])"
   ]
  },
  {
   "cell_type": "markdown",
   "metadata": {},
   "source": [
    "We see that there is a circle of radius 1 so we know that series will diverge whenever the start point is further than 1 from the origin.\n",
    "\n",
    "Things get much more interesting when we change the series from\n",
    "\n",
    "$z_{i+1}=z_{i}^2$ (with $z_0=c$)\n",
    "\n",
    "to \n",
    "\n",
    "$z_{i+1}=z_{i}^2 + c$ (with $z_0=0$)"
   ]
  },
  {
   "cell_type": "code",
   "execution_count": 372,
   "metadata": {},
   "outputs": [],
   "source": [
    "def mandel1(start, iterations=50):\n",
    "\n",
    "    value = 0\n",
    "\n",
    "    # TODO Why 2?\n",
    "    while abs(value) < 2:\n",
    "\n",
    "        value = (value ** 2) + start\n",
    "\n",
    "        iterations -= 1\n",
    "        if iterations < 1:\n",
    "            break\n",
    "\n",
    "    return iterations\n",
    "\n",
    "\n",
    "assert mandel1(0) == 0\n",
    "assert mandel1(3) == 49\n",
    "assert mandel1(0.5) == 45"
   ]
  },
  {
   "cell_type": "code",
   "execution_count": 355,
   "metadata": {},
   "outputs": [
    {
     "ename": "SyntaxError",
     "evalue": "invalid syntax (3666923377.py, line 3)",
     "output_type": "error",
     "traceback": [
      "\u001b[0;36m  File \u001b[0;32m\"/var/folders/ql/yttdbskd417c9sp5thrxtvkh0000gr/T/ipykernel_1832/3666923377.py\"\u001b[0;36m, line \u001b[0;32m3\u001b[0m\n\u001b[0;31m    The boundary of the Mandelbrot set is a fractal.\u001b[0m\n\u001b[0m        ^\u001b[0m\n\u001b[0;31mSyntaxError\u001b[0m\u001b[0;31m:\u001b[0m invalid syntax\n"
     ]
    }
   ],
   "source": [
    "## Fractals\n",
    "\n",
    "The boundary of the Mandelbrot set is a fractal."
   ]
  },
  {
   "cell_type": "markdown",
   "metadata": {},
   "source": [
    "This is the Mandelbrot set. It was first defined and drawn by Robert W. Brooks and Peter Matelski in 1978 but is named after Benoit Mandelbrot, who obtained high quality visualizations of it, in 1980, while working at IBM's Thomas J. Watson Research Center.\n",
    "\n",
    "Note that it all fits into a circle of radius 2, which is why we use that as our terminating condition."
   ]
  },
  {
   "cell_type": "code",
   "execution_count": 374,
   "metadata": {},
   "outputs": [
    {
     "data": {
      "text/plain": [
       "<matplotlib.image.AxesImage at 0x11d4fbbe0>"
      ]
     },
     "execution_count": 374,
     "metadata": {},
     "output_type": "execute_result"
    },
    {
     "data": {
      "image/png": "[encoded data removed]",
      "text/plain": [
       "<Figure size 432x288 with 1 Axes>"
      ]
     },
     "metadata": {
      "needs_background": "light"
     },
     "output_type": "display_data"
    }
   ],
   "source": [
    "# ToDo Keep this, layer it on top of the image above, or remove it?\n",
    "plt.xlabel(\"Real\")\n",
    "plt.ylabel(\"Imaginary\")\n",
    "plt.imshow(\n",
    "    [[abs(complex(x, y)) > 2 for x in xs] for y in ys],\n",
    "    interpolation=\"none\",\n",
    "    extent=[xmin, xmax, ymin, ymax],\n",
    ")"
   ]
  },
  {
   "cell_type": "markdown",
   "metadata": {},
   "source": [
    "## Fractals\n",
    "\n",
    "The boundary of the Mandelbrot set is a fractal.\n",
    "\n",
    "ToDo embed wiki commons gif instead of linking to this.\n",
    "\n",
    "You're probably familiar with a famous fractal called the [Mandelbrot Set](https://www.youtube.com/watch?v=ZDU40eUcTj0)."
   ]
  },
  {
   "cell_type": "code",
   "execution_count": 375,
   "metadata": {},
   "outputs": [],
   "source": [
    "# ToDo This clearly isn't the bottom left corner of the boundary of the set!\n",
    "# Have we flipped it somehow? Does numpy draw top left downwards?\n",
    "xmin = -1\n",
    "ymin = -1\n",
    "xmax = 0\n",
    "ymax = 0\n",
    "resolution = 300\n",
    "xstep = (xmax - xmin) / resolution\n",
    "ystep = (ymax - ymin) / resolution\n",
    "xs = [(xmin + xstep * i) for i in range(resolution)]\n",
    "ys = [(ymin + ystep * i) for i in range(resolution)]\n",
    "zs = [[mandel1(complex(x, y)) for x in xs] for y in ys]"
   ]
  },
  {
   "cell_type": "code",
   "execution_count": 376,
   "metadata": {},
   "outputs": [
    {
     "data": {
      "text/plain": [
       "<matplotlib.image.AxesImage at 0x11d565370>"
      ]
     },
     "execution_count": 376,
     "metadata": {},
     "output_type": "execute_result"
    },
    {
     "data": {
      "image/png": "[encoded data removed]",
      "text/plain": [
       "<Figure size 432x288 with 1 Axes>"
      ]
     },
     "metadata": {
      "needs_background": "light"
     },
     "output_type": "display_data"
    }
   ],
   "source": [
    "plt.xlabel(\"Real\")\n",
    "plt.ylabel(\"Imaginary\")\n",
    "plt.imshow(zs, interpolation=\"none\", extent=[xmin, xmax, ymin, ymax])"
   ]
  },
  {
   "cell_type": "markdown",
   "metadata": {},
   "source": [
    "## Timing\n",
    "\n",
    "We can use the %% timeit magic in a notebook to time a cell."
   ]
  },
  {
   "cell_type": "code",
   "execution_count": 377,
   "metadata": {},
   "outputs": [
    {
     "name": "stdout",
     "output_type": "stream",
     "text": [
      "568 ms ± 10.3 ms per loop (mean ± std. dev. of 7 runs, 1 loop each)\n"
     ]
    }
   ],
   "source": [
    "%%timeit\n",
    "zs = [[mandel1(complex(x, y)) for x in xs] for y in ys]"
   ]
  },
  {
   "cell_type": "markdown",
   "metadata": {},
   "source": [
    "ToDo We should say more about timing.\n",
    "\n",
    "Our Mandelbrot function will loop up to 50 times for each number in our grid, which is resolution * resolution in size.\n",
    "\n",
    "We will try to speed our current implementation up by x100.\n"
   ]
  },
  {
   "cell_type": "code",
   "execution_count": null,
   "metadata": {},
   "outputs": [],
   "source": []
  },
  {
   "cell_type": "markdown",
   "metadata": {},
   "source": [
    "ToDo do we want to keep any of this explanation?\n",
    "\n",
    "For a complex number $c$, $c$ is in the Mandelbrot set if the series $z_{i+1}=z_{i}^2+c$ (with $z_0=0$) does not tend to infinity.\n",
    "Traditionally, we plot a color showing how many steps are needed before $\\left|z_i\\right|>2$. At this point we are sure that $c$ is *not* in the Mandelbrot set as the series will diverge."
   ]
  },
  {
   "cell_type": "code",
   "execution_count": null,
   "metadata": {},
   "outputs": [],
   "source": []
  }
 ],
 "metadata": {
  "jekyll": {
   "display_name": "Two Mandelbrots"
  },
  "kernelspec": {
   "display_name": "Python 3 (ipykernel)",
   "language": "python",
   "name": "python3"
  },
  "language_info": {
   "codemirror_mode": {
    "name": "ipython",
    "version": 3
   },
   "file_extension": ".py",
   "mimetype": "text/x-python",
   "name": "python",
   "nbconvert_exporter": "python",
   "pygments_lexer": "ipython3",
   "version": "3.9.7"
  }
 },
 "nbformat": 4,
 "nbformat_minor": 4
}
