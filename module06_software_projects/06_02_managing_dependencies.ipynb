{
 "cells": [
  {
   "cell_type": "markdown",
   "id": "00f02f92",
   "metadata": {},
   "source": [
    "# Managing Dependencies\n"
   ]
  },
  {
   "cell_type": "markdown",
   "id": "442d76ad",
   "metadata": {},
   "source": [
    "## Specifying Dependencies\n",
    "\n",
    "### requirements.txt\n",
    "\n",
    "Probably the most well known and ubiquitous way of specifying and installing dependencies in Python is with a `requirements.txt` file. This is a text file with a list of the names of packages your code relies on, for example:\n",
    "\n",
    "```text\n",
    "geopy\n",
    "imageio\n",
    "matplotlib\n",
    "numpy\n",
    "requests\n",
    "```\n",
    "\n",
    "To install dependencies from a `requirements.txt` file do the following:\n",
    "\n",
    "```bash\n",
    "pip install -r requirements.txt\n",
    "```\n",
    "\n",
    "`requirements.txt` files are not the only way of specifying dependencies, we'll refer to some others and the differences between them here and later in this module.\n",
    "\n",
    "\n",
    "### Pinning versions\n",
    "\n",
    "Different versions of libraries may have different features, behaviour, and interfaces. To ensure our code is reproducible and other users (and ourselves in the future) get the same results from running the code, it's a good idea to specify the version of each dependency that should be installed.\n",
    "\n",
    "To pin dependencies to specific versions include them in `requirements.txt` like this:\n",
    "\n",
    "```text\n",
    "geopy==2.2.0\n",
    "imageio==2.19.3\n",
    "matplotlib==3.5.2\n",
    "numpy==1.23.0\n",
    "requests==2.28.1\n",
    "```\n",
    "\n",
    "To automatically generate a `requirements.txt` file like this, containing the versions of all the libraries installed in your current Python environment, you can run:\n",
    "\n",
    "```bash\n",
    "pip freeze\n",
    "```\n",
    "\n",
    "However, note that `pip freeze` won't output only your direct dependencies, but also\n",
    "- the dependencies of your dependencies\n",
    "- the dependencies of the dependencies of your dependencies\n",
    "- ...\n",
    "\n",
    "It may be better to only specify your actual dependencies and let the maintainers of those libraries deal with their own dependencies (but that can also come with future problems and incompatibilities in some cases). \n",
    "\n",
    "### Version ranges\n",
    "\n",
    "You don't have to specify an exact version, you can also use comparisons like `<=`, `!=`, and `>=` to give ranges of package versions that are compatible with your code (see [here](https://peps.python.org/pep-0440/#version-specifiers)).\n",
    "\n",
    "An interesting one is `~=`, or \"approximately equal to\". For example, if we specified the numpy dependency as:\n",
    "\n",
    "```text\n",
    "numpy~=1.23.0\n",
    "```\n",
    "\n",
    "it allows `pip` to install any (newer) `1.23.x` version of numpy (e.g. `1.23.1` or `1.23.5`), but not versions `1.24.0` or later (which may introduce changes that are incompatible with `1.23.0`).\n",
    "\n",
    "\n",
    "### (How) should you pin dependency versions?\n",
    "\n",
    "There are potential caveats and pitfalls with all approaches, at the extremes you have:\n",
    "\n",
    "- **Not specifying a version**:\n",
    "  - Dependencies are likely to introduce breaking changes in the future that will cause your code to fail or give different results.\n",
    "\n",
    "- **Pinning an exact version**:\n",
    "  - Specific versions may not be available on all platforms. You won't get bug and security fixes in new versions.\n",
    "\n",
    "Generally using a range or \"approximately equal\" specification like above may be a good approach, with a strategy in place for updating dependencies regularly where needed (see below).\n",
    "\n",
    "\n",
    "### Updating dependencies\n",
    "\n",
    "Running\n",
    "\n",
    "```bash\n",
    "pip list --outdated\n",
    "```\n",
    "\n",
    "will show a list of installed packages that have newer versions available. You can upgrade to the latest version by running:\n",
    "\n",
    "```bash\n",
    "pip install --upgrade PACKAGE_NAME\n",
    "```\n",
    "\n",
    "(and then update `requirements.txt` to reflect the new version you're using, if needed).\n",
    "\n",
    "This is quite a manual approach and other tools have more streamlined ways of handling the upgrading process. See, [Poetry](https://python-poetry.org/), for example.\n",
    "\n",
    "There are also automated tools like [dependabot](https://github.blog/2020-06-01-keep-all-your-packages-up-to-date-with-dependabot/) that can look at the dependencies in your GitHub repo and suggest changes to avoid security vulnerabilities.\n"
   ]
  },
  {
   "cell_type": "markdown",
   "id": "9f612ce1",
   "metadata": {},
   "source": [
    "## Virtual Environments\n",
    "\n",
    "Specifying dependency versions may not always be enough to give you a working (and future-proof) set up for yourself and other users of your code. For example, you may have:\n",
    "\n",
    "- Different projects on your system requiring different versions of a library, or libraries that are incompatible with each other.\n",
    "- Libraries that are only available on some platforms (e.g. Linux only) or have different behaviour on other platforms.\n",
    "- Projects requiring different versions of Python itself\n",
    "- ...\n",
    "\n",
    "\n",
    "\n",
    "### venv \n",
    "\n",
    "https://packaging.python.org/en/latest/guides/installing-using-pip-and-virtual-environments\n"
   ]
  },
  {
   "cell_type": "code",
   "execution_count": 11,
   "id": "145b4ea4",
   "metadata": {},
   "outputs": [
    {
     "name": "stdout",
     "output_type": "stream",
     "text": [
      "bin\n",
      "include\n",
      "lib\n",
      "pyvenv.cfg\n"
     ]
    }
   ],
   "source": [
    "%%bash\n",
    "\n",
    "python -m venv myenv"
   ]
  },
  {
   "cell_type": "code",
   "execution_count": null,
   "id": "3c42f853",
   "metadata": {},
   "outputs": [],
   "source": [
    "%%bash\n",
    "\n",
    "ls myenv/"
   ]
  },
  {
   "cell_type": "code",
   "execution_count": 16,
   "id": "bba1c3b0",
   "metadata": {},
   "outputs": [
    {
     "name": "stdout",
     "output_type": "stream",
     "text": [
      "/Users/jroberts/opt/anaconda3/envs/rse-course/bin/python\n"
     ]
    }
   ],
   "source": [
    "%%bash\n",
    "\n",
    "which python"
   ]
  },
  {
   "cell_type": "code",
   "execution_count": 17,
   "id": "c7da12b7",
   "metadata": {},
   "outputs": [
    {
     "name": "stdout",
     "output_type": "stream",
     "text": [
      "/Users/jroberts/GitHub/rse-course/module06_software_projects/myenv/bin/python\n"
     ]
    }
   ],
   "source": [
    "%%bash\n",
    "\n",
    "source myenv/bin/activate\n",
    "which python"
   ]
  },
  {
   "cell_type": "code",
   "execution_count": null,
   "id": "bef92ece",
   "metadata": {},
   "outputs": [],
   "source": [
    "%%bash\n",
    "\n",
    "source myenv/bin/activate\n",
    "pip install -r requirements.txt"
   ]
  },
  {
   "cell_type": "code",
   "execution_count": 20,
   "id": "1e8c57b2",
   "metadata": {},
   "outputs": [
    {
     "name": "stdout",
     "output_type": "stream",
     "text": [
      "/Users/jroberts/opt/anaconda3/envs/rse-course/bin/python\n"
     ]
    }
   ],
   "source": [
    "%%bash\n",
    "source myenv/bin/activate\n",
    "\n",
    "# work in the environment...\n",
    "\n",
    "deactivate\n",
    "\n",
    "which python"
   ]
  },
  {
   "cell_type": "markdown",
   "id": "4b5a1224",
   "metadata": {},
   "source": [
    "### conda\n",
    "\n",
    "and environment.yml\n",
    "\n",
    "```yaml\n",
    "name: myenv\n",
    "\n",
    "dependencies:\n",
    "  - python=3.9\n",
    "  - geopy=2.2.0\n",
    "  - imageio=2.19.3\n",
    "  - matplotlib=3.5.2\n",
    "  - numpy=1.23.0\n",
    "  - requests=2.28.1\n",
    "```\n",
    "\n",
    "```bash\n",
    "conda env create -f environment.yml\n",
    "```\n",
    "\n",
    "```bash\n",
    "conda activate myenv\n",
    "\n",
    "# work in the environment\n",
    "\n",
    "conda deactivate\n",
    "```\n",
    "\n",
    "\n",
    "### Docker\n",
    "\n"
   ]
  },
  {
   "cell_type": "markdown",
   "id": "6dbe9137",
   "metadata": {},
   "source": [
    "## Which to choose?\n",
    "\n",
    "others pyenv?, ?poetry?)\n",
    "\n",
    "- requirements.txt, environment.yml, ?pyproject.toml/poetry.lock?\n"
   ]
  },
  {
   "cell_type": "code",
   "execution_count": null,
   "id": "9519f8e7",
   "metadata": {},
   "outputs": [],
   "source": []
  }
 ],
 "metadata": {
  "kernelspec": {
   "display_name": "Python 3 (ipykernel)",
   "language": "python",
   "name": "python3"
  },
  "language_info": {
   "codemirror_mode": {
    "name": "ipython",
    "version": 3
   },
   "file_extension": ".py",
   "mimetype": "text/x-python",
   "name": "python",
   "nbconvert_exporter": "python",
   "pygments_lexer": "ipython3",
   "version": "3.9.9"
  }
 },
 "nbformat": 4,
 "nbformat_minor": 5
}
