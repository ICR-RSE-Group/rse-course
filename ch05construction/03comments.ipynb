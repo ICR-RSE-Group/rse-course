{
 "cells": [
  {
   "cell_type": "markdown",
   "metadata": {},
   "source": [
    "## Comments"
   ]
  },
  {
   "cell_type": "markdown",
   "metadata": {},
   "source": [
    "Let's import first the context for this chapter."
   ]
  },
  {
   "cell_type": "code",
   "execution_count": 1,
   "metadata": {},
   "outputs": [],
   "source": [
    "from context import *"
   ]
  },
  {
   "cell_type": "markdown",
   "metadata": {},
   "source": [
    "### Why comment?"
   ]
  },
  {
   "cell_type": "markdown",
   "metadata": {},
   "source": [
    "\n",
    "* You're writing code for people, as well as computers.\n",
    "* Comments can help you build code, by representing your design\n",
    "* Comments explain subtleties in the code which are not obvious from the syntax\n",
    "* Comments explain *why* you wrote the code the way you did"
   ]
  },
  {
   "cell_type": "markdown",
   "metadata": {},
   "source": [
    "### Who are you writing for?\n",
    "\n",
    "* By far the most likely person who will read your code/comments is yourself, maybe in a week's time, or maybe in six months time.\n",
    "* Second most likely person in most cases, is someone in your team, or someone else who will probably have a roughly similar level of expertise, and be trying to do a similar thing.\n",
    "* Write comments with this in mind - try to help the person reading the code to understand _what_ you did and _why_."
   ]
  },
  {
   "cell_type": "markdown",
   "metadata": {},
   "source": [
    "### Some examples of unnecessary/extraneous comments"
   ]
  },
  {
   "cell_type": "markdown",
   "metadata": {},
   "source": [
    "_More_ comments doesn't necessarily mean _better_ - here are some examples of comments that don't really help the reader understand the code any better:\n"
   ]
  },
  {
   "cell_type": "markdown",
   "metadata": {},
   "source": [
    "### Comments which are obvious"
   ]
  },
  {
   "cell_type": "code",
   "execution_count": 2,
   "metadata": {},
   "outputs": [],
   "source": [
    "counter = counter + 1 # Increment the counter\n",
    "for element in array: # Loop over elements\n",
    "    pass"
   ]
  },
  {
   "cell_type": "markdown",
   "metadata": {},
   "source": [
    "### Comments which could be replaced by better style"
   ]
  },
  {
   "cell_type": "markdown",
   "metadata": {},
   "source": [
    "The following piece of code could be a part of a game to move a turtle in a certain direction, with a particular angular velocity and step size."
   ]
  },
  {
   "cell_type": "code",
   "execution_count": 3,
   "metadata": {},
   "outputs": [],
   "source": [
    "for i in range(len(agt)): #for each agent\n",
    "    agt[i].theta += ws[i]     # Increment the angle of each agent\n",
    "                              #by its angular velocity\n",
    "    agt[i].x += r * sin(agt[i].theta) #Move the agent by the step-size\n",
    "    agt[i].y += r * cos(agt[i].theta) #r in the direction indicated"
   ]
  },
  {
   "cell_type": "markdown",
   "metadata": {},
   "source": [
    "we have used comments to make the code readable.\n",
    "\n",
    "\n",
    "Why not make the code readable instead?"
   ]
  },
  {
   "cell_type": "code",
   "execution_count": 4,
   "metadata": {},
   "outputs": [],
   "source": [
    "for agent in agents:\n",
    "    agent.turn()\n",
    "    agent.move()\n",
    "\n",
    "class Agent:\n",
    "    def turn(self):\n",
    "         self.direction += self.angular_velocity;\n",
    "    def move(self):\n",
    "        self.x += Agent.step_length * sin(self.direction)\n",
    "        self.y += Agent.step_length * cos(self.direction)"
   ]
  },
  {
   "cell_type": "markdown",
   "metadata": {},
   "source": [
    "This is probably better. We are using the name of the functions (_i.e._ `turn`, `move`) instead of comments. Therefore, we've got _self-documenting_ code.\n"
   ]
  },
  {
   "cell_type": "markdown",
   "metadata": {},
   "source": [
    "### Comments which belong in an issue tracker"
   ]
  },
  {
   "cell_type": "code",
   "execution_count": 5,
   "metadata": {},
   "outputs": [],
   "source": [
    "x.clear() # Code crashes here sometimes\n",
    "class Agent:\n",
    "    pass\n",
    "    # TODO: Implement pretty-printer method"
   ]
  },
  {
   "cell_type": "markdown",
   "metadata": {},
   "source": [
    "\n",
    "\n",
    "\n",
    "BUT comments that reference issues in the tracker can be good.\n",
    "\n",
    "E.g.\n",
    "\n",
    "\n"
   ]
  },
  {
   "cell_type": "code",
   "execution_count": 6,
   "metadata": {},
   "outputs": [],
   "source": [
    "if x.safe_to_clear(): # Guard added as temporary workaround for #32\n",
    "    x.clear()"
   ]
  },
  {
   "cell_type": "markdown",
   "metadata": {},
   "source": [
    "\n",
    "\n",
    "\n",
    "is OK. And platforms like GitHub will create a link to it when browsing the code.\n"
   ]
  },
  {
   "cell_type": "markdown",
   "metadata": {},
   "source": [
    "### Comments which only make sense to the author today"
   ]
  },
  {
   "cell_type": "code",
   "execution_count": 7,
   "metadata": {},
   "outputs": [],
   "source": [
    "agent.turn() # Turtle Power!\n",
    "agent.move()\n",
    "agents[:]=[]# Shredder!"
   ]
  },
  {
   "cell_type": "markdown",
   "metadata": {},
   "source": [
    "### Comments which are unpublishable"
   ]
  },
  {
   "cell_type": "code",
   "execution_count": 8,
   "metadata": {},
   "outputs": [],
   "source": [
    "# Stupid supervisor made me write this code\n",
    "# So I did it while very very drunk."
   ]
  },
  {
   "cell_type": "markdown",
   "metadata": {},
   "source": [
    "### Good commenting: pedagogical comments"
   ]
  },
  {
   "cell_type": "markdown",
   "metadata": {},
   "source": [
    "\n",
    "Code that *is* good style, but you're not familiar with, or \n",
    "that colleagues might not be familiar with\n",
    "\n",
    "\n"
   ]
  },
  {
   "cell_type": "code",
   "execution_count": 9,
   "metadata": {},
   "outputs": [],
   "source": [
    "# This is how you define a decorator in python\n",
    "# See https://wiki.python.org/moin/PythonDecorators\n",
    "def double(decorated_function):\n",
    "    # Here, the result function forms a closure over \n",
    "    # the decorated function\n",
    "    def result_function(entry):\n",
    "        return decorated_function(decorated_function(entry))\n",
    "    # The returned result is a function\n",
    "    return result_function\n",
    "\n",
    "@double\n",
    "def try_me_twice():\n",
    "    pass"
   ]
  },
  {
   "cell_type": "markdown",
   "metadata": {},
   "source": [
    "### Good commenting: reasons and definitions"
   ]
  },
  {
   "cell_type": "markdown",
   "metadata": {},
   "source": [
    "\n",
    "Comments which explain coding definitions or reasons for programming choices.\n",
    "\n"
   ]
  },
  {
   "cell_type": "code",
   "execution_count": 10,
   "metadata": {},
   "outputs": [],
   "source": [
    "def __init__(self):\n",
    "    self.angle = 0 # clockwise from +ve y-axis\n",
    "    nonzero_indices = [] # Use sparse model as memory constrained"
   ]
  }
 ],
 "metadata": {
  "jekyll": {
   "display_name": "Comments"
  },
  "kernelspec": {
   "display_name": "Python 3",
   "language": "python",
   "name": "python3"
  },
  "language_info": {
   "codemirror_mode": {
    "name": "ipython",
    "version": 3
   },
   "file_extension": ".py",
   "mimetype": "text/x-python",
   "name": "python",
   "nbconvert_exporter": "python",
   "pygments_lexer": "ipython3",
   "version": "3.7.4"
  }
 },
 "nbformat": 4,
 "nbformat_minor": 1
}
