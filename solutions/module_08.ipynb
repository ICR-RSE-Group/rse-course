{
 "cells": [
  {
   "cell_type": "markdown",
   "id": "1217cfc7",
   "metadata": {},
   "source": [
    "# Module 08"
   ]
  },
  {
   "cell_type": "markdown",
   "id": "bdec541a",
   "metadata": {},
   "source": [
    "## 1) Iterators and generators"
   ]
  },
  {
   "cell_type": "code",
   "execution_count": 8,
   "id": "2bcb16e3",
   "metadata": {},
   "outputs": [],
   "source": [
    "# Using __iter__ and __next__\n",
    "class range2:\n",
    "    def __init__(self, max_counter):\n",
    "        self.max_counter = max_counter\n",
    "        self.counter = 0\n",
    "        \n",
    "    def __iter__(self):\n",
    "        return self\n",
    "    \n",
    "    def __next__(self):\n",
    "        if self.counter < self.max_counter:\n",
    "            counter = self.counter\n",
    "            self.counter += 1\n",
    "            return counter\n",
    "        else:\n",
    "            raise StopIteration"
   ]
  },
  {
   "cell_type": "code",
   "execution_count": 9,
   "id": "36161ff8",
   "metadata": {},
   "outputs": [
    {
     "name": "stdout",
     "output_type": "stream",
     "text": [
      "<__main__.range2 object at 0x110556ce0>\n",
      "(0, 1, 2, 3, 4, 5, 6, 7, 8, 9)\n",
      "0\n",
      "1\n",
      "2\n",
      "3\n",
      "4\n",
      "5\n",
      "6\n",
      "7\n",
      "8\n",
      "9\n"
     ]
    }
   ],
   "source": [
    "# Testing it\n",
    "print(range2(10))\n",
    "print(tuple(range2(10)))\n",
    "for i in range2(10):\n",
    "    print(i)"
   ]
  },
  {
   "cell_type": "code",
   "execution_count": 10,
   "id": "9698a97e",
   "metadata": {},
   "outputs": [],
   "source": [
    "# Using yield\n",
    "def range3(max_counter):\n",
    "    counter = 0\n",
    "    while counter < max_counter:\n",
    "        yield counter\n",
    "        counter += 1"
   ]
  },
  {
   "cell_type": "code",
   "execution_count": 11,
   "id": "86f1a60b",
   "metadata": {},
   "outputs": [
    {
     "name": "stdout",
     "output_type": "stream",
     "text": [
      "<generator object range3 at 0x11061cac0>\n",
      "(0, 1, 2, 3, 4, 5, 6, 7, 8, 9)\n",
      "0\n",
      "1\n",
      "2\n",
      "3\n",
      "4\n",
      "5\n",
      "6\n",
      "7\n",
      "8\n",
      "9\n"
     ]
    }
   ],
   "source": [
    "# Testing it\n",
    "print(range3(10))\n",
    "print(tuple(range3(10)))\n",
    "for i in range3(10):\n",
    "    print(i)"
   ]
  },
  {
   "cell_type": "code",
   "execution_count": null,
   "id": "ccf62714",
   "metadata": {},
   "outputs": [],
   "source": []
  }
 ],
 "metadata": {
  "kernelspec": {
   "display_name": "Python 3 (ipykernel)",
   "language": "python",
   "name": "python3"
  },
  "language_info": {
   "codemirror_mode": {
    "name": "ipython",
    "version": 3
   },
   "file_extension": ".py",
   "mimetype": "text/x-python",
   "name": "python",
   "nbconvert_exporter": "python",
   "pygments_lexer": "ipython3",
   "version": "3.10.8"
  }
 },
 "nbformat": 4,
 "nbformat_minor": 5
}
